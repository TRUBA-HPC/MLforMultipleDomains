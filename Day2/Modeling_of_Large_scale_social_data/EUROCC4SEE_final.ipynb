{
 "cells": [
  {
   "cell_type": "markdown",
   "metadata": {
    "id": "vN3nyC6Li7Ts"
   },
   "source": [
    "# NetworKit for large-scale networks analysis"
   ]
  },
  {
   "cell_type": "markdown",
   "metadata": {},
   "source": [
    "## Comparison of networKit and networkx"
   ]
  },
  {
   "cell_type": "code",
   "execution_count": 1,
   "metadata": {
    "colab": {
     "base_uri": "https://localhost:8080/"
    },
    "executionInfo": {
     "elapsed": 314,
     "status": "ok",
     "timestamp": 1728907382476,
     "user": {
      "displayName": "Marija Mitrovic Dankulov",
      "userId": "08541770027322135832"
     },
     "user_tz": -120
    },
    "id": "5-qChzBzga63",
    "outputId": "8221361a-5400-42fd-f736-90bb299fdba2"
   },
   "outputs": [
    {
     "data": {
      "text/html": [
       "\n",
       "\t\t\t<script type=\"text/javascript\">\n",
       "\t\t\t<!--\n",
       "\t\t\t\t\n",
       "\t\t\t{\n",
       "\t\t\t\tvar element = document.getElementById('NetworKit_script');\n",
       "\t\t\t\tif (element) {\n",
       "\t\t\t\t\telement.parentNode.removeChild(element);\n",
       "\t\t\t\t}\n",
       "\t\t\t\telement = document.createElement('script');\n",
       "\t\t\t\telement.type = 'text/javascript';\n",
       "\t\t\t\telement.innerHTML = 'function NetworKit_pageEmbed(id) { var i, j; var elements; elements = document.getElementById(id).getElementsByClassName(\"Plot\"); for (i=0; i<elements.length; i++) { elements[i].id = id + \"_Plot_\" + i; var data = elements[i].getAttribute(\"data-image\").split(\"|\"); elements[i].removeAttribute(\"data-image\"); var content = \"<div class=\\\\\"Image\\\\\" id=\\\\\"\" + elements[i].id + \"_Image\\\\\" />\"; elements[i].innerHTML = content; elements[i].setAttribute(\"data-image-index\", 0); elements[i].setAttribute(\"data-image-length\", data.length); for (j=0; j<data.length; j++) { elements[i].setAttribute(\"data-image-\" + j, data[j]); } NetworKit_plotUpdate(elements[i]); elements[i].onclick = function (e) { NetworKit_overlayShow((e.target) ? e.target : e.srcElement); } } elements = document.getElementById(id).getElementsByClassName(\"HeatCell\"); for (i=0; i<elements.length; i++) { var data = parseFloat(elements[i].getAttribute(\"data-heat\")); var color = \"#00FF00\"; if (data <= 1 && data > 0) { color = \"hsla(0, 100%, 75%, \" + (data) + \")\"; } else if (data <= 0 && data >= -1) { color = \"hsla(240, 100%, 75%, \" + (-data) + \")\"; } elements[i].style.backgroundColor = color; } elements = document.getElementById(id).getElementsByClassName(\"Details\"); for (i=0; i<elements.length; i++) { elements[i].setAttribute(\"data-title\", \"-\"); NetworKit_toggleDetails(elements[i]); elements[i].onclick = function (e) { NetworKit_toggleDetails((e.target) ? e.target : e.srcElement); } } elements = document.getElementById(id).getElementsByClassName(\"MathValue\"); for (i=elements.length-1; i>=0; i--) { value = elements[i].innerHTML.trim(); if (value === \"nan\") { elements[i].parentNode.innerHTML = \"\" } } elements = document.getElementById(id).getElementsByClassName(\"SubCategory\"); for (i=elements.length-1; i>=0; i--) { value = elements[i].innerHTML.trim(); if (value === \"\") { elements[i].parentNode.removeChild(elements[i]) } } elements = document.getElementById(id).getElementsByClassName(\"Category\"); for (i=elements.length-1; i>=0; i--) { value = elements[i].innerHTML.trim(); if (value === \"\") { elements[i].parentNode.removeChild(elements[i]) } } var isFirefox = false; try { isFirefox = typeof InstallTrigger !== \"undefined\"; } catch (e) {} if (!isFirefox) { alert(\"Currently the function\\'s output is only fully supported by Firefox.\"); } } function NetworKit_plotUpdate(source) { var index = source.getAttribute(\"data-image-index\"); var data = source.getAttribute(\"data-image-\" + index); var image = document.getElementById(source.id + \"_Image\"); image.style.backgroundImage = \"url(\" + data + \")\"; } function NetworKit_showElement(id, show) { var element = document.getElementById(id); element.style.display = (show) ? \"block\" : \"none\"; } function NetworKit_overlayShow(source) { NetworKit_overlayUpdate(source); NetworKit_showElement(\"NetworKit_Overlay\", true); } function NetworKit_overlayUpdate(source) { document.getElementById(\"NetworKit_Overlay_Title\").innerHTML = source.title; var index = source.getAttribute(\"data-image-index\"); var data = source.getAttribute(\"data-image-\" + index); var image = document.getElementById(\"NetworKit_Overlay_Image\"); image.setAttribute(\"data-id\", source.id); image.style.backgroundImage = \"url(\" + data + \")\"; var link = document.getElementById(\"NetworKit_Overlay_Toolbar_Bottom_Save\"); link.href = data; link.download = source.title + \".svg\"; } function NetworKit_overlayImageShift(delta) { var image = document.getElementById(\"NetworKit_Overlay_Image\"); var source = document.getElementById(image.getAttribute(\"data-id\")); var index = parseInt(source.getAttribute(\"data-image-index\")); var length = parseInt(source.getAttribute(\"data-image-length\")); var index = (index+delta) % length; if (index < 0) { index = length + index; } source.setAttribute(\"data-image-index\", index); NetworKit_overlayUpdate(source); } function NetworKit_toggleDetails(source) { var childs = source.children; var show = false; if (source.getAttribute(\"data-title\") == \"-\") { source.setAttribute(\"data-title\", \"+\"); show = false; } else { source.setAttribute(\"data-title\", \"-\"); show = true; } for (i=0; i<childs.length; i++) { if (show) { childs[i].style.display = \"block\"; } else { childs[i].style.display = \"none\"; } } }';\n",
       "\t\t\t\telement.setAttribute('id', 'NetworKit_script');\n",
       "\t\t\t\tdocument.head.appendChild(element);\n",
       "\t\t\t}\n",
       "\t\t\n",
       "\t\t\t\t\n",
       "\t\t\t{\n",
       "\t\t\t\tvar element = document.getElementById('NetworKit_style');\n",
       "\t\t\t\tif (element) {\n",
       "\t\t\t\t\telement.parentNode.removeChild(element);\n",
       "\t\t\t\t}\n",
       "\t\t\t\telement = document.createElement('style');\n",
       "\t\t\t\telement.type = 'text/css';\n",
       "\t\t\t\telement.innerHTML = '.NetworKit_Page { font-family: Arial, Helvetica, sans-serif; font-size: 14px; } .NetworKit_Page .Value:before { font-family: Arial, Helvetica, sans-serif; font-size: 1.05em; content: attr(data-title) \":\"; margin-left: -2.5em; padding-right: 0.5em; } .NetworKit_Page .Details .Value:before { display: block; } .NetworKit_Page .Value { font-family: monospace; white-space: pre; padding-left: 2.5em; white-space: -moz-pre-wrap !important; white-space: -pre-wrap; white-space: -o-pre-wrap; white-space: pre-wrap; word-wrap: break-word; tab-size: 4; -moz-tab-size: 4; } .NetworKit_Page .Category { clear: both; padding-left: 1em; margin-bottom: 1.5em; } .NetworKit_Page .Category:before { content: attr(data-title); font-size: 1.75em; display: block; margin-left: -0.8em; margin-bottom: 0.5em; } .NetworKit_Page .SubCategory { margin-bottom: 1.5em; padding-left: 1em; } .NetworKit_Page .SubCategory:before { font-size: 1.6em; display: block; margin-left: -0.8em; margin-bottom: 0.5em; } .NetworKit_Page .SubCategory[data-title]:before { content: attr(data-title); } .NetworKit_Page .Block { display: block; } .NetworKit_Page .Block:after { content: \".\"; visibility: hidden; display: block; height: 0; clear: both; } .NetworKit_Page .Block .Thumbnail_Overview, .NetworKit_Page .Block .Thumbnail_ScatterPlot { width: 260px; float: left; } .NetworKit_Page .Block .Thumbnail_Overview img, .NetworKit_Page .Block .Thumbnail_ScatterPlot img { width: 260px; } .NetworKit_Page .Block .Thumbnail_Overview:before, .NetworKit_Page .Block .Thumbnail_ScatterPlot:before { display: block; text-align: center; font-weight: bold; } .NetworKit_Page .Block .Thumbnail_Overview:before { content: attr(data-title); } .NetworKit_Page .HeatCell { font-family: \"Courier New\", Courier, monospace; cursor: pointer; } .NetworKit_Page .HeatCell, .NetworKit_Page .HeatCellName { display: inline; padding: 0.1em; margin-right: 2px; background-color: #FFFFFF } .NetworKit_Page .HeatCellName { margin-left: 0.25em; } .NetworKit_Page .HeatCell:before { content: attr(data-heat); display: inline-block; color: #000000; width: 4em; text-align: center; } .NetworKit_Page .Measure { clear: both; } .NetworKit_Page .Measure .Details { cursor: pointer; } .NetworKit_Page .Measure .Details:before { content: \"[\" attr(data-title) \"]\"; display: block; } .NetworKit_Page .Measure .Details .Value { border-left: 1px dotted black; margin-left: 0.4em; padding-left: 3.5em; pointer-events: none; } .NetworKit_Page .Measure .Details .Spacer:before { content: \".\"; opacity: 0.0; pointer-events: none; } .NetworKit_Page .Measure .Plot { width: 440px; height: 440px; cursor: pointer; float: left; margin-left: -0.9em; margin-right: 20px; } .NetworKit_Page .Measure .Plot .Image { background-repeat: no-repeat; background-position: center center; background-size: contain; height: 100%; pointer-events: none; } .NetworKit_Page .Measure .Stat { width: 500px; float: left; } .NetworKit_Page .Measure .Stat .Group { padding-left: 1.25em; margin-bottom: 0.75em; } .NetworKit_Page .Measure .Stat .Group .Title { font-size: 1.1em; display: block; margin-bottom: 0.3em; margin-left: -0.75em; border-right-style: dotted; border-right-width: 1px; border-bottom-style: dotted; border-bottom-width: 1px; background-color: #D0D0D0; padding-left: 0.2em; } .NetworKit_Page .Measure .Stat .Group .List { -webkit-column-count: 3; -moz-column-count: 3; column-count: 3; } .NetworKit_Page .Measure .Stat .Group .List .Entry { position: relative; line-height: 1.75em; } .NetworKit_Page .Measure .Stat .Group .List .Entry[data-tooltip]:before { position: absolute; left: 0; top: -40px; background-color: #808080; color: #ffffff; height: 30px; line-height: 30px; border-radius: 5px; padding: 0 15px; content: attr(data-tooltip); white-space: nowrap; display: none; } .NetworKit_Page .Measure .Stat .Group .List .Entry[data-tooltip]:after { position: absolute; left: 15px; top: -10px; border-top: 7px solid #808080; border-left: 7px solid transparent; border-right: 7px solid transparent; content: \"\"; display: none; } .NetworKit_Page .Measure .Stat .Group .List .Entry[data-tooltip]:hover:after, .NetworKit_Page .Measure .Stat .Group .List .Entry[data-tooltip]:hover:before { display: block; } .NetworKit_Page .Measure .Stat .Group .List .Entry .MathValue { font-family: \"Courier New\", Courier, monospace; } .NetworKit_Page .Measure:after { content: \".\"; visibility: hidden; display: block; height: 0; clear: both; } .NetworKit_Page .PartitionPie { clear: both; } .NetworKit_Page .PartitionPie img { width: 600px; } #NetworKit_Overlay { left: 0px; top: 0px; display: none; position: absolute; width: 100%; height: 100%; background-color: rgba(0,0,0,0.6); z-index: 1000; } #NetworKit_Overlay_Title { position: absolute; color: white; transform: rotate(-90deg); width: 32em; height: 32em; padding-right: 0.5em; padding-top: 0.5em; text-align: right; font-size: 40px; } #NetworKit_Overlay .button { background: white; cursor: pointer; } #NetworKit_Overlay .button:before { size: 13px; display: inline-block; text-align: center; margin-top: 0.5em; margin-bottom: 0.5em; width: 1.5em; height: 1.5em; } #NetworKit_Overlay .icon-close:before { content: \"X\"; } #NetworKit_Overlay .icon-previous:before { content: \"P\"; } #NetworKit_Overlay .icon-next:before { content: \"N\"; } #NetworKit_Overlay .icon-save:before { content: \"S\"; } #NetworKit_Overlay_Toolbar_Top, #NetworKit_Overlay_Toolbar_Bottom { position: absolute; width: 40px; right: 13px; text-align: right; z-index: 1100; } #NetworKit_Overlay_Toolbar_Top { top: 0.5em; } #NetworKit_Overlay_Toolbar_Bottom { Bottom: 0.5em; } #NetworKit_Overlay_ImageContainer { position: absolute; top: 5%; left: 5%; height: 90%; width: 90%; background-repeat: no-repeat; background-position: center center; background-size: contain; } #NetworKit_Overlay_Image { height: 100%; width: 100%; background-repeat: no-repeat; background-position: center center; background-size: contain; }';\n",
       "\t\t\t\telement.setAttribute('id', 'NetworKit_style');\n",
       "\t\t\t\tdocument.head.appendChild(element);\n",
       "\t\t\t}\n",
       "\t\t\n",
       "\t\t\t\t\n",
       "\t\t\t{\n",
       "\t\t\t\tvar element = document.getElementById('NetworKit_Overlay');\n",
       "\t\t\t\tif (element) {\n",
       "\t\t\t\t\telement.parentNode.removeChild(element);\n",
       "\t\t\t\t}\n",
       "\t\t\t\telement = document.createElement('div');\n",
       "\t\t\t\telement.innerHTML = '<div id=\"NetworKit_Overlay_Toolbar_Top\"><div class=\"button icon-close\" id=\"NetworKit_Overlay_Close\" /></div><div id=\"NetworKit_Overlay_Title\" /> <div id=\"NetworKit_Overlay_ImageContainer\"> <div id=\"NetworKit_Overlay_Image\" /> </div> <div id=\"NetworKit_Overlay_Toolbar_Bottom\"> <div class=\"button icon-previous\" onclick=\"NetworKit_overlayImageShift(-1)\" /> <div class=\"button icon-next\" onclick=\"NetworKit_overlayImageShift(1)\" /> <a id=\"NetworKit_Overlay_Toolbar_Bottom_Save\"><div class=\"button icon-save\" /></a> </div>';\n",
       "\t\t\t\telement.setAttribute('id', 'NetworKit_Overlay');\n",
       "\t\t\t\tdocument.body.appendChild(element);\n",
       "\t\t\t\tdocument.getElementById('NetworKit_Overlay_Close').onclick = function (e) {\n",
       "\t\t\t\t\tdocument.getElementById('NetworKit_Overlay').style.display = 'none';\n",
       "\t\t\t\t}\n",
       "\t\t\t}\n",
       "\t\t\n",
       "\t\t\t-->\n",
       "\t\t\t</script>\n",
       "\t\t"
      ]
     },
     "metadata": {},
     "output_type": "display_data"
    }
   ],
   "source": [
    "import networkx as nx\n",
    "import networkit as nk\n",
    "import matplotlib.pyplot as plt\n",
    "import numpy as np\n",
    "import scipy as sc\n",
    "import pandas as pd"
   ]
  },
  {
   "cell_type": "code",
   "execution_count": null,
   "metadata": {
    "colab": {
     "base_uri": "https://localhost:8080/"
    },
    "executionInfo": {
     "elapsed": 2,
     "status": "ok",
     "timestamp": 1728907374396,
     "user": {
      "displayName": "Marija Mitrovic Dankulov",
      "userId": "08541770027322135832"
     },
     "user_tz": -120
    },
    "id": "_eH9e_yzrHCJ",
    "outputId": "1df8f071-e4af-4002-c359-9198f5cce764"
   },
   "outputs": [],
   "source": [
    "%load_ext autotime"
   ]
  },
  {
   "cell_type": "code",
   "execution_count": 7,
   "metadata": {
    "colab": {
     "base_uri": "https://localhost:8080/"
    },
    "executionInfo": {
     "elapsed": 5,
     "status": "ok",
     "timestamp": 1728722200453,
     "user": {
      "displayName": "Marija Mitrovic Dankulov",
      "userId": "08541770027322135832"
     },
     "user_tz": -120
    },
    "id": "JXg_9Bptmniq",
    "outputId": "79cffef8-f437-4f8f-a890-ebd16dc5adb8"
   },
   "outputs": [
    {
     "name": "stdout",
     "output_type": "stream",
     "text": [
      "time: 3.16 s (started: 2024-10-15 09:53:37 +03:00)\n"
     ]
    }
   ],
   "source": [
    "g = nk.generators.HyperbolicGenerator(5000000).generate()\n"
   ]
  },
  {
   "cell_type": "code",
   "execution_count": 8,
   "metadata": {
    "colab": {
     "base_uri": "https://localhost:8080/"
    },
    "executionInfo": {
     "elapsed": 45694,
     "status": "ok",
     "timestamp": 1728722058689,
     "user": {
      "displayName": "Marija Mitrovic Dankulov",
      "userId": "08541770027322135832"
     },
     "user_tz": -120
    },
    "id": "Kh2h6NOim40I",
    "outputId": "814d1c87-a493-49f0-bff3-82cbc8bcb1f8"
   },
   "outputs": [
    {
     "name": "stdout",
     "output_type": "stream",
     "text": [
      "time: 28.5 s (started: 2024-10-15 09:53:40 +03:00)\n"
     ]
    }
   ],
   "source": [
    "G = nk.nxadapter.nk2nx(g)"
   ]
  },
  {
   "cell_type": "code",
   "execution_count": 10,
   "metadata": {
    "colab": {
     "base_uri": "https://localhost:8080/"
    },
    "executionInfo": {
     "elapsed": 4723,
     "status": "ok",
     "timestamp": 1728722063407,
     "user": {
      "displayName": "Marija Mitrovic Dankulov",
      "userId": "08541770027322135832"
     },
     "user_tz": -120
    },
    "id": "puubwE4SoY5J",
    "outputId": "dfba2607-7540-4376-e669-7ee9e5be1e7e"
   },
   "outputs": [
    {
     "name": "stdout",
     "output_type": "stream",
     "text": [
      "Number of connected components 204909\n",
      "time: 3.49 s (started: 2024-10-15 09:54:12 +03:00)\n"
     ]
    }
   ],
   "source": [
    "nc=nx.number_connected_components(G)\n",
    "print(\"Number of connected components\", nc)"
   ]
  },
  {
   "cell_type": "code",
   "execution_count": 11,
   "metadata": {
    "colab": {
     "base_uri": "https://localhost:8080/"
    },
    "executionInfo": {
     "elapsed": 377,
     "status": "ok",
     "timestamp": 1728722063781,
     "user": {
      "displayName": "Marija Mitrovic Dankulov",
      "userId": "08541770027322135832"
     },
     "user_tz": -120
    },
    "id": "U6mdKrlWomoe",
    "outputId": "a8da9e38-d238-405a-9f10-0acb81239415"
   },
   "outputs": [
    {
     "name": "stdout",
     "output_type": "stream",
     "text": [
      "Number of connected components 204909\n",
      "time: 357 ms (started: 2024-10-15 09:54:15 +03:00)\n"
     ]
    }
   ],
   "source": [
    "cc = nk.components.ConnectedComponents(g)\n",
    "cc.run()\n",
    "print(\"Number of connected components\", cc.numberOfComponents())"
   ]
  },
  {
   "cell_type": "code",
   "execution_count": 12,
   "metadata": {
    "colab": {
     "base_uri": "https://localhost:8080/"
    },
    "executionInfo": {
     "elapsed": 5868,
     "status": "ok",
     "timestamp": 1728722069647,
     "user": {
      "displayName": "Marija Mitrovic Dankulov",
      "userId": "08541770027322135832"
     },
     "user_tz": -120
    },
    "id": "UghSMBUltv5s",
    "outputId": "c7aa26bf-511f-43d8-d584-e58a926c8a04"
   },
   "outputs": [
    {
     "name": "stdout",
     "output_type": "stream",
     "text": [
      "Size of largest component 3200778\n",
      "time: 3.5 s (started: 2024-10-15 09:54:16 +03:00)\n"
     ]
    }
   ],
   "source": [
    "largest_cc = max(nx.connected_components(G), key=len)\n",
    "print(\"Size of largest component\", len(largest_cc))"
   ]
  },
  {
   "cell_type": "code",
   "execution_count": 13,
   "metadata": {
    "colab": {
     "base_uri": "https://localhost:8080/"
    },
    "executionInfo": {
     "elapsed": 1855,
     "status": "ok",
     "timestamp": 1728722071498,
     "user": {
      "displayName": "Marija Mitrovic Dankulov",
      "userId": "08541770027322135832"
     },
     "user_tz": -120
    },
    "id": "xDWD6FrrtEjx",
    "outputId": "c183dc13-2c22-47b9-abde-a01f2c8fed3b"
   },
   "outputs": [
    {
     "name": "stdout",
     "output_type": "stream",
     "text": [
      "0\n",
      "Size of largest component 51\n",
      "time: 372 ms (started: 2024-10-15 09:54:19 +03:00)\n"
     ]
    }
   ],
   "source": [
    "sortedDict = sorted(cc.getComponentSizes())\n",
    "print(sortedDict[0])\n",
    "scc=cc.getComponentSizes()\n",
    "print(\"Size of largest component\", scc[0])"
   ]
  },
  {
   "cell_type": "code",
   "execution_count": 14,
   "metadata": {
    "colab": {
     "base_uri": "https://localhost:8080/"
    },
    "executionInfo": {
     "elapsed": 13,
     "status": "ok",
     "timestamp": 1728722071498,
     "user": {
      "displayName": "Marija Mitrovic Dankulov",
      "userId": "08541770027322135832"
     },
     "user_tz": -120
    },
    "id": "__Bl2bF2ugec",
    "outputId": "4063b6e6-f54b-4df4-ec86-ff3b4788c44a"
   },
   "outputs": [
    {
     "data": {
      "text/plain": [
       "0.7822895856857466"
      ]
     },
     "execution_count": 14,
     "metadata": {},
     "output_type": "execute_result"
    },
    {
     "name": "stdout",
     "output_type": "stream",
     "text": [
      "time: 27 ms (started: 2024-10-15 09:54:20 +03:00)\n"
     ]
    }
   ],
   "source": [
    "nk.globals.clustering(g)"
   ]
  },
  {
   "cell_type": "code",
   "execution_count": 15,
   "metadata": {
    "colab": {
     "base_uri": "https://localhost:8080/",
     "height": 304
    },
    "executionInfo": {
     "elapsed": 63898,
     "status": "error",
     "timestamp": 1728722135390,
     "user": {
      "displayName": "Marija Mitrovic Dankulov",
      "userId": "08541770027322135832"
     },
     "user_tz": -120
    },
    "id": "LKp4IdYtvYxS",
    "outputId": "2fa8011a-e626-42db-cfea-51867afbc7f3"
   },
   "outputs": [
    {
     "data": {
      "text/plain": [
       "0.7180866565726463"
      ]
     },
     "execution_count": 15,
     "metadata": {},
     "output_type": "execute_result"
    },
    {
     "name": "stdout",
     "output_type": "stream",
     "text": [
      "time: 1min 21s (started: 2024-10-15 09:54:20 +03:00)\n"
     ]
    }
   ],
   "source": [
    "nx.average_clustering(G)"
   ]
  },
  {
   "cell_type": "markdown",
   "metadata": {
    "id": "6rK8s4DL5O00"
   },
   "source": [
    "# Network diameter"
   ]
  },
  {
   "cell_type": "code",
   "execution_count": 16,
   "metadata": {
    "colab": {
     "base_uri": "https://localhost:8080/",
     "height": 159
    },
    "executionInfo": {
     "elapsed": 4,
     "status": "error",
     "timestamp": 1728500912938,
     "user": {
      "displayName": "Marija Mitrovic Dankulov",
      "userId": "08541770027322135832"
     },
     "user_tz": -120
    },
    "id": "OEvM-ZtL3tKe",
    "outputId": "3f8c8659-3e0c-4c1d-db77-c42798cb0c43"
   },
   "outputs": [
    {
     "data": {
      "text/plain": [
       "3200778"
      ]
     },
     "execution_count": 16,
     "metadata": {},
     "output_type": "execute_result"
    },
    {
     "name": "stdout",
     "output_type": "stream",
     "text": [
      "time: 2.94 s (started: 2024-10-15 09:57:13 +03:00)\n"
     ]
    }
   ],
   "source": [
    "newGraph = nk.components.ConnectedComponents.extractLargestConnectedComponent(g, True)\n",
    "newGraph.numberOfNodes()"
   ]
  },
  {
   "cell_type": "code",
   "execution_count": null,
   "metadata": {
    "colab": {
     "base_uri": "https://localhost:8080/"
    },
    "executionInfo": {
     "elapsed": 3497,
     "status": "ok",
     "timestamp": 1728495553603,
     "user": {
      "displayName": "Marija Mitrovic Dankulov",
      "userId": "08541770027322135832"
     },
     "user_tz": -120
    },
    "id": "3OJA51T25adO",
    "outputId": "d046c350-da5e-473a-85a5-ae5ff9c6676d"
   },
   "outputs": [
    {
     "name": "stdout",
     "output_type": "stream",
     "text": [
      "Network diameter (64, 0)\n",
      "time: 3.59 s (started: 2024-10-09 17:39:09 +00:00)\n"
     ]
    }
   ],
   "source": [
    "diam = nk.distance.Diameter(newGraph,algo=1)\n",
    "diam.run()\n",
    "print(\"Network diameter\", diam.getDiameter())"
   ]
  },
  {
   "cell_type": "code",
   "execution_count": null,
   "metadata": {
    "colab": {
     "base_uri": "https://localhost:8080/"
    },
    "executionInfo": {
     "elapsed": 405,
     "status": "ok",
     "timestamp": 1728495554003,
     "user": {
      "displayName": "Marija Mitrovic Dankulov",
      "userId": "08541770027322135832"
     },
     "user_tz": -120
    },
    "id": "3MBX9lHJ5lm3",
    "outputId": "442467f0-83d6-4501-bbe9-80f494718181"
   },
   "outputs": [
    {
     "name": "stdout",
     "output_type": "stream",
     "text": [
      "time: 467 ms (started: 2024-10-09 17:39:13 +00:00)\n"
     ]
    }
   ],
   "source": [
    "newG=G.subgraph(largest_cc)"
   ]
  },
  {
   "cell_type": "code",
   "execution_count": null,
   "metadata": {
    "colab": {
     "base_uri": "https://localhost:8080/"
    },
    "executionInfo": {
     "elapsed": 65531,
     "status": "ok",
     "timestamp": 1728495753626,
     "user": {
      "displayName": "Marija Mitrovic Dankulov",
      "userId": "08541770027322135832"
     },
     "user_tz": -120
    },
    "id": "h-feLHXbXcXV",
    "outputId": "08c793e4-2d96-40e8-f00f-65dd776a8bdb"
   },
   "outputs": [
    {
     "name": "stdout",
     "output_type": "stream",
     "text": [
      "Assortativity index of network is  -0.0011905012357756998\n",
      "time: 1min 5s (started: 2024-10-09 17:41:27 +00:00)\n"
     ]
    }
   ],
   "source": [
    "r = nx.degree_assortativity_coefficient(G)\n",
    "print('Assortativity index of network is ', r)"
   ]
  },
  {
   "cell_type": "code",
   "execution_count": null,
   "metadata": {
    "colab": {
     "base_uri": "https://localhost:8080/"
    },
    "executionInfo": {
     "elapsed": 1422,
     "status": "ok",
     "timestamp": 1728496710213,
     "user": {
      "displayName": "Marija Mitrovic Dankulov",
      "userId": "08541770027322135832"
     },
     "user_tz": -120
    },
    "id": "s3MKAHwzXygy",
    "outputId": "8b8c869d-986d-4a61-fdf1-bc4f89f8417f"
   },
   "outputs": [
    {
     "name": "stdout",
     "output_type": "stream",
     "text": [
      "Assorativity index -0.0011904982077892304\n",
      "time: 951 ms (started: 2024-10-09 17:58:28 +00:00)\n"
     ]
    }
   ],
   "source": [
    "dd = nk.centrality.DegreeCentrality(g).run().scores()\n",
    "assor=nk.correlation.Assortativity(g,dd)\n",
    "assor.run()\n",
    "print(\"Assorativity index\", assor.getCoefficient())"
   ]
  },
  {
   "cell_type": "markdown",
   "metadata": {
    "id": "cTvdGEG_bvyV"
   },
   "source": [
    "# Analysis of real network\n",
    "**Stanford Large Network Dataset Collection**\n",
    "https://snap.stanford.edu/data/"
   ]
  },
  {
   "cell_type": "markdown",
   "metadata": {
    "id": "pb5BLrfIfbc9"
   },
   "source": [
    "## LiveJournal social network and ground-truth communities\n",
    "LiveJournal is a free on-line blogging community where users declare friendship each other. LiveJournal also allows users form a group which other members can then join. We consider such user-defined groups as ground-truth communities. We provide the LiveJournal friendship social network and ground-truth communities."
   ]
  },
  {
   "cell_type": "code",
   "execution_count": 17,
   "metadata": {
    "colab": {
     "base_uri": "https://localhost:8080/"
    },
    "executionInfo": {
     "elapsed": 10440,
     "status": "ok",
     "timestamp": 1728902026422,
     "user": {
      "displayName": "Marija Mitrovic Dankulov",
      "userId": "08541770027322135832"
     },
     "user_tz": -120
    },
    "id": "1wmincqsbuG9",
    "outputId": "c895e0dd-e3cb-41eb-b5f9-290f696d7fb9"
   },
   "outputs": [
    {
     "name": "stdout",
     "output_type": "stream",
     "text": [
      "time: 3.72 s (started: 2024-10-15 09:57:54 +03:00)\n"
     ]
    }
   ],
   "source": [
    "df=pd.read_csv(\"LiveJournal_edges.csv\", sep=\",\")"
   ]
  },
  {
   "cell_type": "code",
   "execution_count": 18,
   "metadata": {
    "colab": {
     "base_uri": "https://localhost:8080/",
     "height": 224
    },
    "executionInfo": {
     "elapsed": 14,
     "status": "ok",
     "timestamp": 1728718947879,
     "user": {
      "displayName": "Marija Mitrovic Dankulov",
      "userId": "08541770027322135832"
     },
     "user_tz": -120
    },
    "id": "T1GLzOtxTE20",
    "outputId": "8b1b2d73-9d00-4cfb-8278-dfc688cfc990"
   },
   "outputs": [
    {
     "data": {
      "text/html": [
       "<div>\n",
       "<style scoped>\n",
       "    .dataframe tbody tr th:only-of-type {\n",
       "        vertical-align: middle;\n",
       "    }\n",
       "\n",
       "    .dataframe tbody tr th {\n",
       "        vertical-align: top;\n",
       "    }\n",
       "\n",
       "    .dataframe thead th {\n",
       "        text-align: right;\n",
       "    }\n",
       "</style>\n",
       "<table border=\"1\" class=\"dataframe\">\n",
       "  <thead>\n",
       "    <tr style=\"text-align: right;\">\n",
       "      <th></th>\n",
       "      <th>Source</th>\n",
       "      <th>Target</th>\n",
       "    </tr>\n",
       "  </thead>\n",
       "  <tbody>\n",
       "    <tr>\n",
       "      <th>0</th>\n",
       "      <td>0</td>\n",
       "      <td>1</td>\n",
       "    </tr>\n",
       "    <tr>\n",
       "      <th>1</th>\n",
       "      <td>0</td>\n",
       "      <td>2</td>\n",
       "    </tr>\n",
       "    <tr>\n",
       "      <th>2</th>\n",
       "      <td>0</td>\n",
       "      <td>31</td>\n",
       "    </tr>\n",
       "    <tr>\n",
       "      <th>3</th>\n",
       "      <td>0</td>\n",
       "      <td>73</td>\n",
       "    </tr>\n",
       "    <tr>\n",
       "      <th>4</th>\n",
       "      <td>0</td>\n",
       "      <td>80</td>\n",
       "    </tr>\n",
       "  </tbody>\n",
       "</table>\n",
       "</div>"
      ],
      "text/plain": [
       "   Source  Target\n",
       "0       0       1\n",
       "1       0       2\n",
       "2       0      31\n",
       "3       0      73\n",
       "4       0      80"
      ]
     },
     "execution_count": 18,
     "metadata": {},
     "output_type": "execute_result"
    },
    {
     "name": "stdout",
     "output_type": "stream",
     "text": [
      "time: 108 ms (started: 2024-10-15 09:57:59 +03:00)\n"
     ]
    }
   ],
   "source": [
    "df.head()"
   ]
  },
  {
   "cell_type": "code",
   "execution_count": 19,
   "metadata": {
    "colab": {
     "base_uri": "https://localhost:8080/"
    },
    "executionInfo": {
     "elapsed": 11,
     "status": "ok",
     "timestamp": 1728718947880,
     "user": {
      "displayName": "Marija Mitrovic Dankulov",
      "userId": "08541770027322135832"
     },
     "user_tz": -120
    },
    "id": "68yUm6tFTWl5",
    "outputId": "6d8d0701-508d-43e1-d998-081dfc28ace9"
   },
   "outputs": [
    {
     "data": {
      "text/plain": [
       "34681189"
      ]
     },
     "execution_count": 19,
     "metadata": {},
     "output_type": "execute_result"
    },
    {
     "name": "stdout",
     "output_type": "stream",
     "text": [
      "time: 3.71 ms (started: 2024-10-15 09:58:00 +03:00)\n"
     ]
    }
   ],
   "source": [
    "len(df)"
   ]
  },
  {
   "cell_type": "code",
   "execution_count": 21,
   "metadata": {
    "colab": {
     "base_uri": "https://localhost:8080/"
    },
    "executionInfo": {
     "elapsed": 3805,
     "status": "ok",
     "timestamp": 1728718951676,
     "user": {
      "displayName": "Marija Mitrovic Dankulov",
      "userId": "08541770027322135832"
     },
     "user_tz": -120
    },
    "id": "_69odTytmeW7",
    "outputId": "d227c976-45df-4152-b087-1776dcc6f24c"
   },
   "outputs": [
    {
     "name": "stdout",
     "output_type": "stream",
     "text": [
      "time: 758 ms (started: 2024-10-15 09:58:07 +03:00)\n"
     ]
    }
   ],
   "source": [
    "dfC=pd.read_csv(\"LiveJournal_community.csv\", sep=\",\")"
   ]
  },
  {
   "cell_type": "code",
   "execution_count": 22,
   "metadata": {
    "colab": {
     "base_uri": "https://localhost:8080/",
     "height": 224
    },
    "executionInfo": {
     "elapsed": 35,
     "status": "ok",
     "timestamp": 1728718951677,
     "user": {
      "displayName": "Marija Mitrovic Dankulov",
      "userId": "08541770027322135832"
     },
     "user_tz": -120
    },
    "id": "h1f5vrtjoeCc",
    "outputId": "e98263c3-8ae0-435f-e353-f54ca8d3a0ff"
   },
   "outputs": [
    {
     "data": {
      "text/html": [
       "<div>\n",
       "<style scoped>\n",
       "    .dataframe tbody tr th:only-of-type {\n",
       "        vertical-align: middle;\n",
       "    }\n",
       "\n",
       "    .dataframe tbody tr th {\n",
       "        vertical-align: top;\n",
       "    }\n",
       "\n",
       "    .dataframe thead th {\n",
       "        text-align: right;\n",
       "    }\n",
       "</style>\n",
       "<table border=\"1\" class=\"dataframe\">\n",
       "  <thead>\n",
       "    <tr style=\"text-align: right;\">\n",
       "      <th></th>\n",
       "      <th>NodeId</th>\n",
       "      <th>Community</th>\n",
       "    </tr>\n",
       "  </thead>\n",
       "  <tbody>\n",
       "    <tr>\n",
       "      <th>0</th>\n",
       "      <td>734306</td>\n",
       "      <td>1</td>\n",
       "    </tr>\n",
       "    <tr>\n",
       "      <th>1</th>\n",
       "      <td>734309</td>\n",
       "      <td>1</td>\n",
       "    </tr>\n",
       "    <tr>\n",
       "      <th>2</th>\n",
       "      <td>1164674</td>\n",
       "      <td>2</td>\n",
       "    </tr>\n",
       "    <tr>\n",
       "      <th>3</th>\n",
       "      <td>2133022</td>\n",
       "      <td>2</td>\n",
       "    </tr>\n",
       "    <tr>\n",
       "      <th>4</th>\n",
       "      <td>1295678</td>\n",
       "      <td>3</td>\n",
       "    </tr>\n",
       "  </tbody>\n",
       "</table>\n",
       "</div>"
      ],
      "text/plain": [
       "    NodeId  Community\n",
       "0   734306          1\n",
       "1   734309          1\n",
       "2  1164674          2\n",
       "3  2133022          2\n",
       "4  1295678          3"
      ]
     },
     "execution_count": 22,
     "metadata": {},
     "output_type": "execute_result"
    },
    {
     "name": "stdout",
     "output_type": "stream",
     "text": [
      "time: 9.15 ms (started: 2024-10-15 09:58:13 +03:00)\n"
     ]
    }
   ],
   "source": [
    "dfC.head()"
   ]
  },
  {
   "cell_type": "code",
   "execution_count": 23,
   "metadata": {
    "colab": {
     "base_uri": "https://localhost:8080/",
     "height": 224
    },
    "executionInfo": {
     "elapsed": 33,
     "status": "ok",
     "timestamp": 1728718951677,
     "user": {
      "displayName": "Marija Mitrovic Dankulov",
      "userId": "08541770027322135832"
     },
     "user_tz": -120
    },
    "id": "W87Ah7FgTIow",
    "outputId": "188093c6-2d6f-434e-8e29-45b5c88a91a4"
   },
   "outputs": [
    {
     "data": {
      "text/html": [
       "<div>\n",
       "<style scoped>\n",
       "    .dataframe tbody tr th:only-of-type {\n",
       "        vertical-align: middle;\n",
       "    }\n",
       "\n",
       "    .dataframe tbody tr th {\n",
       "        vertical-align: top;\n",
       "    }\n",
       "\n",
       "    .dataframe thead th {\n",
       "        text-align: right;\n",
       "    }\n",
       "</style>\n",
       "<table border=\"1\" class=\"dataframe\">\n",
       "  <thead>\n",
       "    <tr style=\"text-align: right;\">\n",
       "      <th></th>\n",
       "      <th>NodeId</th>\n",
       "      <th>Community</th>\n",
       "    </tr>\n",
       "  </thead>\n",
       "  <tbody>\n",
       "    <tr>\n",
       "      <th>0</th>\n",
       "      <td>734306</td>\n",
       "      <td>1</td>\n",
       "    </tr>\n",
       "    <tr>\n",
       "      <th>1</th>\n",
       "      <td>734309</td>\n",
       "      <td>1</td>\n",
       "    </tr>\n",
       "    <tr>\n",
       "      <th>2</th>\n",
       "      <td>1164674</td>\n",
       "      <td>2</td>\n",
       "    </tr>\n",
       "    <tr>\n",
       "      <th>3</th>\n",
       "      <td>2133022</td>\n",
       "      <td>2</td>\n",
       "    </tr>\n",
       "    <tr>\n",
       "      <th>4</th>\n",
       "      <td>1295678</td>\n",
       "      <td>3</td>\n",
       "    </tr>\n",
       "  </tbody>\n",
       "</table>\n",
       "</div>"
      ],
      "text/plain": [
       "    NodeId  Community\n",
       "0   734306          1\n",
       "1   734309          1\n",
       "2  1164674          2\n",
       "3  2133022          2\n",
       "4  1295678          3"
      ]
     },
     "execution_count": 23,
     "metadata": {},
     "output_type": "execute_result"
    },
    {
     "name": "stdout",
     "output_type": "stream",
     "text": [
      "time: 8.18 ms (started: 2024-10-15 09:58:15 +03:00)\n"
     ]
    }
   ],
   "source": [
    "dfC.head()"
   ]
  },
  {
   "cell_type": "code",
   "execution_count": 24,
   "metadata": {
    "colab": {
     "base_uri": "https://localhost:8080/"
    },
    "executionInfo": {
     "elapsed": 32,
     "status": "ok",
     "timestamp": 1728718951677,
     "user": {
      "displayName": "Marija Mitrovic Dankulov",
      "userId": "08541770027322135832"
     },
     "user_tz": -120
    },
    "id": "n09G0OIbpIlw",
    "outputId": "d5abe053-0de3-40da-cb59-d8ba7b149251"
   },
   "outputs": [
    {
     "data": {
      "text/plain": [
       "6310619"
      ]
     },
     "execution_count": 24,
     "metadata": {},
     "output_type": "execute_result"
    },
    {
     "name": "stdout",
     "output_type": "stream",
     "text": [
      "time: 3.68 ms (started: 2024-10-15 09:58:18 +03:00)\n"
     ]
    }
   ],
   "source": [
    "len(dfC)"
   ]
  },
  {
   "cell_type": "code",
   "execution_count": 25,
   "metadata": {
    "colab": {
     "base_uri": "https://localhost:8080/"
    },
    "executionInfo": {
     "elapsed": 29,
     "status": "ok",
     "timestamp": 1728718951678,
     "user": {
      "displayName": "Marija Mitrovic Dankulov",
      "userId": "08541770027322135832"
     },
     "user_tz": -120
    },
    "id": "0O3s-manTPIJ",
    "outputId": "b900a8da-1fae-4181-a00e-105eb2a089b7"
   },
   "outputs": [
    {
     "name": "stdout",
     "output_type": "stream",
     "text": [
      "time: 143 ms (started: 2024-10-15 09:58:18 +03:00)\n"
     ]
    }
   ],
   "source": [
    "dfC=dfC.dropna()"
   ]
  },
  {
   "cell_type": "code",
   "execution_count": 26,
   "metadata": {
    "colab": {
     "base_uri": "https://localhost:8080/"
    },
    "executionInfo": {
     "elapsed": 26,
     "status": "ok",
     "timestamp": 1728718951678,
     "user": {
      "displayName": "Marija Mitrovic Dankulov",
      "userId": "08541770027322135832"
     },
     "user_tz": -120
    },
    "id": "eP1gCereTQ7v",
    "outputId": "0c7ce938-6b39-4fd1-9159-caa92416f85a"
   },
   "outputs": [
    {
     "data": {
      "text/plain": [
       "6310619"
      ]
     },
     "execution_count": 26,
     "metadata": {},
     "output_type": "execute_result"
    },
    {
     "name": "stdout",
     "output_type": "stream",
     "text": [
      "time: 3.66 ms (started: 2024-10-15 09:58:19 +03:00)\n"
     ]
    }
   ],
   "source": [
    "len(dfC)"
   ]
  },
  {
   "cell_type": "code",
   "execution_count": 27,
   "metadata": {
    "colab": {
     "base_uri": "https://localhost:8080/"
    },
    "executionInfo": {
     "elapsed": 22,
     "status": "ok",
     "timestamp": 1728718951678,
     "user": {
      "displayName": "Marija Mitrovic Dankulov",
      "userId": "08541770027322135832"
     },
     "user_tz": -120
    },
    "id": "cryCEL85sro6",
    "outputId": "c820a64b-4927-4c99-df07-79340184c143"
   },
   "outputs": [
    {
     "name": "stdout",
     "output_type": "stream",
     "text": [
      "time: 46.2 ms (started: 2024-10-15 09:58:20 +03:00)\n"
     ]
    }
   ],
   "source": [
    "dfC=dfC.reset_index(drop=True)"
   ]
  },
  {
   "cell_type": "code",
   "execution_count": 28,
   "metadata": {
    "colab": {
     "base_uri": "https://localhost:8080/",
     "height": 224
    },
    "executionInfo": {
     "elapsed": 19,
     "status": "ok",
     "timestamp": 1728718951678,
     "user": {
      "displayName": "Marija Mitrovic Dankulov",
      "userId": "08541770027322135832"
     },
     "user_tz": -120
    },
    "id": "cxmyTX79t1Ou",
    "outputId": "65b94187-1a89-4fe9-ac70-d6bb8ab72315"
   },
   "outputs": [
    {
     "data": {
      "text/html": [
       "<div>\n",
       "<style scoped>\n",
       "    .dataframe tbody tr th:only-of-type {\n",
       "        vertical-align: middle;\n",
       "    }\n",
       "\n",
       "    .dataframe tbody tr th {\n",
       "        vertical-align: top;\n",
       "    }\n",
       "\n",
       "    .dataframe thead th {\n",
       "        text-align: right;\n",
       "    }\n",
       "</style>\n",
       "<table border=\"1\" class=\"dataframe\">\n",
       "  <thead>\n",
       "    <tr style=\"text-align: right;\">\n",
       "      <th></th>\n",
       "      <th>NodeId</th>\n",
       "      <th>Community</th>\n",
       "    </tr>\n",
       "  </thead>\n",
       "  <tbody>\n",
       "    <tr>\n",
       "      <th>0</th>\n",
       "      <td>734306</td>\n",
       "      <td>1</td>\n",
       "    </tr>\n",
       "    <tr>\n",
       "      <th>1</th>\n",
       "      <td>734309</td>\n",
       "      <td>1</td>\n",
       "    </tr>\n",
       "    <tr>\n",
       "      <th>2</th>\n",
       "      <td>1164674</td>\n",
       "      <td>2</td>\n",
       "    </tr>\n",
       "    <tr>\n",
       "      <th>3</th>\n",
       "      <td>2133022</td>\n",
       "      <td>2</td>\n",
       "    </tr>\n",
       "    <tr>\n",
       "      <th>4</th>\n",
       "      <td>1295678</td>\n",
       "      <td>3</td>\n",
       "    </tr>\n",
       "  </tbody>\n",
       "</table>\n",
       "</div>"
      ],
      "text/plain": [
       "    NodeId  Community\n",
       "0   734306          1\n",
       "1   734309          1\n",
       "2  1164674          2\n",
       "3  2133022          2\n",
       "4  1295678          3"
      ]
     },
     "execution_count": 28,
     "metadata": {},
     "output_type": "execute_result"
    },
    {
     "name": "stdout",
     "output_type": "stream",
     "text": [
      "time: 8.13 ms (started: 2024-10-15 09:58:20 +03:00)\n"
     ]
    }
   ],
   "source": [
    "dfC.head()"
   ]
  },
  {
   "cell_type": "code",
   "execution_count": 29,
   "metadata": {
    "colab": {
     "base_uri": "https://localhost:8080/"
    },
    "executionInfo": {
     "elapsed": 17,
     "status": "ok",
     "timestamp": 1728718951678,
     "user": {
      "displayName": "Marija Mitrovic Dankulov",
      "userId": "08541770027322135832"
     },
     "user_tz": -120
    },
    "id": "nIsxJKUFukMS",
    "outputId": "dedeb6c1-1c50-4372-b027-0c1394f06597"
   },
   "outputs": [
    {
     "data": {
      "text/plain": [
       "642080"
      ]
     },
     "execution_count": 29,
     "metadata": {},
     "output_type": "execute_result"
    },
    {
     "name": "stdout",
     "output_type": "stream",
     "text": [
      "time: 10.7 ms (started: 2024-10-15 09:58:23 +03:00)\n"
     ]
    }
   ],
   "source": [
    "dfC['Community'].max()"
   ]
  },
  {
   "cell_type": "code",
   "execution_count": 30,
   "metadata": {
    "colab": {
     "base_uri": "https://localhost:8080/"
    },
    "executionInfo": {
     "elapsed": 5,
     "status": "ok",
     "timestamp": 1728718951978,
     "user": {
      "displayName": "Marija Mitrovic Dankulov",
      "userId": "08541770027322135832"
     },
     "user_tz": -120
    },
    "id": "3YY3Zl2RTofQ",
    "outputId": "c51e6e19-f2c1-436a-b607-119c64554f28"
   },
   "outputs": [
    {
     "name": "stdout",
     "output_type": "stream",
     "text": [
      "time: 274 ms (started: 2024-10-15 09:58:24 +03:00)\n"
     ]
    }
   ],
   "source": [
    "v=dfC.Community.value_counts()"
   ]
  },
  {
   "cell_type": "code",
   "execution_count": 31,
   "metadata": {
    "colab": {
     "base_uri": "https://localhost:8080/"
    },
    "executionInfo": {
     "elapsed": 307,
     "status": "ok",
     "timestamp": 1728718952282,
     "user": {
      "displayName": "Marija Mitrovic Dankulov",
      "userId": "08541770027322135832"
     },
     "user_tz": -120
    },
    "id": "tpzfcDQpTrNo",
    "outputId": "7c4d144f-a278-40de-ec2f-a00401d95c74"
   },
   "outputs": [
    {
     "name": "stdout",
     "output_type": "stream",
     "text": [
      "time: 154 ms (started: 2024-10-15 09:58:26 +03:00)\n"
     ]
    }
   ],
   "source": [
    "dfC=dfC[dfC.Community.isin(v.index[v.gt(3)])==True]"
   ]
  },
  {
   "cell_type": "code",
   "execution_count": 32,
   "metadata": {
    "colab": {
     "base_uri": "https://localhost:8080/"
    },
    "executionInfo": {
     "elapsed": 10,
     "status": "ok",
     "timestamp": 1728718952282,
     "user": {
      "displayName": "Marija Mitrovic Dankulov",
      "userId": "08541770027322135832"
     },
     "user_tz": -120
    },
    "id": "8TC4lwKkT0dE",
    "outputId": "6dbc2f0d-2073-46ac-8d95-35cab0b7440b"
   },
   "outputs": [
    {
     "name": "stdout",
     "output_type": "stream",
     "text": [
      "time: 46.5 ms (started: 2024-10-15 09:58:28 +03:00)\n"
     ]
    }
   ],
   "source": [
    "dfC=dfC.reset_index(drop=True)"
   ]
  },
  {
   "cell_type": "code",
   "execution_count": 33,
   "metadata": {
    "colab": {
     "base_uri": "https://localhost:8080/"
    },
    "executionInfo": {
     "elapsed": 304,
     "status": "ok",
     "timestamp": 1728718952580,
     "user": {
      "displayName": "Marija Mitrovic Dankulov",
      "userId": "08541770027322135832"
     },
     "user_tz": -120
    },
    "id": "lk71M41yTxSH",
    "outputId": "bc5041a7-d53f-49db-fa46-69ae94a2cf7b"
   },
   "outputs": [
    {
     "data": {
      "text/plain": [
       "5303375"
      ]
     },
     "execution_count": 33,
     "metadata": {},
     "output_type": "execute_result"
    },
    {
     "name": "stdout",
     "output_type": "stream",
     "text": [
      "time: 3.78 ms (started: 2024-10-15 09:58:29 +03:00)\n"
     ]
    }
   ],
   "source": [
    "len(dfC)"
   ]
  },
  {
   "cell_type": "code",
   "execution_count": 34,
   "metadata": {
    "colab": {
     "base_uri": "https://localhost:8080/"
    },
    "executionInfo": {
     "elapsed": 2999,
     "status": "ok",
     "timestamp": 1728718956105,
     "user": {
      "displayName": "Marija Mitrovic Dankulov",
      "userId": "08541770027322135832"
     },
     "user_tz": -120
    },
    "id": "uxhi2otgT5My",
    "outputId": "fb7364d5-6aad-4c27-8d6d-796c649cbfcc"
   },
   "outputs": [
    {
     "name": "stdout",
     "output_type": "stream",
     "text": [
      "time: 121 ms (started: 2024-10-15 09:58:32 +03:00)\n"
     ]
    }
   ],
   "source": [
    "nodes=dfC['NodeId'].to_list()"
   ]
  },
  {
   "cell_type": "code",
   "execution_count": 35,
   "metadata": {
    "colab": {
     "base_uri": "https://localhost:8080/"
    },
    "executionInfo": {
     "elapsed": 12,
     "status": "ok",
     "timestamp": 1728718956548,
     "user": {
      "displayName": "Marija Mitrovic Dankulov",
      "userId": "08541770027322135832"
     },
     "user_tz": -120
    },
    "id": "u0NgBISyT5wf",
    "outputId": "065757b1-10fb-4556-c66a-75f7ed8dbeb8"
   },
   "outputs": [
    {
     "name": "stdout",
     "output_type": "stream",
     "text": [
      "time: 1.57 s (started: 2024-10-15 09:58:33 +03:00)\n"
     ]
    }
   ],
   "source": [
    "nodes.sort()\n",
    "nodes1=set(nodes)\n",
    "nodes=list(nodes1)"
   ]
  },
  {
   "cell_type": "code",
   "execution_count": 36,
   "metadata": {
    "colab": {
     "base_uri": "https://localhost:8080/"
    },
    "executionInfo": {
     "elapsed": 10,
     "status": "ok",
     "timestamp": 1728718956549,
     "user": {
      "displayName": "Marija Mitrovic Dankulov",
      "userId": "08541770027322135832"
     },
     "user_tz": -120
    },
    "id": "MqZGmZ3oT6Qy",
    "outputId": "41722e16-97e4-4be3-dfba-67270a4c5149"
   },
   "outputs": [
    {
     "data": {
      "text/plain": [
       "992065"
      ]
     },
     "execution_count": 36,
     "metadata": {},
     "output_type": "execute_result"
    },
    {
     "name": "stdout",
     "output_type": "stream",
     "text": [
      "time: 17.6 ms (started: 2024-10-15 09:58:34 +03:00)\n"
     ]
    }
   ],
   "source": [
    "len(nodes)"
   ]
  },
  {
   "cell_type": "code",
   "execution_count": 37,
   "metadata": {
    "colab": {
     "base_uri": "https://localhost:8080/"
    },
    "executionInfo": {
     "elapsed": 2926,
     "status": "ok",
     "timestamp": 1728718959471,
     "user": {
      "displayName": "Marija Mitrovic Dankulov",
      "userId": "08541770027322135832"
     },
     "user_tz": -120
    },
    "id": "3ev0AoKcUAR9",
    "outputId": "dec243c5-c8fc-416d-a847-38afb859abfc"
   },
   "outputs": [
    {
     "name": "stdout",
     "output_type": "stream",
     "text": [
      "time: 1.94 s (started: 2024-10-15 09:58:34 +03:00)\n"
     ]
    }
   ],
   "source": [
    "df=df[df.Source.isin(nodes1)==True]\n",
    "df=df[df.Target.isin(nodes1)==True]\n",
    "df=df.reset_index(drop=True)"
   ]
  },
  {
   "cell_type": "code",
   "execution_count": 38,
   "metadata": {
    "colab": {
     "base_uri": "https://localhost:8080/"
    },
    "executionInfo": {
     "elapsed": 6,
     "status": "ok",
     "timestamp": 1728718959472,
     "user": {
      "displayName": "Marija Mitrovic Dankulov",
      "userId": "08541770027322135832"
     },
     "user_tz": -120
    },
    "id": "AkZdtkJWUIkU",
    "outputId": "41ca828d-0b37-4776-fe22-64aa4cf3923d"
   },
   "outputs": [
    {
     "data": {
      "text/plain": [
       "15395242"
      ]
     },
     "execution_count": 38,
     "metadata": {},
     "output_type": "execute_result"
    },
    {
     "name": "stdout",
     "output_type": "stream",
     "text": [
      "time: 2.2 ms (started: 2024-10-15 09:58:36 +03:00)\n"
     ]
    }
   ],
   "source": [
    "len(df)"
   ]
  },
  {
   "cell_type": "code",
   "execution_count": null,
   "metadata": {
    "id": "tXYlT9u9WNvO"
   },
   "outputs": [],
   "source": [
    "'''\n",
    "net={}\n",
    "for se in nodes:\n",
    "  net[se]=[]\n",
    "for j in range(len(df)):\n",
    "  net[df.loc[j]['Source']].append(df.loc[j]['Target'])\n",
    "  net[df.loc[j]['Target']].append(df.loc[j]['Source'])\n",
    "\n",
    "nid={}\n",
    "i=0\n",
    "for se in net.keys():\n",
    "  if len(net[se])>0:\n",
    "    nid[se]=i\n",
    "  i+=1\n",
    "\n",
    "\n",
    "g=open(\"LiveJournalNet.csv\",\"a\")\n",
    "g.write(\"Source,Target\\n\")\n",
    "\n",
    "for se in net.keys():\n",
    "  for i in range(len(net[se])):\n",
    "    if nid[se]<nid[net[se][i]]:\n",
    "      g.write(str(nid[se]))\n",
    "      g.write(\",\")\n",
    "      g.write(str(nid[net[se][i]]))\n",
    "      g.write(\"\\n\")\n",
    "'''"
   ]
  },
  {
   "cell_type": "code",
   "execution_count": 39,
   "metadata": {},
   "outputs": [
    {
     "name": "stdout",
     "output_type": "stream",
     "text": [
      "time: 1.34 s (started: 2024-10-15 10:00:33 +03:00)\n"
     ]
    }
   ],
   "source": [
    "#df = pd.read_csv(\"LiveJournalNet.csv\", sep=\",\")"
   ]
  },
  {
   "cell_type": "code",
   "execution_count": 40,
   "metadata": {
    "colab": {
     "base_uri": "https://localhost:8080/",
     "height": 224
    },
    "executionInfo": {
     "elapsed": 316,
     "status": "ok",
     "timestamp": 1728911756564,
     "user": {
      "displayName": "Marija Mitrovic Dankulov",
      "userId": "08541770027322135832"
     },
     "user_tz": -120
    },
    "id": "EeNILh0P6YXS",
    "outputId": "4e03e1fa-a634-42fd-b0da-8799c04d199a"
   },
   "outputs": [
    {
     "data": {
      "text/html": [
       "<div>\n",
       "<style scoped>\n",
       "    .dataframe tbody tr th:only-of-type {\n",
       "        vertical-align: middle;\n",
       "    }\n",
       "\n",
       "    .dataframe tbody tr th {\n",
       "        vertical-align: top;\n",
       "    }\n",
       "\n",
       "    .dataframe thead th {\n",
       "        text-align: right;\n",
       "    }\n",
       "</style>\n",
       "<table border=\"1\" class=\"dataframe\">\n",
       "  <thead>\n",
       "    <tr style=\"text-align: right;\">\n",
       "      <th></th>\n",
       "      <th>Source</th>\n",
       "      <th>Target</th>\n",
       "    </tr>\n",
       "  </thead>\n",
       "  <tbody>\n",
       "    <tr>\n",
       "      <th>0</th>\n",
       "      <td>0</td>\n",
       "      <td>2</td>\n",
       "    </tr>\n",
       "    <tr>\n",
       "      <th>1</th>\n",
       "      <td>0</td>\n",
       "      <td>4</td>\n",
       "    </tr>\n",
       "    <tr>\n",
       "      <th>2</th>\n",
       "      <td>0</td>\n",
       "      <td>5</td>\n",
       "    </tr>\n",
       "    <tr>\n",
       "      <th>3</th>\n",
       "      <td>0</td>\n",
       "      <td>6</td>\n",
       "    </tr>\n",
       "    <tr>\n",
       "      <th>4</th>\n",
       "      <td>0</td>\n",
       "      <td>7</td>\n",
       "    </tr>\n",
       "  </tbody>\n",
       "</table>\n",
       "</div>"
      ],
      "text/plain": [
       "   Source  Target\n",
       "0       0       2\n",
       "1       0       4\n",
       "2       0       5\n",
       "3       0       6\n",
       "4       0       7"
      ]
     },
     "execution_count": 40,
     "metadata": {},
     "output_type": "execute_result"
    },
    {
     "name": "stdout",
     "output_type": "stream",
     "text": [
      "time: 4.9 ms (started: 2024-10-15 10:00:35 +03:00)\n"
     ]
    }
   ],
   "source": [
    "#df.head()"
   ]
  },
  {
   "cell_type": "code",
   "execution_count": 66,
   "metadata": {
    "colab": {
     "base_uri": "https://localhost:8080/"
    },
    "executionInfo": {
     "elapsed": 286,
     "status": "ok",
     "timestamp": 1728911759632,
     "user": {
      "displayName": "Marija Mitrovic Dankulov",
      "userId": "08541770027322135832"
     },
     "user_tz": -120
    },
    "id": "fv5ROcB36dNB",
    "outputId": "456f0a6b-b95f-4317-81b7-56f1aded0594"
   },
   "outputs": [
    {
     "name": "stdout",
     "output_type": "stream",
     "text": [
      "time: 153 ms (started: 2024-10-15 10:18:56 +03:00)\n"
     ]
    }
   ],
   "source": [
    "#GLJ=nk.Graph()"
   ]
  },
  {
   "cell_type": "code",
   "execution_count": 67,
   "metadata": {
    "colab": {
     "base_uri": "https://localhost:8080/"
    },
    "executionInfo": {
     "elapsed": 310,
     "status": "ok",
     "timestamp": 1728911761847,
     "user": {
      "displayName": "Marija Mitrovic Dankulov",
      "userId": "08541770027322135832"
     },
     "user_tz": -120
    },
    "id": "kvqBdKzl7ec5",
    "outputId": "befeb9a6-f15e-47d3-d7c2-36bfd0a7e72b"
   },
   "outputs": [
    {
     "name": "stdout",
     "output_type": "stream",
     "text": [
      "Source    1067853\n",
      "Target    1067861\n",
      "dtype: int64\n",
      "time: 22.7 ms (started: 2024-10-15 10:18:57 +03:00)\n"
     ]
    }
   ],
   "source": [
    "#print(df.max())"
   ]
  },
  {
   "cell_type": "code",
   "execution_count": 68,
   "metadata": {},
   "outputs": [
    {
     "data": {
      "text/plain": [
       "16309060"
      ]
     },
     "execution_count": 68,
     "metadata": {},
     "output_type": "execute_result"
    },
    {
     "name": "stdout",
     "output_type": "stream",
     "text": [
      "time: 3.84 ms (started: 2024-10-15 10:18:57 +03:00)\n"
     ]
    }
   ],
   "source": [
    "#len(df)"
   ]
  },
  {
   "cell_type": "code",
   "execution_count": 69,
   "metadata": {
    "colab": {
     "base_uri": "https://localhost:8080/"
    },
    "executionInfo": {
     "elapsed": 287,
     "status": "ok",
     "timestamp": 1728911772478,
     "user": {
      "displayName": "Marija Mitrovic Dankulov",
      "userId": "08541770027322135832"
     },
     "user_tz": -120
    },
    "id": "OrKIYoFj8-Zj",
    "outputId": "84fd4f27-5582-4cc5-ee91-2c751086e307"
   },
   "outputs": [
    {
     "data": {
      "text/plain": [
       "1067861"
      ]
     },
     "execution_count": 69,
     "metadata": {},
     "output_type": "execute_result"
    },
    {
     "name": "stdout",
     "output_type": "stream",
     "text": [
      "time: 7.63 ms (started: 2024-10-15 10:18:58 +03:00)\n"
     ]
    }
   ],
   "source": [
    "#GLJ.addNodes(1067862)"
   ]
  },
  {
   "cell_type": "code",
   "execution_count": 70,
   "metadata": {
    "colab": {
     "base_uri": "https://localhost:8080/"
    },
    "executionInfo": {
     "elapsed": 260,
     "status": "ok",
     "timestamp": 1728911775067,
     "user": {
      "displayName": "Marija Mitrovic Dankulov",
      "userId": "08541770027322135832"
     },
     "user_tz": -120
    },
    "id": "UHb30wpTBZaA",
    "outputId": "81d15257-0e06-448d-eb46-ec468721bf9e"
   },
   "outputs": [
    {
     "data": {
      "text/plain": [
       "True"
      ]
     },
     "execution_count": 70,
     "metadata": {},
     "output_type": "execute_result"
    },
    {
     "name": "stdout",
     "output_type": "stream",
     "text": [
      "time: 3.68 ms (started: 2024-10-15 10:18:58 +03:00)\n"
     ]
    }
   ],
   "source": [
    "#GLJ.hasNode(1067861)"
   ]
  },
  {
   "cell_type": "code",
   "execution_count": 71,
   "metadata": {},
   "outputs": [
    {
     "data": {
      "text/plain": [
       "False"
      ]
     },
     "execution_count": 71,
     "metadata": {},
     "output_type": "execute_result"
    },
    {
     "name": "stdout",
     "output_type": "stream",
     "text": [
      "time: 3.7 ms (started: 2024-10-15 10:18:59 +03:00)\n"
     ]
    }
   ],
   "source": [
    "#GLJ.hasNode(1067862)"
   ]
  },
  {
   "cell_type": "code",
   "execution_count": 72,
   "metadata": {},
   "outputs": [
    {
     "data": {
      "text/plain": [
       "True"
      ]
     },
     "execution_count": 72,
     "metadata": {},
     "output_type": "execute_result"
    },
    {
     "name": "stdout",
     "output_type": "stream",
     "text": [
      "time: 3.81 ms (started: 2024-10-15 10:18:59 +03:00)\n"
     ]
    }
   ],
   "source": [
    "#GLJ.hasNode(0)"
   ]
  },
  {
   "cell_type": "code",
   "execution_count": 73,
   "metadata": {
    "colab": {
     "background_save": true
    },
    "id": "nN_YFPXD6nxI"
   },
   "outputs": [
    {
     "name": "stdout",
     "output_type": "stream",
     "text": [
      "time: 12min 59s (started: 2024-10-15 10:19:00 +03:00)\n"
     ]
    }
   ],
   "source": [
    "'''for i in range(len(df)):\n",
    "    GLJ.addEdge(df.loc[i]['Source'],df.loc[i]['Target'])\n",
    "'''"
   ]
  },
  {
   "cell_type": "code",
   "execution_count": 74,
   "metadata": {},
   "outputs": [
    {
     "name": "stdout",
     "output_type": "stream",
     "text": [
      "time: 2.09 s (started: 2024-10-15 10:33:52 +03:00)\n"
     ]
    }
   ],
   "source": [
    "#nk.graphio.writeGraph(GLJ,\"LiveJournalNet_wr.graph\", nk.Format.METIS)"
   ]
  },
  {
   "cell_type": "code",
   "execution_count": 2,
   "metadata": {},
   "outputs": [],
   "source": [
    "G = nk.graphio.METISGraphReader().read(\"LiveJournalNet_wr.graph\")"
   ]
  },
  {
   "cell_type": "code",
   "execution_count": 3,
   "metadata": {},
   "outputs": [
    {
     "name": "stdout",
     "output_type": "stream",
     "text": [
      "Network Properties:\n",
      "nodes, edges\t\t\t1067862, 16309060\n",
      "directed?\t\t\tFalse\n",
      "weighted?\t\t\tFalse\n",
      "isolated nodes\t\t\t0\n",
      "self-loops\t\t\t0\n",
      "density\t\t\t\t0.000029\n",
      "clustering coefficient\t\t0.254834\n",
      "min/max/avg degree\t\t1, 11238, 30.545258\n",
      "degree assortativity\t\t0.141540\n",
      "number of connected components\t321\n",
      "size of largest component\t1064665 (99.70 %)\n"
     ]
    }
   ],
   "source": [
    "nk.overview(G)"
   ]
  },
  {
   "cell_type": "code",
   "execution_count": 78,
   "metadata": {
    "colab": {
     "base_uri": "https://localhost:8080/"
    },
    "executionInfo": {
     "elapsed": 435,
     "status": "ok",
     "timestamp": 1728819758320,
     "user": {
      "displayName": "Marija Mitrovic Dankulov",
      "userId": "08541770027322135832"
     },
     "user_tz": -120
    },
    "id": "2zyWjnuhj6dc",
    "outputId": "21d8207d-c535-417d-8d4c-392924bab0d3"
   },
   "outputs": [
    {
     "data": {
      "text/plain": [
       "<networkit.components.ConnectedComponents at 0x2b00399ee560>"
      ]
     },
     "execution_count": 78,
     "metadata": {},
     "output_type": "execute_result"
    },
    {
     "name": "stdout",
     "output_type": "stream",
     "text": [
      "time: 248 ms (started: 2024-10-15 10:34:51 +03:00)\n"
     ]
    }
   ],
   "source": [
    "cc = nk.components.ConnectedComponents(GLJ)\n",
    "cc.run()"
   ]
  },
  {
   "cell_type": "code",
   "execution_count": 79,
   "metadata": {
    "id": "NYxerGj7tuB8"
   },
   "outputs": [
    {
     "name": "stdout",
     "output_type": "stream",
     "text": [
      "time: 2.68 s (started: 2024-10-15 10:34:52 +03:00)\n"
     ]
    }
   ],
   "source": [
    "lcc= cc.extractLargestConnectedComponent(GLJ, True)"
   ]
  },
  {
   "cell_type": "code",
   "execution_count": 80,
   "metadata": {
    "colab": {
     "base_uri": "https://localhost:8080/"
    },
    "executionInfo": {
     "elapsed": 6865,
     "status": "ok",
     "timestamp": 1728819772323,
     "user": {
      "displayName": "Marija Mitrovic Dankulov",
      "userId": "08541770027322135832"
     },
     "user_tz": -120
    },
    "id": "XjpWpfrPk32S",
    "outputId": "d786a687-8779-486a-8d1c-39ed49748ca3"
   },
   "outputs": [
    {
     "name": "stdout",
     "output_type": "stream",
     "text": [
      "Network Properties:\n",
      "nodes, edges\t\t\t1064665, 16289399\n",
      "directed?\t\t\tFalse\n",
      "weighted?\t\t\tFalse\n",
      "isolated nodes\t\t\t0\n",
      "self-loops\t\t\t0\n",
      "density\t\t\t\t0.000029\n",
      "clustering coefficient\t\t0.253227\n",
      "min/max/avg degree\t\t1, 11238, 30.600046\n",
      "degree assortativity\t\t0.141374\n",
      "number of connected components\t1\n",
      "size of largest component\t1064665 (100.00 %)\n",
      "time: 2.78 s (started: 2024-10-15 10:34:57 +03:00)\n"
     ]
    }
   ],
   "source": [
    "nk.overview(lcc)"
   ]
  },
  {
   "cell_type": "code",
   "execution_count": 83,
   "metadata": {
    "colab": {
     "base_uri": "https://localhost:8080/",
     "height": 471
    },
    "executionInfo": {
     "elapsed": 1951,
     "status": "ok",
     "timestamp": 1728720594280,
     "user": {
      "displayName": "Marija Mitrovic Dankulov",
      "userId": "08541770027322135832"
     },
     "user_tz": -120
    },
    "id": "I5fap0beuNG3",
    "outputId": "66bd9776-b9c6-49fc-84cc-6e987ff3df0d"
   },
   "outputs": [
    {
     "data": {
      "image/png": "[encoded data removed]",
      "text/plain": [
       "<Figure size 640x480 with 1 Axes>"
      ]
     },
     "metadata": {},
     "output_type": "display_data"
    },
    {
     "name": "stdout",
     "output_type": "stream",
     "text": [
      "time: 1.04 s (started: 2024-10-15 10:37:04 +03:00)\n"
     ]
    }
   ],
   "source": [
    "dc=nk.centrality.DegreeCentrality(lcc)\n",
    "dG=nk.centrality.DegreeCentrality(G)\n",
    "dc.run()\n",
    "dG.run()\n",
    "dd = sorted(dc.scores(), reverse=True)\n",
    "ddG=sorted(dG.scores(), reverse=True)\n",
    "degrees, numberOfNodes = np.unique(dd, return_counts=True)\n",
    "degreesG, numberOfNodesG = np.unique(ddG, return_counts=True)\n",
    "plt.xscale(\"log\")\n",
    "plt.xlabel(\"degree\")\n",
    "plt.yscale(\"log\")\n",
    "plt.ylabel(\"number of nodes\")\n",
    "plt.scatter(degrees, numberOfNodes)\n",
    "plt.scatter(degreesG, numberOfNodesG)\n",
    "plt.show()"
   ]
  },
  {
   "cell_type": "code",
   "execution_count": 84,
   "metadata": {
    "colab": {
     "base_uri": "https://localhost:8080/"
    },
    "executionInfo": {
     "elapsed": 5,
     "status": "ok",
     "timestamp": 1728721464295,
     "user": {
      "displayName": "Marija Mitrovic Dankulov",
      "userId": "08541770027322135832"
     },
     "user_tz": -120
    },
    "id": "yRZ6DGdWvB6J",
    "outputId": "c86693de-8cf4-4d46-d059-7b3b41036f38"
   },
   "outputs": [
    {
     "name": "stdout",
     "output_type": "stream",
     "text": [
      "time: 1.69 ms (started: 2024-10-15 10:37:22 +03:00)\n"
     ]
    }
   ],
   "source": [
    "def avrg_nn_deg(G):\n",
    "  q=[]\n",
    "  for v in G.iterNodes():\n",
    "    q.append(GLJ.degree(v))\n",
    "  q.sort()\n",
    "  q1=list(set(q))\n",
    "  nn_deg={}\n",
    "  for se in q1:\n",
    "    nn_deg[se]=[]\n",
    "  for v in G.iterNodes():\n",
    "    sum=0\n",
    "    for u in G.iterNeighbors(v):\n",
    "      sum=sum+G.degree(u)\n",
    "    fx=float(sum)/float(G.degree(v))\n",
    "    nn_deg[G.degree(v)].append(fx)\n",
    "  avg=[]\n",
    "  for se in q1:\n",
    "    avg.append(np.mean(np.array(nn_deg[se])))\n",
    "  return q1, avg"
   ]
  },
  {
   "cell_type": "code",
   "execution_count": 87,
   "metadata": {
    "colab": {
     "base_uri": "https://localhost:8080/"
    },
    "executionInfo": {
     "elapsed": 5847,
     "status": "ok",
     "timestamp": 1728721472771,
     "user": {
      "displayName": "Marija Mitrovic Dankulov",
      "userId": "08541770027322135832"
     },
     "user_tz": -120
    },
    "id": "zNwZ8cWg0fGX",
    "outputId": "eab6a775-4ece-4b50-dc3f-3db6483b03d7"
   },
   "outputs": [
    {
     "name": "stdout",
     "output_type": "stream",
     "text": [
      "time: 3.75 s (started: 2024-10-15 10:37:45 +03:00)\n"
     ]
    }
   ],
   "source": [
    "q,avg=avrg_nn_deg(G)"
   ]
  },
  {
   "cell_type": "code",
   "execution_count": 88,
   "metadata": {
    "colab": {
     "base_uri": "https://localhost:8080/",
     "height": 471
    },
    "executionInfo": {
     "elapsed": 1314,
     "status": "ok",
     "timestamp": 1728721524579,
     "user": {
      "displayName": "Marija Mitrovic Dankulov",
      "userId": "08541770027322135832"
     },
     "user_tz": -120
    },
    "id": "F5AIz2230otw",
    "outputId": "6ba7014e-afbf-49b9-97fe-3ca59ac3def9"
   },
   "outputs": [
    {
     "data": {
      "image/png": "[encoded data removed]",
      "text/plain": [
       "<Figure size 640x480 with 1 Axes>"
      ]
     },
     "metadata": {},
     "output_type": "display_data"
    },
    {
     "name": "stdout",
     "output_type": "stream",
     "text": [
      "time: 302 ms (started: 2024-10-15 10:37:49 +03:00)\n"
     ]
    }
   ],
   "source": [
    "plt.xscale(\"log\")\n",
    "plt.xlabel(\"degree\")\n",
    "plt.yscale(\"log\")\n",
    "plt.ylabel(\"average nex neighbor degree\")\n",
    "plt.scatter(q,avg)\n",
    "plt.show()"
   ]
  },
  {
   "cell_type": "code",
   "execution_count": 90,
   "metadata": {
    "colab": {
     "base_uri": "https://localhost:8080/"
    },
    "executionInfo": {
     "elapsed": 380,
     "status": "ok",
     "timestamp": 1728722926727,
     "user": {
      "displayName": "Marija Mitrovic Dankulov",
      "userId": "08541770027322135832"
     },
     "user_tz": -120
    },
    "id": "C4XCc3m93WXI",
    "outputId": "6f77dc01-b72f-49f8-ad7e-04ac43a26950"
   },
   "outputs": [
    {
     "name": "stdout",
     "output_type": "stream",
     "text": [
      "time: 1.27 ms (started: 2024-10-15 10:38:16 +03:00)\n"
     ]
    }
   ],
   "source": [
    "def node_clust(G,v):\n",
    "  E=0\n",
    "  if G.degree(v)>1:\n",
    "    for u in G.iterNeighbors(v):\n",
    "      for h in G.iterNeighbors(u):\n",
    "        if G.hasEdge(v,h):\n",
    "          E+=1\n",
    "    c=(2.0*E)/(1.0*G.degree(v)*(G.degree(v)-1))\n",
    "  else:\n",
    "    c=0\n",
    "  return c"
   ]
  },
  {
   "cell_type": "code",
   "execution_count": 93,
   "metadata": {
    "colab": {
     "base_uri": "https://localhost:8080/"
    },
    "executionInfo": {
     "elapsed": 14447,
     "status": "ok",
     "timestamp": 1728723626344,
     "user": {
      "displayName": "Marija Mitrovic Dankulov",
      "userId": "08541770027322135832"
     },
     "user_tz": -120
    },
    "id": "2tNM0nDt8CoY",
    "outputId": "86de88e3-0453-4566-9a36-66809a1fdc31"
   },
   "outputs": [
    {
     "name": "stdout",
     "output_type": "stream",
     "text": [
      "time: 5.72 s (started: 2024-10-15 10:38:27 +03:00)\n"
     ]
    }
   ],
   "source": [
    "ccl = nk.centrality.LocalClusteringCoefficient(G)\n",
    "ccl.run()\n",
    "l=ccl.ranking()"
   ]
  },
  {
   "cell_type": "code",
   "execution_count": 95,
   "metadata": {
    "colab": {
     "base_uri": "https://localhost:8080/"
    },
    "executionInfo": {
     "elapsed": 386,
     "status": "ok",
     "timestamp": 1728724156065,
     "user": {
      "displayName": "Marija Mitrovic Dankulov",
      "userId": "08541770027322135832"
     },
     "user_tz": -120
    },
    "id": "O8vCfOUt1r0U",
    "outputId": "9ac4bddd-b9e4-4a31-8f16-b9a8f7a72763"
   },
   "outputs": [
    {
     "name": "stdout",
     "output_type": "stream",
     "text": [
      "time: 1.76 ms (started: 2024-10-15 10:38:41 +03:00)\n"
     ]
    }
   ],
   "source": [
    "def avrg_clust(G):\n",
    "  q=[]\n",
    "  for v in G.iterNodes():\n",
    "    q.append(GLJ.degree(v))\n",
    "  q.sort()\n",
    "  q1=list(set(q))\n",
    "  ccl = nk.centrality.LocalClusteringCoefficient(GLJ)\n",
    "  ccl.run()\n",
    "  l=ccl.ranking()\n",
    "  nn_clust={}\n",
    "  for se in q1:\n",
    "    nn_clust[se]=[]\n",
    "  for i in range(len(l)):\n",
    "    v=l[i][0]\n",
    "    q=G.degree(v)\n",
    "    nn_clust[q].append(l[i][1])\n",
    "  avgC=[]\n",
    "  for se in q1:\n",
    "    avgC.append(np.mean(np.array(nn_clust[se])))\n",
    "  return q1, avgC"
   ]
  },
  {
   "cell_type": "code",
   "execution_count": 96,
   "metadata": {
    "colab": {
     "base_uri": "https://localhost:8080/"
    },
    "executionInfo": {
     "elapsed": 13433,
     "status": "ok",
     "timestamp": 1728724172018,
     "user": {
      "displayName": "Marija Mitrovic Dankulov",
      "userId": "08541770027322135832"
     },
     "user_tz": -120
    },
    "id": "xpOt-L7w8Gnp",
    "outputId": "eca19b90-f069-4d86-8035-d09714dca6d0"
   },
   "outputs": [
    {
     "name": "stdout",
     "output_type": "stream",
     "text": [
      "time: 6.36 s (started: 2024-10-15 10:38:47 +03:00)\n"
     ]
    }
   ],
   "source": [
    "q,c=avrg_clust(G)"
   ]
  },
  {
   "cell_type": "code",
   "execution_count": 97,
   "metadata": {
    "colab": {
     "base_uri": "https://localhost:8080/",
     "height": 477
    },
    "executionInfo": {
     "elapsed": 3677,
     "status": "ok",
     "timestamp": 1728724188303,
     "user": {
      "displayName": "Marija Mitrovic Dankulov",
      "userId": "08541770027322135832"
     },
     "user_tz": -120
    },
    "id": "-PIrw2Wm6qqd",
    "outputId": "ede00e3c-263a-4757-e4c0-c1a877e10892"
   },
   "outputs": [
    {
     "data": {
      "image/png": "[encoded data removed]",
      "text/plain": [
       "<Figure size 640x480 with 1 Axes>"
      ]
     },
     "metadata": {},
     "output_type": "display_data"
    },
    {
     "name": "stdout",
     "output_type": "stream",
     "text": [
      "time: 369 ms (started: 2024-10-15 10:38:53 +03:00)\n"
     ]
    }
   ],
   "source": [
    "plt.xscale(\"log\")\n",
    "plt.xlabel(\"degree\")\n",
    "plt.yscale(\"log\")\n",
    "plt.ylabel(\"average clustering\")\n",
    "plt.scatter(q,c)\n",
    "plt.show()"
   ]
  },
  {
   "cell_type": "markdown",
   "metadata": {
    "id": "U1m-cneKAsYJ"
   },
   "source": [
    "# Community detection algorithm"
   ]
  },
  {
   "cell_type": "code",
   "execution_count": 98,
   "metadata": {
    "colab": {
     "base_uri": "https://localhost:8080/"
    },
    "executionInfo": {
     "elapsed": 411,
     "status": "ok",
     "timestamp": 1728724937570,
     "user": {
      "displayName": "Marija Mitrovic Dankulov",
      "userId": "08541770027322135832"
     },
     "user_tz": -120
    },
    "id": "3wClwF7rB3Yz",
    "outputId": "675108ac-37b7-4986-d0a5-630fdcfa137a"
   },
   "outputs": [
    {
     "name": "stdout",
     "output_type": "stream",
     "text": [
      "time: 2.78 ms (started: 2024-10-15 10:39:00 +03:00)\n"
     ]
    }
   ],
   "source": [
    "plm=nk.community.PLM(G, refine=False, gamma=0.1, maxIter=32, turbo=True, recurse=True)"
   ]
  },
  {
   "cell_type": "code",
   "execution_count": 99,
   "metadata": {
    "colab": {
     "base_uri": "https://localhost:8080/",
     "height": 193
    },
    "executionInfo": {
     "elapsed": 337,
     "status": "error",
     "timestamp": 1728724989705,
     "user": {
      "displayName": "Marija Mitrovic Dankulov",
      "userId": "08541770027322135832"
     },
     "user_tz": -120
    },
    "id": "N-Wd8axgCTU9",
    "outputId": "1fa869a4-b553-4aae-e80b-19ce136816cf"
   },
   "outputs": [
    {
     "data": {
      "text/plain": [
       "<networkit.community.PLM at 0x2b00ad27f520>"
      ]
     },
     "execution_count": 99,
     "metadata": {},
     "output_type": "execute_result"
    },
    {
     "name": "stdout",
     "output_type": "stream",
     "text": [
      "time: 4.13 s (started: 2024-10-15 10:39:03 +03:00)\n"
     ]
    }
   ],
   "source": [
    "plm.run()"
   ]
  },
  {
   "cell_type": "code",
   "execution_count": 100,
   "metadata": {
    "colab": {
     "base_uri": "https://localhost:8080/",
     "height": 211
    },
    "executionInfo": {
     "elapsed": 786,
     "status": "error",
     "timestamp": 1728724979793,
     "user": {
      "displayName": "Marija Mitrovic Dankulov",
      "userId": "08541770027322135832"
     },
     "user_tz": -120
    },
    "id": "amuuksB-CWsC",
    "outputId": "c06f92ce-9c2d-45ca-f4ab-a4dc3614aac5"
   },
   "outputs": [
    {
     "name": "stdout",
     "output_type": "stream",
     "text": [
      "time: 676 µs (started: 2024-10-15 10:39:09 +03:00)\n"
     ]
    }
   ],
   "source": [
    "plmPartition = plm.getPartition()"
   ]
  },
  {
   "cell_type": "code",
   "execution_count": 102,
   "metadata": {
    "colab": {
     "base_uri": "https://localhost:8080/"
    },
    "executionInfo": {
     "elapsed": 410,
     "status": "ok",
     "timestamp": 1728811537545,
     "user": {
      "displayName": "Marija Mitrovic Dankulov",
      "userId": "08541770027322135832"
     },
     "user_tz": -120
    },
    "id": "rrYdHvfLMx36",
    "outputId": "cb5fa37f-1b56-4547-a451-a23050e87423"
   },
   "outputs": [
    {
     "data": {
      "text/plain": [
       "networkit.structures.Partition"
      ]
     },
     "execution_count": 102,
     "metadata": {},
     "output_type": "execute_result"
    },
    {
     "name": "stdout",
     "output_type": "stream",
     "text": [
      "time: 4.04 ms (started: 2024-10-15 10:39:27 +03:00)\n"
     ]
    }
   ],
   "source": [
    "type(plmPartition)"
   ]
  },
  {
   "cell_type": "code",
   "execution_count": 104,
   "metadata": {},
   "outputs": [
    {
     "data": {
      "text/plain": [
       "1015"
      ]
     },
     "execution_count": 104,
     "metadata": {},
     "output_type": "execute_result"
    },
    {
     "name": "stdout",
     "output_type": "stream",
     "text": [
      "time: 32.3 ms (started: 2024-10-15 10:40:17 +03:00)\n"
     ]
    }
   ],
   "source": [
    "plmPartition.numberOfSubsets()"
   ]
  },
  {
   "cell_type": "code",
   "execution_count": 105,
   "metadata": {
    "colab": {
     "base_uri": "https://localhost:8080/"
    },
    "executionInfo": {
     "elapsed": 3917,
     "status": "ok",
     "timestamp": 1728902047923,
     "user": {
      "displayName": "Marija Mitrovic Dankulov",
      "userId": "08541770027322135832"
     },
     "user_tz": -120
    },
    "id": "H69d7hFyANn9",
    "outputId": "5702e6f7-9022-4c2e-c0f3-6b43705b957b"
   },
   "outputs": [
    {
     "name": "stdout",
     "output_type": "stream",
     "text": [
      "Communities detected in 0.82471 [s]\n",
      "solution properties:\n",
      "-------------------  ---------------\n",
      "# communities          2413\n",
      "min community size        3\n",
      "max community size   998466\n",
      "avg. community size     442.545\n",
      "imbalance              2253.87\n",
      "edge cut             122326\n",
      "edge cut (portion)        0.00750049\n",
      "modularity                0.146185\n",
      "-------------------  ---------------\n",
      "time: 1.25 s (started: 2024-10-15 10:40:20 +03:00)\n"
     ]
    }
   ],
   "source": [
    "plpCommunities = nk.community.detectCommunities(G, algo=nk.community.PLP(GLJ))"
   ]
  },
  {
   "cell_type": "code",
   "execution_count": 106,
   "metadata": {
    "colab": {
     "base_uri": "https://localhost:8080/"
    },
    "executionInfo": {
     "elapsed": 2,
     "status": "ok",
     "timestamp": 1728825017952,
     "user": {
      "displayName": "Marija Mitrovic Dankulov",
      "userId": "08541770027322135832"
     },
     "user_tz": -120
    },
    "id": "rfvL4HhkBv9c",
    "outputId": "0d214e7d-f79d-4e0a-a2dc-55df0a59eaf7"
   },
   "outputs": [
    {
     "name": "stdout",
     "output_type": "stream",
     "text": [
      "1067862 elements assigned to 2413 subsets\n",
      "time: 28.1 ms (started: 2024-10-15 10:40:25 +03:00)\n"
     ]
    }
   ],
   "source": [
    "print(\"{0} elements assigned to {1} subsets\".format(plpCommunities.numberOfElements(), plpCommunities.numberOfSubsets()))"
   ]
  },
  {
   "cell_type": "code",
   "execution_count": 107,
   "metadata": {
    "colab": {
     "base_uri": "https://localhost:8080/"
    },
    "executionInfo": {
     "elapsed": 2925,
     "status": "ok",
     "timestamp": 1728902057445,
     "user": {
      "displayName": "Marija Mitrovic Dankulov",
      "userId": "08541770027322135832"
     },
     "user_tz": -120
    },
    "id": "DGDktyxABC-q",
    "outputId": "44b5f870-f78a-4c89-a949-9ed66ecd8deb"
   },
   "outputs": [
    {
     "name": "stdout",
     "output_type": "stream",
     "text": [
      "Communities detected in 0.79928 [s]\n",
      "solution properties:\n",
      "-------------------  ---------------\n",
      "# communities          2432\n",
      "min community size        3\n",
      "max community size   999952\n",
      "avg. community size     439.088\n",
      "imbalance              2272.62\n",
      "edge cut             121358\n",
      "edge cut (portion)        0.00744114\n",
      "modularity                0.144685\n",
      "-------------------  ---------------\n",
      "time: 1.22 s (started: 2024-10-15 10:40:26 +03:00)\n"
     ]
    }
   ],
   "source": [
    "plpCommunities1 = nk.community.detectCommunities(G, algo=nk.community.PLP(GLJ))"
   ]
  },
  {
   "cell_type": "code",
   "execution_count": 108,
   "metadata": {
    "colab": {
     "base_uri": "https://localhost:8080/"
    },
    "executionInfo": {
     "elapsed": 310,
     "status": "ok",
     "timestamp": 1728825225313,
     "user": {
      "displayName": "Marija Mitrovic Dankulov",
      "userId": "08541770027322135832"
     },
     "user_tz": -120
    },
    "id": "CHD6-MyrdvVo",
    "outputId": "f608d155-aed8-4f50-85e3-36286fcb3485"
   },
   "outputs": [
    {
     "data": {
      "text/plain": [
       "2413"
      ]
     },
     "execution_count": 108,
     "metadata": {},
     "output_type": "execute_result"
    },
    {
     "name": "stdout",
     "output_type": "stream",
     "text": [
      "time: 29.4 ms (started: 2024-10-15 10:40:31 +03:00)\n"
     ]
    }
   ],
   "source": [
    "plpCommunities.numberOfSubsets()"
   ]
  },
  {
   "cell_type": "code",
   "execution_count": 109,
   "metadata": {
    "colab": {
     "base_uri": "https://localhost:8080/"
    },
    "executionInfo": {
     "elapsed": 371,
     "status": "ok",
     "timestamp": 1728825226644,
     "user": {
      "displayName": "Marija Mitrovic Dankulov",
      "userId": "08541770027322135832"
     },
     "user_tz": -120
    },
    "id": "90Dd7PnWLyiq",
    "outputId": "d245aa7a-aa42-42e3-aafb-87f38b1249df"
   },
   "outputs": [
    {
     "data": {
      "text/plain": [
       "2432"
      ]
     },
     "execution_count": 109,
     "metadata": {},
     "output_type": "execute_result"
    },
    {
     "name": "stdout",
     "output_type": "stream",
     "text": [
      "time: 30.5 ms (started: 2024-10-15 10:40:33 +03:00)\n"
     ]
    }
   ],
   "source": [
    "plpCommunities1.numberOfSubsets()"
   ]
  },
  {
   "cell_type": "code",
   "execution_count": 110,
   "metadata": {
    "colab": {
     "base_uri": "https://localhost:8080/"
    },
    "executionInfo": {
     "elapsed": 321,
     "status": "ok",
     "timestamp": 1728811419076,
     "user": {
      "displayName": "Marija Mitrovic Dankulov",
      "userId": "08541770027322135832"
     },
     "user_tz": -120
    },
    "id": "-iHp09PzearT",
    "outputId": "e46d90c9-ba16-4e41-cfcb-b169056b9053"
   },
   "outputs": [
    {
     "data": {
      "text/plain": [
       "1067862"
      ]
     },
     "execution_count": 110,
     "metadata": {},
     "output_type": "execute_result"
    },
    {
     "name": "stdout",
     "output_type": "stream",
     "text": [
      "time: 24.1 ms (started: 2024-10-15 10:40:36 +03:00)\n"
     ]
    }
   ],
   "source": [
    "len(plpCommunities1.getVector())"
   ]
  },
  {
   "cell_type": "code",
   "execution_count": 111,
   "metadata": {
    "colab": {
     "base_uri": "https://localhost:8080/"
    },
    "executionInfo": {
     "elapsed": 4,
     "status": "ok",
     "timestamp": 1728811447474,
     "user": {
      "displayName": "Marija Mitrovic Dankulov",
      "userId": "08541770027322135832"
     },
     "user_tz": -120
    },
    "id": "z_y-a5dQMMyn",
    "outputId": "47cfe40f-8155-407d-820a-27bd1d6f7829"
   },
   "outputs": [
    {
     "data": {
      "text/plain": [
       "[106, 106, 106, 106, 106, 106, 106, 106, 106, 106]"
      ]
     },
     "execution_count": 111,
     "metadata": {},
     "output_type": "execute_result"
    },
    {
     "name": "stdout",
     "output_type": "stream",
     "text": [
      "time: 21.1 ms (started: 2024-10-15 10:40:39 +03:00)\n"
     ]
    }
   ],
   "source": [
    "plpCommunities1.getVector()[0:10]"
   ]
  },
  {
   "cell_type": "code",
   "execution_count": 112,
   "metadata": {
    "colab": {
     "base_uri": "https://localhost:8080/"
    },
    "executionInfo": {
     "elapsed": 290,
     "status": "ok",
     "timestamp": 1728811483260,
     "user": {
      "displayName": "Marija Mitrovic Dankulov",
      "userId": "08541770027322135832"
     },
     "user_tz": -120
    },
    "id": "GOJY3LR0MEHo",
    "outputId": "ca6d1b12-f30f-4db9-a2e2-419338d8ba22"
   },
   "outputs": [
    {
     "name": "stdout",
     "output_type": "stream",
     "text": [
      "time: 628 µs (started: 2024-10-15 10:40:43 +03:00)\n"
     ]
    }
   ],
   "source": [
    "D=nk.community.AdjustedRandMeasure()"
   ]
  },
  {
   "cell_type": "code",
   "execution_count": 116,
   "metadata": {},
   "outputs": [
    {
     "data": {
      "text/plain": [
       "0.005134566920921069"
      ]
     },
     "execution_count": 116,
     "metadata": {},
     "output_type": "execute_result"
    },
    {
     "name": "stdout",
     "output_type": "stream",
     "text": [
      "time: 32.7 ms (started: 2024-10-15 10:41:10 +03:00)\n"
     ]
    }
   ],
   "source": [
    "D.getDissimilarity(GLJ,plpCommunities,plpCommunities1)"
   ]
  },
  {
   "cell_type": "code",
   "execution_count": 114,
   "metadata": {
    "colab": {
     "base_uri": "https://localhost:8080/"
    },
    "executionInfo": {
     "elapsed": 414,
     "status": "ok",
     "timestamp": 1728811522188,
     "user": {
      "displayName": "Marija Mitrovic Dankulov",
      "userId": "08541770027322135832"
     },
     "user_tz": -120
    },
    "id": "mR1xhYZKMjqi",
    "outputId": "57b35f15-790b-416e-8ae4-9e19ce9f6842"
   },
   "outputs": [
    {
     "data": {
      "text/plain": [
       "0.16643029518053631"
      ]
     },
     "execution_count": 114,
     "metadata": {},
     "output_type": "execute_result"
    },
    {
     "name": "stdout",
     "output_type": "stream",
     "text": [
      "time: 31.3 ms (started: 2024-10-15 10:40:54 +03:00)\n"
     ]
    }
   ],
   "source": [
    "D.getDissimilarity(GLJ,plpCommunities,plmPartition)"
   ]
  },
  {
   "cell_type": "code",
   "execution_count": 126,
   "metadata": {},
   "outputs": [
    {
     "data": {
      "text/plain": [
       "[65, 37, 999952, 18, 10, 73, 78, 4, 5]"
      ]
     },
     "execution_count": 126,
     "metadata": {},
     "output_type": "execute_result"
    },
    {
     "name": "stdout",
     "output_type": "stream",
     "text": [
      "time: 27.2 ms (started: 2024-10-15 10:44:00 +03:00)\n"
     ]
    }
   ],
   "source": [
    "sizes1 = plpCommunities1.subsetSizes()\n",
    "sizes1[1:10]"
   ]
  },
  {
   "cell_type": "code",
   "execution_count": 127,
   "metadata": {},
   "outputs": [
    {
     "data": {
      "text/plain": [
       "[11172, 1215, 851, 843, 822, 769, 603, 509, 502]"
      ]
     },
     "execution_count": 127,
     "metadata": {},
     "output_type": "execute_result"
    },
    {
     "name": "stdout",
     "output_type": "stream",
     "text": [
      "time: 3.38 ms (started: 2024-10-15 10:44:01 +03:00)\n"
     ]
    }
   ],
   "source": [
    "sizes1.sort(reverse=True)\n",
    "sizes1[1:10]"
   ]
  },
  {
   "cell_type": "code",
   "execution_count": 121,
   "metadata": {
    "colab": {
     "base_uri": "https://localhost:8080/",
     "height": 467
    },
    "executionInfo": {
     "elapsed": 2051,
     "status": "ok",
     "timestamp": 1728811548508,
     "user": {
      "displayName": "Marija Mitrovic Dankulov",
      "userId": "08541770027322135832"
     },
     "user_tz": -120
    },
    "id": "PaLvYa_qNT97",
    "outputId": "80cabd98-c946-45b5-c960-660596bead7d"
   },
   "outputs": [
    {
     "data": {
      "image/png": "[encoded data removed]",
      "text/plain": [
       "<Figure size 640x480 with 2 Axes>"
      ]
     },
     "metadata": {},
     "output_type": "display_data"
    },
    {
     "name": "stdout",
     "output_type": "stream",
     "text": [
      "time: 346 ms (started: 2024-10-15 10:42:08 +03:00)\n"
     ]
    }
   ],
   "source": [
    "sizes = plpCommunities.subsetSizes()\n",
    "sizes.sort(reverse=True)\n",
    "sizes1 = plpCommunities1.subsetSizes()\n",
    "sizes1.sort(reverse=True)\n",
    "#sizes2 = plmPartition.subsetSizes()\n",
    "#sizes2.sort(reverse=True)\n",
    "\n",
    "ax1 = plt.subplot(2,1,1)\n",
    "ax1.set_ylabel(\"size\")\n",
    "ax1.plot(sizes)\n",
    "ax1.plot(sizes1)\n",
    "\n",
    "ax2 = plt.subplot(2,1,2)\n",
    "ax2.set_xscale(\"log\")\n",
    "ax2.set_yscale(\"log\")\n",
    "ax2.set_ylabel(\"size\")\n",
    "ax2.plot(sizes)\n",
    "ax2.plot(sizes1)\n",
    "plt.show()"
   ]
  },
  {
   "cell_type": "code",
   "execution_count": 154,
   "metadata": {
    "id": "D2fUeMSMUwCZ"
   },
   "outputs": [
    {
     "name": "stdout",
     "output_type": "stream",
     "text": [
      "time: 2.06 ms (started: 2024-10-15 11:18:44 +03:00)\n"
     ]
    }
   ],
   "source": [
    "from math import log\n",
    "\n",
    "def mutual_info(c_A, c_B, S):\n",
    "    N_mA = len(c_A)\n",
    "    N_mB = len(c_B)\n",
    "    I_num = 0\n",
    "    for i in c_A:\n",
    "        for j in c_B:\n",
    "            n_i = len(c_A[i])\n",
    "            n_j = len(c_B[j])\n",
    "            n_ij = len(c_A[i] & c_B[j])\n",
    "            if n_ij == 0:\n",
    "                continue\n",
    "            log_term = log((n_ij * S) / (n_i * n_j))\n",
    "\n",
    "            I_num += n_ij * log_term\n",
    "    I_num *= -2\n",
    "\n",
    "    I_den = 0\n",
    "    for i in c_A:\n",
    "        n_i = len(c_A[i])\n",
    "        I_den += n_i * log(n_i / S)\n",
    "\n",
    "    for j in c_B:\n",
    "        n_j = len(c_B[j])\n",
    "        I_den += n_j * log(n_j / S)\n",
    "\n",
    "    I = I_num / I_den\n",
    "    return I"
   ]
  },
  {
   "cell_type": "code",
   "execution_count": 159,
   "metadata": {
    "id": "uryffNk3U26C"
   },
   "outputs": [
    {
     "name": "stdout",
     "output_type": "stream",
     "text": [
      "time: 2.07 ms (started: 2024-10-15 11:20:05 +03:00)\n"
     ]
    }
   ],
   "source": [
    "def vec_to_set(p,c):\n",
    "  s=[]\n",
    "  for se in p:\n",
    "    s.append(se)\n",
    "  s.sort()\n",
    "  s1=list(set(s))\n",
    "  cid={}\n",
    "  for i in range(len(s1)):\n",
    "    cid[s1[i]]=i\n",
    "  gtc={}\n",
    "  for i in range(0,c):\n",
    "    gtc[i]=[]\n",
    "  for j in range(len(p)):\n",
    "    gtc[cid[p[j]]].append(j)\n",
    "  for i in range(0,c):\n",
    "    gtc[i]=set(gtc[i])\n",
    "  return gtc"
   ]
  },
  {
   "cell_type": "code",
   "execution_count": 163,
   "metadata": {
    "id": "c7RBPUBpXrzv"
   },
   "outputs": [
    {
     "name": "stdout",
     "output_type": "stream",
     "text": [
      "time: 784 ms (started: 2024-10-15 11:23:06 +03:00)\n"
     ]
    }
   ],
   "source": [
    "PLP1=vec_to_set(plpCommunities.getVector(),plpCommunities.numberOfSubsets())\n",
    "PLP2=vec_to_set(plpCommunities1.getVector(),plpCommunities1.numberOfSubsets())\n",
    "PLM=vec_to_set(plmPartition.getVector(),plmPartition.numberOfSubsets())"
   ]
  },
  {
   "cell_type": "code",
   "execution_count": 164,
   "metadata": {
    "colab": {
     "base_uri": "https://localhost:8080/"
    },
    "executionInfo": {
     "elapsed": 4813,
     "status": "ok",
     "timestamp": 1728732834484,
     "user": {
      "displayName": "Marija Mitrovic Dankulov",
      "userId": "08541770027322135832"
     },
     "user_tz": -120
    },
    "id": "BFESHoZDXXWL",
    "outputId": "3d1b8f4c-f984-4371-b6b2-7be0110b48e6"
   },
   "outputs": [
    {
     "data": {
      "text/plain": [
       "0.9580856689877754"
      ]
     },
     "execution_count": 164,
     "metadata": {},
     "output_type": "execute_result"
    },
    {
     "name": "stdout",
     "output_type": "stream",
     "text": [
      "time: 2.4 s (started: 2024-10-15 11:23:07 +03:00)\n"
     ]
    }
   ],
   "source": [
    "mutual_info(PLP1,PLP2,GLJ.numberOfNodes())"
   ]
  },
  {
   "cell_type": "code",
   "execution_count": 165,
   "metadata": {},
   "outputs": [
    {
     "data": {
      "text/plain": [
       "0.4695948645153199"
      ]
     },
     "execution_count": 165,
     "metadata": {},
     "output_type": "execute_result"
    },
    {
     "name": "stdout",
     "output_type": "stream",
     "text": [
      "time: 1.06 s (started: 2024-10-15 11:23:12 +03:00)\n"
     ]
    }
   ],
   "source": [
    "mutual_info(PLP1,PLM,G.numberOfNodes())"
   ]
  },
  {
   "cell_type": "code",
   "execution_count": 167,
   "metadata": {},
   "outputs": [
    {
     "data": {
      "text/plain": [
       "0.4659832404362076"
      ]
     },
     "execution_count": 167,
     "metadata": {},
     "output_type": "execute_result"
    },
    {
     "name": "stdout",
     "output_type": "stream",
     "text": [
      "time: 1.07 s (started: 2024-10-15 11:25:18 +03:00)\n"
     ]
    }
   ],
   "source": [
    "mutual_info(PLP2,PLM,G.numberOfNodes())"
   ]
  },
  {
   "cell_type": "markdown",
   "metadata": {},
   "source": [
    "## Link prediction"
   ]
  },
  {
   "cell_type": "markdown",
   "metadata": {},
   "source": [
    "Adamic/Adar Index\n",
    "\n",
    "The Adamic/Adar Index predicts links in a graph according to the amount of shared links between two nodes. The index sums up the reciprocals of the logarithm of the degree of all common neighbors between two nodes u and v."
   ]
  },
  {
   "cell_type": "code",
   "execution_count": 4,
   "metadata": {},
   "outputs": [],
   "source": [
    "aai = nk.linkprediction.AdamicAdarIndex(G)"
   ]
  },
  {
   "cell_type": "code",
   "execution_count": 5,
   "metadata": {},
   "outputs": [],
   "source": [
    "v=948498\n",
    "u=36423"
   ]
  },
  {
   "cell_type": "code",
   "execution_count": 6,
   "metadata": {},
   "outputs": [
    {
     "data": {
      "text/plain": [
       "False"
      ]
     },
     "execution_count": 6,
     "metadata": {},
     "output_type": "execute_result"
    }
   ],
   "source": [
    "G.hasEdge(v,u)"
   ]
  },
  {
   "cell_type": "code",
   "execution_count": 7,
   "metadata": {},
   "outputs": [
    {
     "data": {
      "text/plain": [
       "0.0"
      ]
     },
     "execution_count": 7,
     "metadata": {},
     "output_type": "execute_result"
    }
   ],
   "source": [
    "aai.run(u,v)"
   ]
  },
  {
   "cell_type": "markdown",
   "metadata": {},
   "source": [
    "Algebraic Distance Index\n",
    "\n",
    "The Algebraic Distance Index assigns a distance value to pairs of nodes according to their structural closeness in the graph."
   ]
  },
  {
   "cell_type": "markdown",
   "metadata": {},
   "source": [
    "Preferential Attachment Index\n",
    "\n",
    "The Preferential Attachment Index suggests that the more connected a node is, the more likely it is to receive new links."
   ]
  },
  {
   "cell_type": "code",
   "execution_count": 8,
   "metadata": {},
   "outputs": [
    {
     "data": {
      "text/plain": [
       "28.0"
      ]
     },
     "execution_count": 8,
     "metadata": {},
     "output_type": "execute_result"
    }
   ],
   "source": [
    "pai = nk.linkprediction.PreferentialAttachmentIndex(G)\n",
    "\n",
    "# Calculate the preferential attachment index between two nodes\n",
    "pai.run(u, v)"
   ]
  },
  {
   "cell_type": "markdown",
   "metadata": {},
   "source": [
    "## Link sampling and link prediction"
   ]
  },
  {
   "cell_type": "code",
   "execution_count": null,
   "metadata": {},
   "outputs": [],
   "source": [
    "trainingGraph = nk.linkprediction.RandomLinkSampler.byPercentage(G, 0.7)\n",
    "\n",
    "# Find missing links\n",
    "missingLinks = nk.linkprediction.MissingLinksFinder(trainingGraph).findAtDistance(5)\n",
    "\n",
    "# Run link prediticion\n",
    "predictions = nk.linkprediction.KatzIndex(G).runOn(missingLinks)\n",
    "\n",
    "# Print the first 5 predictions\n",
    "for p in predictions[:5]:\n",
    "    print(p)"
   ]
  }
 ],
 "metadata": {
  "accelerator": "GPU",
  "colab": {
   "authorship_tag": "ABX9TyM9RQhlg4CBOUYsVEy+1hOh",
   "gpuType": "T4",
   "name": "",
   "version": ""
  },
  "kernelspec": {
   "display_name": "Python 3 (ipykernel)",
   "language": "python",
   "name": "python3"
  },
  "language_info": {
   "codemirror_mode": {
    "name": "ipython",
    "version": 3
   },
   "file_extension": ".py",
   "mimetype": "text/x-python",
   "name": "python",
   "nbconvert_exporter": "python",
   "pygments_lexer": "ipython3",
   "version": "3.10.12"
  }
 },
 "nbformat": 4,
 "nbformat_minor": 4
}
