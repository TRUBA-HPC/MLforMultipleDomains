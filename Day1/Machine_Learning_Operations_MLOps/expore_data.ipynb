{
 "cells": [
  {
   "cell_type": "code",
   "execution_count": 91,
   "metadata": {
    "collapsed": true
   },
   "outputs": [],
   "source": [
    "from sklearn.datasets import load_breast_cancer\n",
    "\n",
    "data = load_breast_cancer()"
   ]
  },
  {
   "cell_type": "code",
   "execution_count": 92,
   "outputs": [
    {
     "data": {
      "text/plain": "array([[1.799e+01, 1.038e+01, 1.228e+02, ..., 2.654e-01, 4.601e-01,\n        1.189e-01],\n       [2.057e+01, 1.777e+01, 1.329e+02, ..., 1.860e-01, 2.750e-01,\n        8.902e-02],\n       [1.969e+01, 2.125e+01, 1.300e+02, ..., 2.430e-01, 3.613e-01,\n        8.758e-02],\n       ...,\n       [1.660e+01, 2.808e+01, 1.083e+02, ..., 1.418e-01, 2.218e-01,\n        7.820e-02],\n       [2.060e+01, 2.933e+01, 1.401e+02, ..., 2.650e-01, 4.087e-01,\n        1.240e-01],\n       [7.760e+00, 2.454e+01, 4.792e+01, ..., 0.000e+00, 2.871e-01,\n        7.039e-02]])"
     },
     "execution_count": 92,
     "metadata": {},
     "output_type": "execute_result"
    }
   ],
   "source": [
    "data.data"
   ],
   "metadata": {
    "collapsed": false
   }
  },
  {
   "cell_type": "code",
   "execution_count": 93,
   "outputs": [
    {
     "data": {
      "text/plain": "array([0, 0, 0, 0, 0, 0, 0, 0, 0, 0, 0, 0, 0, 0, 0, 0, 0, 0, 0, 1, 1, 1,\n       0, 0, 0, 0, 0, 0, 0, 0, 0, 0, 0, 0, 0, 0, 0, 1, 0, 0, 0, 0, 0, 0,\n       0, 0, 1, 0, 1, 1, 1, 1, 1, 0, 0, 1, 0, 0, 1, 1, 1, 1, 0, 1, 0, 0,\n       1, 1, 1, 1, 0, 1, 0, 0, 1, 0, 1, 0, 0, 1, 1, 1, 0, 0, 1, 0, 0, 0,\n       1, 1, 1, 0, 1, 1, 0, 0, 1, 1, 1, 0, 0, 1, 1, 1, 1, 0, 1, 1, 0, 1,\n       1, 1, 1, 1, 1, 1, 1, 0, 0, 0, 1, 0, 0, 1, 1, 1, 0, 0, 1, 0, 1, 0,\n       0, 1, 0, 0, 1, 1, 0, 1, 1, 0, 1, 1, 1, 1, 0, 1, 1, 1, 1, 1, 1, 1,\n       1, 1, 0, 1, 1, 1, 1, 0, 0, 1, 0, 1, 1, 0, 0, 1, 1, 0, 0, 1, 1, 1,\n       1, 0, 1, 1, 0, 0, 0, 1, 0, 1, 0, 1, 1, 1, 0, 1, 1, 0, 0, 1, 0, 0,\n       0, 0, 1, 0, 0, 0, 1, 0, 1, 0, 1, 1, 0, 1, 0, 0, 0, 0, 1, 1, 0, 0,\n       1, 1, 1, 0, 1, 1, 1, 1, 1, 0, 0, 1, 1, 0, 1, 1, 0, 0, 1, 0, 1, 1,\n       1, 1, 0, 1, 1, 1, 1, 1, 0, 1, 0, 0, 0, 0, 0, 0, 0, 0, 0, 0, 0, 0,\n       0, 0, 1, 1, 1, 1, 1, 1, 0, 1, 0, 1, 1, 0, 1, 1, 0, 1, 0, 0, 1, 1,\n       1, 1, 1, 1, 1, 1, 1, 1, 1, 1, 1, 0, 1, 1, 0, 1, 0, 1, 1, 1, 1, 1,\n       1, 1, 1, 1, 1, 1, 1, 1, 1, 0, 1, 1, 1, 0, 1, 0, 1, 1, 1, 1, 0, 0,\n       0, 1, 1, 1, 1, 0, 1, 0, 1, 0, 1, 1, 1, 0, 1, 1, 1, 1, 1, 1, 1, 0,\n       0, 0, 1, 1, 1, 1, 1, 1, 1, 1, 1, 1, 1, 0, 0, 1, 0, 0, 0, 1, 0, 0,\n       1, 1, 1, 1, 1, 0, 1, 1, 1, 1, 1, 0, 1, 1, 1, 0, 1, 1, 0, 0, 1, 1,\n       1, 1, 1, 1, 0, 1, 1, 1, 1, 1, 1, 1, 0, 1, 1, 1, 1, 1, 0, 1, 1, 0,\n       1, 1, 1, 1, 1, 1, 1, 1, 1, 1, 1, 1, 0, 1, 0, 0, 1, 0, 1, 1, 1, 1,\n       1, 0, 1, 1, 0, 1, 0, 1, 1, 0, 1, 0, 1, 1, 1, 1, 1, 1, 1, 1, 0, 0,\n       1, 1, 1, 1, 1, 1, 0, 1, 1, 1, 1, 1, 1, 1, 1, 1, 1, 0, 1, 1, 1, 1,\n       1, 1, 1, 0, 1, 0, 1, 1, 0, 1, 1, 1, 1, 1, 0, 0, 1, 0, 1, 0, 1, 1,\n       1, 1, 1, 0, 1, 1, 0, 1, 0, 1, 0, 0, 1, 1, 1, 0, 1, 1, 1, 1, 1, 1,\n       1, 1, 1, 1, 1, 0, 1, 0, 0, 1, 1, 1, 1, 1, 1, 1, 1, 1, 1, 1, 1, 1,\n       1, 1, 1, 1, 1, 1, 1, 1, 1, 1, 1, 1, 0, 0, 0, 0, 0, 0, 1])"
     },
     "execution_count": 93,
     "metadata": {},
     "output_type": "execute_result"
    }
   ],
   "source": [
    "data.target"
   ],
   "metadata": {
    "collapsed": false
   }
  },
  {
   "cell_type": "code",
   "execution_count": 94,
   "outputs": [],
   "source": [
    "from sklearn.model_selection import train_test_split\n",
    "\n",
    "X_train, X_test, y_train, y_test = train_test_split(data.data, data.target, test_size=0.2, random_state=42)"
   ],
   "metadata": {
    "collapsed": false
   }
  },
  {
   "cell_type": "code",
   "execution_count": 96,
   "outputs": [
    {
     "data": {
      "text/plain": "array([1, 0, 0, 1, 1, 0, 0, 0, 1, 1, 1, 0, 1, 0, 1, 0, 1, 1, 1, 0, 0, 1,\n       0, 1, 1, 1, 1, 1, 1, 0, 1, 1, 1, 1, 1, 1, 0, 1, 0, 1, 1, 0, 1, 1,\n       1, 1, 1, 1, 1, 1, 0, 0, 1, 1, 1, 1, 1, 0, 0, 1, 1, 0, 0, 1, 1, 1,\n       0, 0, 1, 1, 0, 0, 1, 0, 1, 1, 1, 0, 1, 1, 0, 1, 0, 0, 0, 0, 0, 0,\n       1, 1, 1, 1, 1, 1, 1, 1, 0, 0, 1, 0, 0, 1, 0, 0, 1, 1, 1, 0, 1, 1,\n       0, 1, 1, 0])"
     },
     "execution_count": 96,
     "metadata": {},
     "output_type": "execute_result"
    }
   ],
   "source": [
    "y_test"
   ],
   "metadata": {
    "collapsed": false
   }
  },
  {
   "cell_type": "code",
   "execution_count": 97,
   "outputs": [],
   "source": [
    "import pandas as pd\n",
    "\n",
    "X_train = pd.DataFrame(X_train)\n",
    "X_test = pd.DataFrame(X_test)\n",
    "y_train = pd.DataFrame(y_train, columns=['y'])\n",
    "y_test = pd.DataFrame(y_test, columns=['y'])"
   ],
   "metadata": {
    "collapsed": false
   }
  },
  {
   "cell_type": "code",
   "execution_count": 98,
   "outputs": [],
   "source": [
    "train_df = X_train.join(y_train)\n",
    "test_df = X_test.join(y_test)"
   ],
   "metadata": {
    "collapsed": false
   }
  },
  {
   "cell_type": "code",
   "execution_count": 99,
   "outputs": [
    {
     "data": {
      "text/plain": "          0      1       2       3        4        5        6        7  \\\n0     9.029  17.33   58.79   250.5  0.10660  0.14130  0.31300  0.04375   \n1    21.090  26.57  142.70  1311.0  0.11410  0.28320  0.24870  0.14960   \n2     9.173  13.86   59.20   260.9  0.07721  0.08751  0.05988  0.02180   \n3    10.650  25.22   68.01   347.0  0.09657  0.07234  0.02379  0.01615   \n4    10.170  14.88   64.55   311.9  0.11340  0.08061  0.01084  0.01290   \n..      ...    ...     ...     ...      ...      ...      ...      ...   \n450   8.888  14.64   58.79   244.0  0.09783  0.15310  0.08606  0.02872   \n451  11.640  18.33   75.17   412.5  0.11420  0.10170  0.07070  0.03485   \n452  14.290  16.82   90.30   632.6  0.06429  0.02675  0.00725  0.00625   \n453  13.980  19.62   91.12   599.5  0.10600  0.11330  0.11260  0.06463   \n454  12.180  20.52   77.22   458.7  0.08013  0.04038  0.02383  0.01770   \n\n          8        9  ...     21      22      23       24       25       26  \\\n0    0.2111  0.08046  ...  22.65   65.50   324.7  0.14820  0.43650  1.25200   \n1    0.2395  0.07398  ...  33.48  176.50  2089.0  0.14910  0.75840  0.67800   \n2    0.2341  0.06963  ...  19.23   65.59   310.1  0.09836  0.16780  0.13970   \n3    0.1897  0.06329  ...  35.19   77.98   455.7  0.14990  0.13980  0.11250   \n4    0.2743  0.06960  ...  17.45   69.86   368.6  0.12750  0.09866  0.02168   \n..      ...      ...  ...    ...     ...     ...      ...      ...      ...   \n450  0.1902  0.08980  ...  15.67   62.56   284.4  0.12070  0.24360  0.14340   \n451  0.1801  0.06520  ...  29.26   85.51   521.7  0.16880  0.26600  0.28730   \n452  0.1508  0.05376  ...  20.65   94.44   684.6  0.08567  0.05036  0.03866   \n453  0.1669  0.06544  ...  30.80  113.90   869.3  0.16130  0.35680  0.40690   \n454  0.1739  0.05677  ...  32.84   84.58   547.8  0.11230  0.08862  0.11450   \n\n          27      28       29  y  \n0    0.17500  0.4228  0.11750  1  \n1    0.29030  0.4098  0.12840  0  \n2    0.05087  0.3282  0.08490  1  \n3    0.06136  0.3409  0.08147  1  \n4    0.02579  0.3557  0.08020  1  \n..       ...     ...      ... ..  \n450  0.04786  0.2254  0.10840  1  \n451  0.12180  0.2806  0.09097  1  \n452  0.03333  0.2458  0.06120  1  \n453  0.18270  0.3179  0.10550  0  \n454  0.07431  0.2694  0.06878  1  \n\n[455 rows x 31 columns]",
      "text/html": "<div>\n<style scoped>\n    .dataframe tbody tr th:only-of-type {\n        vertical-align: middle;\n    }\n\n    .dataframe tbody tr th {\n        vertical-align: top;\n    }\n\n    .dataframe thead th {\n        text-align: right;\n    }\n</style>\n<table border=\"1\" class=\"dataframe\">\n  <thead>\n    <tr style=\"text-align: right;\">\n      <th></th>\n      <th>0</th>\n      <th>1</th>\n      <th>2</th>\n      <th>3</th>\n      <th>4</th>\n      <th>5</th>\n      <th>6</th>\n      <th>7</th>\n      <th>8</th>\n      <th>9</th>\n      <th>...</th>\n      <th>21</th>\n      <th>22</th>\n      <th>23</th>\n      <th>24</th>\n      <th>25</th>\n      <th>26</th>\n      <th>27</th>\n      <th>28</th>\n      <th>29</th>\n      <th>y</th>\n    </tr>\n  </thead>\n  <tbody>\n    <tr>\n      <th>0</th>\n      <td>9.029</td>\n      <td>17.33</td>\n      <td>58.79</td>\n      <td>250.5</td>\n      <td>0.10660</td>\n      <td>0.14130</td>\n      <td>0.31300</td>\n      <td>0.04375</td>\n      <td>0.2111</td>\n      <td>0.08046</td>\n      <td>...</td>\n      <td>22.65</td>\n      <td>65.50</td>\n      <td>324.7</td>\n      <td>0.14820</td>\n      <td>0.43650</td>\n      <td>1.25200</td>\n      <td>0.17500</td>\n      <td>0.4228</td>\n      <td>0.11750</td>\n      <td>1</td>\n    </tr>\n    <tr>\n      <th>1</th>\n      <td>21.090</td>\n      <td>26.57</td>\n      <td>142.70</td>\n      <td>1311.0</td>\n      <td>0.11410</td>\n      <td>0.28320</td>\n      <td>0.24870</td>\n      <td>0.14960</td>\n      <td>0.2395</td>\n      <td>0.07398</td>\n      <td>...</td>\n      <td>33.48</td>\n      <td>176.50</td>\n      <td>2089.0</td>\n      <td>0.14910</td>\n      <td>0.75840</td>\n      <td>0.67800</td>\n      <td>0.29030</td>\n      <td>0.4098</td>\n      <td>0.12840</td>\n      <td>0</td>\n    </tr>\n    <tr>\n      <th>2</th>\n      <td>9.173</td>\n      <td>13.86</td>\n      <td>59.20</td>\n      <td>260.9</td>\n      <td>0.07721</td>\n      <td>0.08751</td>\n      <td>0.05988</td>\n      <td>0.02180</td>\n      <td>0.2341</td>\n      <td>0.06963</td>\n      <td>...</td>\n      <td>19.23</td>\n      <td>65.59</td>\n      <td>310.1</td>\n      <td>0.09836</td>\n      <td>0.16780</td>\n      <td>0.13970</td>\n      <td>0.05087</td>\n      <td>0.3282</td>\n      <td>0.08490</td>\n      <td>1</td>\n    </tr>\n    <tr>\n      <th>3</th>\n      <td>10.650</td>\n      <td>25.22</td>\n      <td>68.01</td>\n      <td>347.0</td>\n      <td>0.09657</td>\n      <td>0.07234</td>\n      <td>0.02379</td>\n      <td>0.01615</td>\n      <td>0.1897</td>\n      <td>0.06329</td>\n      <td>...</td>\n      <td>35.19</td>\n      <td>77.98</td>\n      <td>455.7</td>\n      <td>0.14990</td>\n      <td>0.13980</td>\n      <td>0.11250</td>\n      <td>0.06136</td>\n      <td>0.3409</td>\n      <td>0.08147</td>\n      <td>1</td>\n    </tr>\n    <tr>\n      <th>4</th>\n      <td>10.170</td>\n      <td>14.88</td>\n      <td>64.55</td>\n      <td>311.9</td>\n      <td>0.11340</td>\n      <td>0.08061</td>\n      <td>0.01084</td>\n      <td>0.01290</td>\n      <td>0.2743</td>\n      <td>0.06960</td>\n      <td>...</td>\n      <td>17.45</td>\n      <td>69.86</td>\n      <td>368.6</td>\n      <td>0.12750</td>\n      <td>0.09866</td>\n      <td>0.02168</td>\n      <td>0.02579</td>\n      <td>0.3557</td>\n      <td>0.08020</td>\n      <td>1</td>\n    </tr>\n    <tr>\n      <th>...</th>\n      <td>...</td>\n      <td>...</td>\n      <td>...</td>\n      <td>...</td>\n      <td>...</td>\n      <td>...</td>\n      <td>...</td>\n      <td>...</td>\n      <td>...</td>\n      <td>...</td>\n      <td>...</td>\n      <td>...</td>\n      <td>...</td>\n      <td>...</td>\n      <td>...</td>\n      <td>...</td>\n      <td>...</td>\n      <td>...</td>\n      <td>...</td>\n      <td>...</td>\n      <td>...</td>\n    </tr>\n    <tr>\n      <th>450</th>\n      <td>8.888</td>\n      <td>14.64</td>\n      <td>58.79</td>\n      <td>244.0</td>\n      <td>0.09783</td>\n      <td>0.15310</td>\n      <td>0.08606</td>\n      <td>0.02872</td>\n      <td>0.1902</td>\n      <td>0.08980</td>\n      <td>...</td>\n      <td>15.67</td>\n      <td>62.56</td>\n      <td>284.4</td>\n      <td>0.12070</td>\n      <td>0.24360</td>\n      <td>0.14340</td>\n      <td>0.04786</td>\n      <td>0.2254</td>\n      <td>0.10840</td>\n      <td>1</td>\n    </tr>\n    <tr>\n      <th>451</th>\n      <td>11.640</td>\n      <td>18.33</td>\n      <td>75.17</td>\n      <td>412.5</td>\n      <td>0.11420</td>\n      <td>0.10170</td>\n      <td>0.07070</td>\n      <td>0.03485</td>\n      <td>0.1801</td>\n      <td>0.06520</td>\n      <td>...</td>\n      <td>29.26</td>\n      <td>85.51</td>\n      <td>521.7</td>\n      <td>0.16880</td>\n      <td>0.26600</td>\n      <td>0.28730</td>\n      <td>0.12180</td>\n      <td>0.2806</td>\n      <td>0.09097</td>\n      <td>1</td>\n    </tr>\n    <tr>\n      <th>452</th>\n      <td>14.290</td>\n      <td>16.82</td>\n      <td>90.30</td>\n      <td>632.6</td>\n      <td>0.06429</td>\n      <td>0.02675</td>\n      <td>0.00725</td>\n      <td>0.00625</td>\n      <td>0.1508</td>\n      <td>0.05376</td>\n      <td>...</td>\n      <td>20.65</td>\n      <td>94.44</td>\n      <td>684.6</td>\n      <td>0.08567</td>\n      <td>0.05036</td>\n      <td>0.03866</td>\n      <td>0.03333</td>\n      <td>0.2458</td>\n      <td>0.06120</td>\n      <td>1</td>\n    </tr>\n    <tr>\n      <th>453</th>\n      <td>13.980</td>\n      <td>19.62</td>\n      <td>91.12</td>\n      <td>599.5</td>\n      <td>0.10600</td>\n      <td>0.11330</td>\n      <td>0.11260</td>\n      <td>0.06463</td>\n      <td>0.1669</td>\n      <td>0.06544</td>\n      <td>...</td>\n      <td>30.80</td>\n      <td>113.90</td>\n      <td>869.3</td>\n      <td>0.16130</td>\n      <td>0.35680</td>\n      <td>0.40690</td>\n      <td>0.18270</td>\n      <td>0.3179</td>\n      <td>0.10550</td>\n      <td>0</td>\n    </tr>\n    <tr>\n      <th>454</th>\n      <td>12.180</td>\n      <td>20.52</td>\n      <td>77.22</td>\n      <td>458.7</td>\n      <td>0.08013</td>\n      <td>0.04038</td>\n      <td>0.02383</td>\n      <td>0.01770</td>\n      <td>0.1739</td>\n      <td>0.05677</td>\n      <td>...</td>\n      <td>32.84</td>\n      <td>84.58</td>\n      <td>547.8</td>\n      <td>0.11230</td>\n      <td>0.08862</td>\n      <td>0.11450</td>\n      <td>0.07431</td>\n      <td>0.2694</td>\n      <td>0.06878</td>\n      <td>1</td>\n    </tr>\n  </tbody>\n</table>\n<p>455 rows × 31 columns</p>\n</div>"
     },
     "execution_count": 99,
     "metadata": {},
     "output_type": "execute_result"
    }
   ],
   "source": [
    "train_df"
   ],
   "metadata": {
    "collapsed": false
   }
  },
  {
   "cell_type": "code",
   "execution_count": 100,
   "outputs": [],
   "source": [
    "train_df_reduced = train_df.sample(frac=0.2, random_state=1).reset_index(drop=True)"
   ],
   "metadata": {
    "collapsed": false
   }
  },
  {
   "cell_type": "code",
   "execution_count": 101,
   "outputs": [
    {
     "data": {
      "text/plain": "         0      1       2      3        4        5        6         7       8  \\\n0   11.360  17.57   72.49  399.8  0.08858  0.05313  0.02783  0.021000  0.1601   \n1   11.760  21.60   74.72  427.9  0.08637  0.04966  0.01657  0.011150  0.1495   \n2   10.960  17.62   70.79  365.6  0.09687  0.09752  0.05263  0.027880  0.1619   \n3    9.405  21.70   59.60  271.2  0.10440  0.06159  0.02047  0.012570  0.2025   \n4   16.170  16.07  106.30  788.5  0.09880  0.14380  0.06651  0.053970  0.1990   \n..     ...    ...     ...    ...      ...      ...      ...       ...     ...   \n86  12.420  15.04   78.61  476.5  0.07926  0.03393  0.01053  0.011080  0.1546   \n87  12.720  17.67   80.98  501.3  0.07896  0.04522  0.01402  0.018350  0.1459   \n88  13.770  13.27   88.06  582.7  0.09198  0.06221  0.01063  0.019170  0.1592   \n89  14.260  18.17   91.22  633.1  0.06576  0.05220  0.02475  0.013740  0.1635   \n90  11.320  27.08   71.76  395.7  0.06883  0.03813  0.01633  0.003125  0.1869   \n\n          9  ...     21      22     23       24       25       26       27  \\\n0   0.05913  ...  36.32   85.07  521.3  0.14530  0.16220  0.18110  0.08698   \n1   0.05888  ...  25.72   82.98  516.5  0.10850  0.08615  0.05523  0.03715   \n2   0.06408  ...  26.51   76.43  407.5  0.14280  0.25100  0.21230  0.09861   \n3   0.06601  ...  31.24   68.73  359.4  0.15260  0.11930  0.06141  0.03770   \n4   0.06572  ...  19.14  113.10  861.5  0.12350  0.25500  0.21140  0.12510   \n..      ...  ...    ...     ...    ...      ...      ...      ...      ...   \n86  0.05754  ...  20.37   83.85  543.4  0.10370  0.07776  0.06243  0.04052   \n87  0.05544  ...  20.96   88.87  586.8  0.10680  0.09605  0.03469  0.03612   \n88  0.05912  ...  16.93   94.17  661.1  0.11700  0.10720  0.03732  0.05802   \n89  0.05586  ...  25.26  105.80  819.7  0.09445  0.21670  0.15650  0.07530   \n90  0.05628  ...  33.75   79.82  452.3  0.09203  0.14320  0.10890  0.02083   \n\n        28       29  y  \n0   0.2973  0.07745  1  \n1   0.2433  0.06563  1  \n2   0.2289  0.08278  1  \n3   0.2872  0.08304  1  \n4   0.3153  0.08960  1  \n..     ...      ... ..  \n86  0.2901  0.06783  1  \n87  0.2165  0.06025  1  \n88  0.2823  0.06794  1  \n89  0.2636  0.07676  1  \n90  0.2849  0.07087  1  \n\n[91 rows x 31 columns]",
      "text/html": "<div>\n<style scoped>\n    .dataframe tbody tr th:only-of-type {\n        vertical-align: middle;\n    }\n\n    .dataframe tbody tr th {\n        vertical-align: top;\n    }\n\n    .dataframe thead th {\n        text-align: right;\n    }\n</style>\n<table border=\"1\" class=\"dataframe\">\n  <thead>\n    <tr style=\"text-align: right;\">\n      <th></th>\n      <th>0</th>\n      <th>1</th>\n      <th>2</th>\n      <th>3</th>\n      <th>4</th>\n      <th>5</th>\n      <th>6</th>\n      <th>7</th>\n      <th>8</th>\n      <th>9</th>\n      <th>...</th>\n      <th>21</th>\n      <th>22</th>\n      <th>23</th>\n      <th>24</th>\n      <th>25</th>\n      <th>26</th>\n      <th>27</th>\n      <th>28</th>\n      <th>29</th>\n      <th>y</th>\n    </tr>\n  </thead>\n  <tbody>\n    <tr>\n      <th>0</th>\n      <td>11.360</td>\n      <td>17.57</td>\n      <td>72.49</td>\n      <td>399.8</td>\n      <td>0.08858</td>\n      <td>0.05313</td>\n      <td>0.02783</td>\n      <td>0.021000</td>\n      <td>0.1601</td>\n      <td>0.05913</td>\n      <td>...</td>\n      <td>36.32</td>\n      <td>85.07</td>\n      <td>521.3</td>\n      <td>0.14530</td>\n      <td>0.16220</td>\n      <td>0.18110</td>\n      <td>0.08698</td>\n      <td>0.2973</td>\n      <td>0.07745</td>\n      <td>1</td>\n    </tr>\n    <tr>\n      <th>1</th>\n      <td>11.760</td>\n      <td>21.60</td>\n      <td>74.72</td>\n      <td>427.9</td>\n      <td>0.08637</td>\n      <td>0.04966</td>\n      <td>0.01657</td>\n      <td>0.011150</td>\n      <td>0.1495</td>\n      <td>0.05888</td>\n      <td>...</td>\n      <td>25.72</td>\n      <td>82.98</td>\n      <td>516.5</td>\n      <td>0.10850</td>\n      <td>0.08615</td>\n      <td>0.05523</td>\n      <td>0.03715</td>\n      <td>0.2433</td>\n      <td>0.06563</td>\n      <td>1</td>\n    </tr>\n    <tr>\n      <th>2</th>\n      <td>10.960</td>\n      <td>17.62</td>\n      <td>70.79</td>\n      <td>365.6</td>\n      <td>0.09687</td>\n      <td>0.09752</td>\n      <td>0.05263</td>\n      <td>0.027880</td>\n      <td>0.1619</td>\n      <td>0.06408</td>\n      <td>...</td>\n      <td>26.51</td>\n      <td>76.43</td>\n      <td>407.5</td>\n      <td>0.14280</td>\n      <td>0.25100</td>\n      <td>0.21230</td>\n      <td>0.09861</td>\n      <td>0.2289</td>\n      <td>0.08278</td>\n      <td>1</td>\n    </tr>\n    <tr>\n      <th>3</th>\n      <td>9.405</td>\n      <td>21.70</td>\n      <td>59.60</td>\n      <td>271.2</td>\n      <td>0.10440</td>\n      <td>0.06159</td>\n      <td>0.02047</td>\n      <td>0.012570</td>\n      <td>0.2025</td>\n      <td>0.06601</td>\n      <td>...</td>\n      <td>31.24</td>\n      <td>68.73</td>\n      <td>359.4</td>\n      <td>0.15260</td>\n      <td>0.11930</td>\n      <td>0.06141</td>\n      <td>0.03770</td>\n      <td>0.2872</td>\n      <td>0.08304</td>\n      <td>1</td>\n    </tr>\n    <tr>\n      <th>4</th>\n      <td>16.170</td>\n      <td>16.07</td>\n      <td>106.30</td>\n      <td>788.5</td>\n      <td>0.09880</td>\n      <td>0.14380</td>\n      <td>0.06651</td>\n      <td>0.053970</td>\n      <td>0.1990</td>\n      <td>0.06572</td>\n      <td>...</td>\n      <td>19.14</td>\n      <td>113.10</td>\n      <td>861.5</td>\n      <td>0.12350</td>\n      <td>0.25500</td>\n      <td>0.21140</td>\n      <td>0.12510</td>\n      <td>0.3153</td>\n      <td>0.08960</td>\n      <td>1</td>\n    </tr>\n    <tr>\n      <th>...</th>\n      <td>...</td>\n      <td>...</td>\n      <td>...</td>\n      <td>...</td>\n      <td>...</td>\n      <td>...</td>\n      <td>...</td>\n      <td>...</td>\n      <td>...</td>\n      <td>...</td>\n      <td>...</td>\n      <td>...</td>\n      <td>...</td>\n      <td>...</td>\n      <td>...</td>\n      <td>...</td>\n      <td>...</td>\n      <td>...</td>\n      <td>...</td>\n      <td>...</td>\n      <td>...</td>\n    </tr>\n    <tr>\n      <th>86</th>\n      <td>12.420</td>\n      <td>15.04</td>\n      <td>78.61</td>\n      <td>476.5</td>\n      <td>0.07926</td>\n      <td>0.03393</td>\n      <td>0.01053</td>\n      <td>0.011080</td>\n      <td>0.1546</td>\n      <td>0.05754</td>\n      <td>...</td>\n      <td>20.37</td>\n      <td>83.85</td>\n      <td>543.4</td>\n      <td>0.10370</td>\n      <td>0.07776</td>\n      <td>0.06243</td>\n      <td>0.04052</td>\n      <td>0.2901</td>\n      <td>0.06783</td>\n      <td>1</td>\n    </tr>\n    <tr>\n      <th>87</th>\n      <td>12.720</td>\n      <td>17.67</td>\n      <td>80.98</td>\n      <td>501.3</td>\n      <td>0.07896</td>\n      <td>0.04522</td>\n      <td>0.01402</td>\n      <td>0.018350</td>\n      <td>0.1459</td>\n      <td>0.05544</td>\n      <td>...</td>\n      <td>20.96</td>\n      <td>88.87</td>\n      <td>586.8</td>\n      <td>0.10680</td>\n      <td>0.09605</td>\n      <td>0.03469</td>\n      <td>0.03612</td>\n      <td>0.2165</td>\n      <td>0.06025</td>\n      <td>1</td>\n    </tr>\n    <tr>\n      <th>88</th>\n      <td>13.770</td>\n      <td>13.27</td>\n      <td>88.06</td>\n      <td>582.7</td>\n      <td>0.09198</td>\n      <td>0.06221</td>\n      <td>0.01063</td>\n      <td>0.019170</td>\n      <td>0.1592</td>\n      <td>0.05912</td>\n      <td>...</td>\n      <td>16.93</td>\n      <td>94.17</td>\n      <td>661.1</td>\n      <td>0.11700</td>\n      <td>0.10720</td>\n      <td>0.03732</td>\n      <td>0.05802</td>\n      <td>0.2823</td>\n      <td>0.06794</td>\n      <td>1</td>\n    </tr>\n    <tr>\n      <th>89</th>\n      <td>14.260</td>\n      <td>18.17</td>\n      <td>91.22</td>\n      <td>633.1</td>\n      <td>0.06576</td>\n      <td>0.05220</td>\n      <td>0.02475</td>\n      <td>0.013740</td>\n      <td>0.1635</td>\n      <td>0.05586</td>\n      <td>...</td>\n      <td>25.26</td>\n      <td>105.80</td>\n      <td>819.7</td>\n      <td>0.09445</td>\n      <td>0.21670</td>\n      <td>0.15650</td>\n      <td>0.07530</td>\n      <td>0.2636</td>\n      <td>0.07676</td>\n      <td>1</td>\n    </tr>\n    <tr>\n      <th>90</th>\n      <td>11.320</td>\n      <td>27.08</td>\n      <td>71.76</td>\n      <td>395.7</td>\n      <td>0.06883</td>\n      <td>0.03813</td>\n      <td>0.01633</td>\n      <td>0.003125</td>\n      <td>0.1869</td>\n      <td>0.05628</td>\n      <td>...</td>\n      <td>33.75</td>\n      <td>79.82</td>\n      <td>452.3</td>\n      <td>0.09203</td>\n      <td>0.14320</td>\n      <td>0.10890</td>\n      <td>0.02083</td>\n      <td>0.2849</td>\n      <td>0.07087</td>\n      <td>1</td>\n    </tr>\n  </tbody>\n</table>\n<p>91 rows × 31 columns</p>\n</div>"
     },
     "execution_count": 101,
     "metadata": {},
     "output_type": "execute_result"
    }
   ],
   "source": [
    "train_df_reduced"
   ],
   "metadata": {
    "collapsed": false
   }
  },
  {
   "cell_type": "code",
   "execution_count": 102,
   "outputs": [],
   "source": [
    "train_df_reduced.to_csv(\"./data/train.csv\", index=False)"
   ],
   "metadata": {
    "collapsed": false
   }
  },
  {
   "cell_type": "code",
   "execution_count": 103,
   "outputs": [],
   "source": [
    "test_df.to_csv(\"./data/test.csv\", index=False)"
   ],
   "metadata": {
    "collapsed": false
   }
  },
  {
   "cell_type": "code",
   "execution_count": 105,
   "outputs": [],
   "source": [
    "train_df.to_csv(\"./data/train.csv\", index=False)"
   ],
   "metadata": {
    "collapsed": false
   }
  },
  {
   "cell_type": "code",
   "execution_count": 104,
   "outputs": [
    {
     "data": {
      "text/plain": "          0      1       2       3        4        5        6        7  \\\n0     9.029  17.33   58.79   250.5  0.10660  0.14130  0.31300  0.04375   \n1    21.090  26.57  142.70  1311.0  0.11410  0.28320  0.24870  0.14960   \n2     9.173  13.86   59.20   260.9  0.07721  0.08751  0.05988  0.02180   \n3    10.650  25.22   68.01   347.0  0.09657  0.07234  0.02379  0.01615   \n4    10.170  14.88   64.55   311.9  0.11340  0.08061  0.01084  0.01290   \n..      ...    ...     ...     ...      ...      ...      ...      ...   \n450   8.888  14.64   58.79   244.0  0.09783  0.15310  0.08606  0.02872   \n451  11.640  18.33   75.17   412.5  0.11420  0.10170  0.07070  0.03485   \n452  14.290  16.82   90.30   632.6  0.06429  0.02675  0.00725  0.00625   \n453  13.980  19.62   91.12   599.5  0.10600  0.11330  0.11260  0.06463   \n454  12.180  20.52   77.22   458.7  0.08013  0.04038  0.02383  0.01770   \n\n          8        9  ...     21      22      23       24       25       26  \\\n0    0.2111  0.08046  ...  22.65   65.50   324.7  0.14820  0.43650  1.25200   \n1    0.2395  0.07398  ...  33.48  176.50  2089.0  0.14910  0.75840  0.67800   \n2    0.2341  0.06963  ...  19.23   65.59   310.1  0.09836  0.16780  0.13970   \n3    0.1897  0.06329  ...  35.19   77.98   455.7  0.14990  0.13980  0.11250   \n4    0.2743  0.06960  ...  17.45   69.86   368.6  0.12750  0.09866  0.02168   \n..      ...      ...  ...    ...     ...     ...      ...      ...      ...   \n450  0.1902  0.08980  ...  15.67   62.56   284.4  0.12070  0.24360  0.14340   \n451  0.1801  0.06520  ...  29.26   85.51   521.7  0.16880  0.26600  0.28730   \n452  0.1508  0.05376  ...  20.65   94.44   684.6  0.08567  0.05036  0.03866   \n453  0.1669  0.06544  ...  30.80  113.90   869.3  0.16130  0.35680  0.40690   \n454  0.1739  0.05677  ...  32.84   84.58   547.8  0.11230  0.08862  0.11450   \n\n          27      28       29  y  \n0    0.17500  0.4228  0.11750  1  \n1    0.29030  0.4098  0.12840  0  \n2    0.05087  0.3282  0.08490  1  \n3    0.06136  0.3409  0.08147  1  \n4    0.02579  0.3557  0.08020  1  \n..       ...     ...      ... ..  \n450  0.04786  0.2254  0.10840  1  \n451  0.12180  0.2806  0.09097  1  \n452  0.03333  0.2458  0.06120  1  \n453  0.18270  0.3179  0.10550  0  \n454  0.07431  0.2694  0.06878  1  \n\n[455 rows x 31 columns]",
      "text/html": "<div>\n<style scoped>\n    .dataframe tbody tr th:only-of-type {\n        vertical-align: middle;\n    }\n\n    .dataframe tbody tr th {\n        vertical-align: top;\n    }\n\n    .dataframe thead th {\n        text-align: right;\n    }\n</style>\n<table border=\"1\" class=\"dataframe\">\n  <thead>\n    <tr style=\"text-align: right;\">\n      <th></th>\n      <th>0</th>\n      <th>1</th>\n      <th>2</th>\n      <th>3</th>\n      <th>4</th>\n      <th>5</th>\n      <th>6</th>\n      <th>7</th>\n      <th>8</th>\n      <th>9</th>\n      <th>...</th>\n      <th>21</th>\n      <th>22</th>\n      <th>23</th>\n      <th>24</th>\n      <th>25</th>\n      <th>26</th>\n      <th>27</th>\n      <th>28</th>\n      <th>29</th>\n      <th>y</th>\n    </tr>\n  </thead>\n  <tbody>\n    <tr>\n      <th>0</th>\n      <td>9.029</td>\n      <td>17.33</td>\n      <td>58.79</td>\n      <td>250.5</td>\n      <td>0.10660</td>\n      <td>0.14130</td>\n      <td>0.31300</td>\n      <td>0.04375</td>\n      <td>0.2111</td>\n      <td>0.08046</td>\n      <td>...</td>\n      <td>22.65</td>\n      <td>65.50</td>\n      <td>324.7</td>\n      <td>0.14820</td>\n      <td>0.43650</td>\n      <td>1.25200</td>\n      <td>0.17500</td>\n      <td>0.4228</td>\n      <td>0.11750</td>\n      <td>1</td>\n    </tr>\n    <tr>\n      <th>1</th>\n      <td>21.090</td>\n      <td>26.57</td>\n      <td>142.70</td>\n      <td>1311.0</td>\n      <td>0.11410</td>\n      <td>0.28320</td>\n      <td>0.24870</td>\n      <td>0.14960</td>\n      <td>0.2395</td>\n      <td>0.07398</td>\n      <td>...</td>\n      <td>33.48</td>\n      <td>176.50</td>\n      <td>2089.0</td>\n      <td>0.14910</td>\n      <td>0.75840</td>\n      <td>0.67800</td>\n      <td>0.29030</td>\n      <td>0.4098</td>\n      <td>0.12840</td>\n      <td>0</td>\n    </tr>\n    <tr>\n      <th>2</th>\n      <td>9.173</td>\n      <td>13.86</td>\n      <td>59.20</td>\n      <td>260.9</td>\n      <td>0.07721</td>\n      <td>0.08751</td>\n      <td>0.05988</td>\n      <td>0.02180</td>\n      <td>0.2341</td>\n      <td>0.06963</td>\n      <td>...</td>\n      <td>19.23</td>\n      <td>65.59</td>\n      <td>310.1</td>\n      <td>0.09836</td>\n      <td>0.16780</td>\n      <td>0.13970</td>\n      <td>0.05087</td>\n      <td>0.3282</td>\n      <td>0.08490</td>\n      <td>1</td>\n    </tr>\n    <tr>\n      <th>3</th>\n      <td>10.650</td>\n      <td>25.22</td>\n      <td>68.01</td>\n      <td>347.0</td>\n      <td>0.09657</td>\n      <td>0.07234</td>\n      <td>0.02379</td>\n      <td>0.01615</td>\n      <td>0.1897</td>\n      <td>0.06329</td>\n      <td>...</td>\n      <td>35.19</td>\n      <td>77.98</td>\n      <td>455.7</td>\n      <td>0.14990</td>\n      <td>0.13980</td>\n      <td>0.11250</td>\n      <td>0.06136</td>\n      <td>0.3409</td>\n      <td>0.08147</td>\n      <td>1</td>\n    </tr>\n    <tr>\n      <th>4</th>\n      <td>10.170</td>\n      <td>14.88</td>\n      <td>64.55</td>\n      <td>311.9</td>\n      <td>0.11340</td>\n      <td>0.08061</td>\n      <td>0.01084</td>\n      <td>0.01290</td>\n      <td>0.2743</td>\n      <td>0.06960</td>\n      <td>...</td>\n      <td>17.45</td>\n      <td>69.86</td>\n      <td>368.6</td>\n      <td>0.12750</td>\n      <td>0.09866</td>\n      <td>0.02168</td>\n      <td>0.02579</td>\n      <td>0.3557</td>\n      <td>0.08020</td>\n      <td>1</td>\n    </tr>\n    <tr>\n      <th>...</th>\n      <td>...</td>\n      <td>...</td>\n      <td>...</td>\n      <td>...</td>\n      <td>...</td>\n      <td>...</td>\n      <td>...</td>\n      <td>...</td>\n      <td>...</td>\n      <td>...</td>\n      <td>...</td>\n      <td>...</td>\n      <td>...</td>\n      <td>...</td>\n      <td>...</td>\n      <td>...</td>\n      <td>...</td>\n      <td>...</td>\n      <td>...</td>\n      <td>...</td>\n      <td>...</td>\n    </tr>\n    <tr>\n      <th>450</th>\n      <td>8.888</td>\n      <td>14.64</td>\n      <td>58.79</td>\n      <td>244.0</td>\n      <td>0.09783</td>\n      <td>0.15310</td>\n      <td>0.08606</td>\n      <td>0.02872</td>\n      <td>0.1902</td>\n      <td>0.08980</td>\n      <td>...</td>\n      <td>15.67</td>\n      <td>62.56</td>\n      <td>284.4</td>\n      <td>0.12070</td>\n      <td>0.24360</td>\n      <td>0.14340</td>\n      <td>0.04786</td>\n      <td>0.2254</td>\n      <td>0.10840</td>\n      <td>1</td>\n    </tr>\n    <tr>\n      <th>451</th>\n      <td>11.640</td>\n      <td>18.33</td>\n      <td>75.17</td>\n      <td>412.5</td>\n      <td>0.11420</td>\n      <td>0.10170</td>\n      <td>0.07070</td>\n      <td>0.03485</td>\n      <td>0.1801</td>\n      <td>0.06520</td>\n      <td>...</td>\n      <td>29.26</td>\n      <td>85.51</td>\n      <td>521.7</td>\n      <td>0.16880</td>\n      <td>0.26600</td>\n      <td>0.28730</td>\n      <td>0.12180</td>\n      <td>0.2806</td>\n      <td>0.09097</td>\n      <td>1</td>\n    </tr>\n    <tr>\n      <th>452</th>\n      <td>14.290</td>\n      <td>16.82</td>\n      <td>90.30</td>\n      <td>632.6</td>\n      <td>0.06429</td>\n      <td>0.02675</td>\n      <td>0.00725</td>\n      <td>0.00625</td>\n      <td>0.1508</td>\n      <td>0.05376</td>\n      <td>...</td>\n      <td>20.65</td>\n      <td>94.44</td>\n      <td>684.6</td>\n      <td>0.08567</td>\n      <td>0.05036</td>\n      <td>0.03866</td>\n      <td>0.03333</td>\n      <td>0.2458</td>\n      <td>0.06120</td>\n      <td>1</td>\n    </tr>\n    <tr>\n      <th>453</th>\n      <td>13.980</td>\n      <td>19.62</td>\n      <td>91.12</td>\n      <td>599.5</td>\n      <td>0.10600</td>\n      <td>0.11330</td>\n      <td>0.11260</td>\n      <td>0.06463</td>\n      <td>0.1669</td>\n      <td>0.06544</td>\n      <td>...</td>\n      <td>30.80</td>\n      <td>113.90</td>\n      <td>869.3</td>\n      <td>0.16130</td>\n      <td>0.35680</td>\n      <td>0.40690</td>\n      <td>0.18270</td>\n      <td>0.3179</td>\n      <td>0.10550</td>\n      <td>0</td>\n    </tr>\n    <tr>\n      <th>454</th>\n      <td>12.180</td>\n      <td>20.52</td>\n      <td>77.22</td>\n      <td>458.7</td>\n      <td>0.08013</td>\n      <td>0.04038</td>\n      <td>0.02383</td>\n      <td>0.01770</td>\n      <td>0.1739</td>\n      <td>0.05677</td>\n      <td>...</td>\n      <td>32.84</td>\n      <td>84.58</td>\n      <td>547.8</td>\n      <td>0.11230</td>\n      <td>0.08862</td>\n      <td>0.11450</td>\n      <td>0.07431</td>\n      <td>0.2694</td>\n      <td>0.06878</td>\n      <td>1</td>\n    </tr>\n  </tbody>\n</table>\n<p>455 rows × 31 columns</p>\n</div>"
     },
     "execution_count": 104,
     "metadata": {},
     "output_type": "execute_result"
    }
   ],
   "source": [
    "train_df"
   ],
   "metadata": {
    "collapsed": false
   }
  },
  {
   "cell_type": "code",
   "execution_count": null,
   "outputs": [],
   "source": [],
   "metadata": {
    "collapsed": false
   }
  }
 ],
 "metadata": {
  "kernelspec": {
   "display_name": "Python 3",
   "language": "python",
   "name": "python3"
  },
  "language_info": {
   "codemirror_mode": {
    "name": "ipython",
    "version": 2
   },
   "file_extension": ".py",
   "mimetype": "text/x-python",
   "name": "python",
   "nbconvert_exporter": "python",
   "pygments_lexer": "ipython2",
   "version": "2.7.6"
  }
 },
 "nbformat": 4,
 "nbformat_minor": 0
}
