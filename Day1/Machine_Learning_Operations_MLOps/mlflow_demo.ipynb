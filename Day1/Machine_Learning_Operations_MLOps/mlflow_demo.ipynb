{
 "cells": [
  {
   "cell_type": "code",
   "execution_count": 72,
   "metadata": {
    "collapsed": true
   },
   "outputs": [
    {
     "name": "stdout",
     "output_type": "stream",
     "text": [
      "Requirement already satisfied: mlflow in ./venv/lib/python3.11/site-packages (2.17.0)\r\n",
      "Requirement already satisfied: mlflow-skinny==2.17.0 in ./venv/lib/python3.11/site-packages (from mlflow) (2.17.0)\r\n",
      "Requirement already satisfied: Flask<4 in ./venv/lib/python3.11/site-packages (from mlflow) (3.0.3)\r\n",
      "Requirement already satisfied: alembic!=1.10.0,<2 in ./venv/lib/python3.11/site-packages (from mlflow) (1.13.3)\r\n",
      "Requirement already satisfied: docker<8,>=4.0.0 in ./venv/lib/python3.11/site-packages (from mlflow) (7.1.0)\r\n",
      "Requirement already satisfied: graphene<4 in ./venv/lib/python3.11/site-packages (from mlflow) (3.3)\r\n",
      "Requirement already satisfied: markdown<4,>=3.3 in ./venv/lib/python3.11/site-packages (from mlflow) (3.7)\r\n",
      "Requirement already satisfied: matplotlib<4 in ./venv/lib/python3.11/site-packages (from mlflow) (3.9.2)\r\n",
      "Requirement already satisfied: numpy<3 in ./venv/lib/python3.11/site-packages (from mlflow) (2.1.2)\r\n",
      "Requirement already satisfied: pandas<3 in ./venv/lib/python3.11/site-packages (from mlflow) (2.2.3)\r\n",
      "Requirement already satisfied: pyarrow<18,>=4.0.0 in ./venv/lib/python3.11/site-packages (from mlflow) (17.0.0)\r\n",
      "Requirement already satisfied: scikit-learn<2 in ./venv/lib/python3.11/site-packages (from mlflow) (1.5.2)\r\n",
      "Requirement already satisfied: scipy<2 in ./venv/lib/python3.11/site-packages (from mlflow) (1.14.1)\r\n",
      "Requirement already satisfied: sqlalchemy<3,>=1.4.0 in ./venv/lib/python3.11/site-packages (from mlflow) (2.0.35)\r\n",
      "Requirement already satisfied: Jinja2<4,>=2.11 in ./venv/lib/python3.11/site-packages (from mlflow) (3.1.4)\r\n",
      "Requirement already satisfied: gunicorn<24 in ./venv/lib/python3.11/site-packages (from mlflow) (23.0.0)\r\n",
      "Requirement already satisfied: cachetools<6,>=5.0.0 in ./venv/lib/python3.11/site-packages (from mlflow-skinny==2.17.0->mlflow) (5.5.0)\r\n",
      "Requirement already satisfied: click<9,>=7.0 in ./venv/lib/python3.11/site-packages (from mlflow-skinny==2.17.0->mlflow) (8.1.7)\r\n",
      "Requirement already satisfied: cloudpickle<4 in ./venv/lib/python3.11/site-packages (from mlflow-skinny==2.17.0->mlflow) (3.1.0)\r\n",
      "Requirement already satisfied: databricks-sdk<1,>=0.20.0 in ./venv/lib/python3.11/site-packages (from mlflow-skinny==2.17.0->mlflow) (0.34.0)\r\n",
      "Requirement already satisfied: gitpython<4,>=3.1.9 in ./venv/lib/python3.11/site-packages (from mlflow-skinny==2.17.0->mlflow) (3.1.43)\r\n",
      "Requirement already satisfied: importlib-metadata!=4.7.0,<9,>=3.7.0 in ./venv/lib/python3.11/site-packages (from mlflow-skinny==2.17.0->mlflow) (8.4.0)\r\n",
      "Requirement already satisfied: opentelemetry-api<3,>=1.9.0 in ./venv/lib/python3.11/site-packages (from mlflow-skinny==2.17.0->mlflow) (1.27.0)\r\n",
      "Requirement already satisfied: opentelemetry-sdk<3,>=1.9.0 in ./venv/lib/python3.11/site-packages (from mlflow-skinny==2.17.0->mlflow) (1.27.0)\r\n",
      "Requirement already satisfied: packaging<25 in ./venv/lib/python3.11/site-packages (from mlflow-skinny==2.17.0->mlflow) (24.1)\r\n",
      "Requirement already satisfied: protobuf<6,>=3.12.0 in ./venv/lib/python3.11/site-packages (from mlflow-skinny==2.17.0->mlflow) (5.28.2)\r\n",
      "Requirement already satisfied: pyyaml<7,>=5.1 in ./venv/lib/python3.11/site-packages (from mlflow-skinny==2.17.0->mlflow) (6.0.2)\r\n",
      "Requirement already satisfied: requests<3,>=2.17.3 in ./venv/lib/python3.11/site-packages (from mlflow-skinny==2.17.0->mlflow) (2.32.3)\r\n",
      "Requirement already satisfied: sqlparse<1,>=0.4.0 in ./venv/lib/python3.11/site-packages (from mlflow-skinny==2.17.0->mlflow) (0.5.1)\r\n",
      "Requirement already satisfied: Mako in ./venv/lib/python3.11/site-packages (from alembic!=1.10.0,<2->mlflow) (1.3.5)\r\n",
      "Requirement already satisfied: typing-extensions>=4 in ./venv/lib/python3.11/site-packages (from alembic!=1.10.0,<2->mlflow) (4.12.2)\r\n",
      "Requirement already satisfied: urllib3>=1.26.0 in ./venv/lib/python3.11/site-packages (from docker<8,>=4.0.0->mlflow) (2.2.3)\r\n",
      "Requirement already satisfied: Werkzeug>=3.0.0 in ./venv/lib/python3.11/site-packages (from Flask<4->mlflow) (3.0.4)\r\n",
      "Requirement already satisfied: itsdangerous>=2.1.2 in ./venv/lib/python3.11/site-packages (from Flask<4->mlflow) (2.2.0)\r\n",
      "Requirement already satisfied: blinker>=1.6.2 in ./venv/lib/python3.11/site-packages (from Flask<4->mlflow) (1.8.2)\r\n",
      "Requirement already satisfied: graphql-core<3.3,>=3.1 in ./venv/lib/python3.11/site-packages (from graphene<4->mlflow) (3.2.5)\r\n",
      "Requirement already satisfied: graphql-relay<3.3,>=3.1 in ./venv/lib/python3.11/site-packages (from graphene<4->mlflow) (3.2.0)\r\n",
      "Requirement already satisfied: aniso8601<10,>=8 in ./venv/lib/python3.11/site-packages (from graphene<4->mlflow) (9.0.1)\r\n",
      "Requirement already satisfied: MarkupSafe>=2.0 in ./venv/lib/python3.11/site-packages (from Jinja2<4,>=2.11->mlflow) (3.0.1)\r\n",
      "Requirement already satisfied: contourpy>=1.0.1 in ./venv/lib/python3.11/site-packages (from matplotlib<4->mlflow) (1.3.0)\r\n",
      "Requirement already satisfied: cycler>=0.10 in ./venv/lib/python3.11/site-packages (from matplotlib<4->mlflow) (0.12.1)\r\n",
      "Requirement already satisfied: fonttools>=4.22.0 in ./venv/lib/python3.11/site-packages (from matplotlib<4->mlflow) (4.54.1)\r\n",
      "Requirement already satisfied: kiwisolver>=1.3.1 in ./venv/lib/python3.11/site-packages (from matplotlib<4->mlflow) (1.4.7)\r\n",
      "Requirement already satisfied: pillow>=8 in ./venv/lib/python3.11/site-packages (from matplotlib<4->mlflow) (10.4.0)\r\n",
      "Requirement already satisfied: pyparsing>=2.3.1 in ./venv/lib/python3.11/site-packages (from matplotlib<4->mlflow) (3.2.0)\r\n",
      "Requirement already satisfied: python-dateutil>=2.7 in ./venv/lib/python3.11/site-packages (from matplotlib<4->mlflow) (2.9.0.post0)\r\n",
      "Requirement already satisfied: pytz>=2020.1 in ./venv/lib/python3.11/site-packages (from pandas<3->mlflow) (2024.2)\r\n",
      "Requirement already satisfied: tzdata>=2022.7 in ./venv/lib/python3.11/site-packages (from pandas<3->mlflow) (2024.2)\r\n",
      "Requirement already satisfied: joblib>=1.2.0 in ./venv/lib/python3.11/site-packages (from scikit-learn<2->mlflow) (1.4.2)\r\n",
      "Requirement already satisfied: threadpoolctl>=3.1.0 in ./venv/lib/python3.11/site-packages (from scikit-learn<2->mlflow) (3.5.0)\r\n",
      "Requirement already satisfied: google-auth~=2.0 in ./venv/lib/python3.11/site-packages (from databricks-sdk<1,>=0.20.0->mlflow-skinny==2.17.0->mlflow) (2.35.0)\r\n",
      "Requirement already satisfied: gitdb<5,>=4.0.1 in ./venv/lib/python3.11/site-packages (from gitpython<4,>=3.1.9->mlflow-skinny==2.17.0->mlflow) (4.0.11)\r\n",
      "Requirement already satisfied: zipp>=0.5 in ./venv/lib/python3.11/site-packages (from importlib-metadata!=4.7.0,<9,>=3.7.0->mlflow-skinny==2.17.0->mlflow) (3.20.2)\r\n",
      "Requirement already satisfied: deprecated>=1.2.6 in ./venv/lib/python3.11/site-packages (from opentelemetry-api<3,>=1.9.0->mlflow-skinny==2.17.0->mlflow) (1.2.14)\r\n",
      "Requirement already satisfied: opentelemetry-semantic-conventions==0.48b0 in ./venv/lib/python3.11/site-packages (from opentelemetry-sdk<3,>=1.9.0->mlflow-skinny==2.17.0->mlflow) (0.48b0)\r\n",
      "Requirement already satisfied: six>=1.5 in ./venv/lib/python3.11/site-packages (from python-dateutil>=2.7->matplotlib<4->mlflow) (1.16.0)\r\n",
      "Requirement already satisfied: charset-normalizer<4,>=2 in ./venv/lib/python3.11/site-packages (from requests<3,>=2.17.3->mlflow-skinny==2.17.0->mlflow) (3.4.0)\r\n",
      "Requirement already satisfied: idna<4,>=2.5 in ./venv/lib/python3.11/site-packages (from requests<3,>=2.17.3->mlflow-skinny==2.17.0->mlflow) (3.10)\r\n",
      "Requirement already satisfied: certifi>=2017.4.17 in ./venv/lib/python3.11/site-packages (from requests<3,>=2.17.3->mlflow-skinny==2.17.0->mlflow) (2024.8.30)\r\n",
      "Requirement already satisfied: wrapt<2,>=1.10 in ./venv/lib/python3.11/site-packages (from deprecated>=1.2.6->opentelemetry-api<3,>=1.9.0->mlflow-skinny==2.17.0->mlflow) (1.16.0)\r\n",
      "Requirement already satisfied: smmap<6,>=3.0.1 in ./venv/lib/python3.11/site-packages (from gitdb<5,>=4.0.1->gitpython<4,>=3.1.9->mlflow-skinny==2.17.0->mlflow) (5.0.1)\r\n",
      "Requirement already satisfied: pyasn1-modules>=0.2.1 in ./venv/lib/python3.11/site-packages (from google-auth~=2.0->databricks-sdk<1,>=0.20.0->mlflow-skinny==2.17.0->mlflow) (0.4.1)\r\n",
      "Requirement already satisfied: rsa<5,>=3.1.4 in ./venv/lib/python3.11/site-packages (from google-auth~=2.0->databricks-sdk<1,>=0.20.0->mlflow-skinny==2.17.0->mlflow) (4.9)\r\n",
      "Requirement already satisfied: pyasn1<0.7.0,>=0.4.6 in ./venv/lib/python3.11/site-packages (from pyasn1-modules>=0.2.1->google-auth~=2.0->databricks-sdk<1,>=0.20.0->mlflow-skinny==2.17.0->mlflow) (0.6.1)\r\n",
      "\r\n",
      "\u001B[1m[\u001B[0m\u001B[34;49mnotice\u001B[0m\u001B[1;39;49m]\u001B[0m\u001B[39;49m A new release of pip available: \u001B[0m\u001B[31;49m22.3.1\u001B[0m\u001B[39;49m -> \u001B[0m\u001B[32;49m24.2\u001B[0m\r\n",
      "\u001B[1m[\u001B[0m\u001B[34;49mnotice\u001B[0m\u001B[1;39;49m]\u001B[0m\u001B[39;49m To update, run: \u001B[0m\u001B[32;49mpip install --upgrade pip\u001B[0m\r\n"
     ]
    }
   ],
   "source": [
    "!pip install mlflow"
   ]
  },
  {
   "cell_type": "code",
   "execution_count": 73,
   "outputs": [],
   "source": [
    "executions = 1"
   ],
   "metadata": {
    "collapsed": false
   }
  },
  {
   "cell_type": "markdown",
   "source": [
    "### Perform experiment with different runs"
   ],
   "metadata": {
    "collapsed": false
   }
  },
  {
   "cell_type": "code",
   "execution_count": 81,
   "outputs": [
    {
     "name": "stderr",
     "output_type": "stream",
     "text": [
      "2024/10/14 11:57:10 INFO mlflow.tracking.fluent: Experiment with name 'Breast Cancer Classification Experiment#: 2' does not exist. Creating a new experiment.\n",
      "/Users/stefanandonov/Documents/GitWorkspace/eurocc_mlops/venv/lib/python3.11/site-packages/sklearn/linear_model/_logistic.py:469: ConvergenceWarning: lbfgs failed to converge (status=1):\n",
      "STOP: TOTAL NO. of ITERATIONS REACHED LIMIT.\n",
      "\n",
      "Increase the number of iterations (max_iter) or scale the data as shown in:\n",
      "    https://scikit-learn.org/stable/modules/preprocessing.html\n",
      "Please also refer to the documentation for alternative solver options:\n",
      "    https://scikit-learn.org/stable/modules/linear_model.html#logistic-regression\n",
      "  n_iter_i = _check_optimize_result(\n",
      "2024/10/14 11:57:12 WARNING mlflow.models.model: Model logged without a signature and input example. Please set `input_example` parameter when logging the model to auto infer the model signature.\n",
      "/Users/stefanandonov/Documents/GitWorkspace/eurocc_mlops/venv/lib/python3.11/site-packages/sklearn/linear_model/_logistic.py:469: ConvergenceWarning: lbfgs failed to converge (status=1):\n",
      "STOP: TOTAL NO. of ITERATIONS REACHED LIMIT.\n",
      "\n",
      "Increase the number of iterations (max_iter) or scale the data as shown in:\n",
      "    https://scikit-learn.org/stable/modules/preprocessing.html\n",
      "Please also refer to the documentation for alternative solver options:\n",
      "    https://scikit-learn.org/stable/modules/linear_model.html#logistic-regression\n",
      "  n_iter_i = _check_optimize_result(\n"
     ]
    },
    {
     "name": "stdout",
     "output_type": "stream",
     "text": [
      "Logistic Regression with parameters {'max_iter': 100, 'C': 1.0} logged - Accuracy: 0.956140350877193, Precision: 0.9459459459459459, Recall: 0.9859154929577465, F1: 0.9655172413793104\n"
     ]
    },
    {
     "name": "stderr",
     "output_type": "stream",
     "text": [
      "2024/10/14 11:57:13 WARNING mlflow.models.model: Model logged without a signature and input example. Please set `input_example` parameter when logging the model to auto infer the model signature.\n"
     ]
    },
    {
     "name": "stdout",
     "output_type": "stream",
     "text": [
      "Logistic Regression with parameters {'max_iter': 200, 'C': 0.5} logged - Accuracy: 0.956140350877193, Precision: 0.9459459459459459, Recall: 0.9859154929577465, F1: 0.9655172413793104\n"
     ]
    },
    {
     "name": "stderr",
     "output_type": "stream",
     "text": [
      "2024/10/14 11:57:14 WARNING mlflow.models.model: Model logged without a signature and input example. Please set `input_example` parameter when logging the model to auto infer the model signature.\n"
     ]
    },
    {
     "name": "stdout",
     "output_type": "stream",
     "text": [
      "Random Forest with parameters {'n_estimators': 50, 'max_depth': 5} logged - Accuracy: 0.9649122807017544, Precision: 0.958904109589041, Recall: 0.9859154929577465, F1: 0.9722222222222222\n"
     ]
    },
    {
     "name": "stderr",
     "output_type": "stream",
     "text": [
      "2024/10/14 11:57:15 WARNING mlflow.models.model: Model logged without a signature and input example. Please set `input_example` parameter when logging the model to auto infer the model signature.\n"
     ]
    },
    {
     "name": "stdout",
     "output_type": "stream",
     "text": [
      "Random Forest with parameters {'n_estimators': 100, 'max_depth': None} logged - Accuracy: 0.9649122807017544, Precision: 0.958904109589041, Recall: 0.9859154929577465, F1: 0.9722222222222222\n"
     ]
    },
    {
     "name": "stderr",
     "output_type": "stream",
     "text": [
      "2024/10/14 11:57:17 WARNING mlflow.models.model: Model logged without a signature and input example. Please set `input_example` parameter when logging the model to auto infer the model signature.\n"
     ]
    },
    {
     "name": "stdout",
     "output_type": "stream",
     "text": [
      "Support Vector Classifier with parameters {'C': 1.0, 'kernel': 'linear'} logged - Accuracy: 0.956140350877193, Precision: 0.9459459459459459, Recall: 0.9859154929577465, F1: 0.9655172413793104\n"
     ]
    },
    {
     "name": "stderr",
     "output_type": "stream",
     "text": [
      "2024/10/14 11:57:18 WARNING mlflow.models.model: Model logged without a signature and input example. Please set `input_example` parameter when logging the model to auto infer the model signature.\n"
     ]
    },
    {
     "name": "stdout",
     "output_type": "stream",
     "text": [
      "Support Vector Classifier with parameters {'C': 0.5, 'kernel': 'rbf'} logged - Accuracy: 0.9385964912280702, Precision: 0.9102564102564102, Recall: 1.0, F1: 0.9530201342281879\n"
     ]
    }
   ],
   "source": [
    "\n",
    "import mlflow.sklearn\n",
    "import pandas as pd\n",
    "from sklearn.ensemble import RandomForestClassifier\n",
    "from sklearn.linear_model import LogisticRegression\n",
    "from sklearn.metrics import accuracy_score, precision_score, recall_score, f1_score\n",
    "from sklearn.svm import SVC\n",
    "\n",
    "# Load classification dataset\n",
    "train_df = pd.read_csv(\"./data/train.csv\")\n",
    "test_df = pd.read_csv(\"./data/test.csv\")\n",
    "\n",
    "X_train = train_df[[str(i) for i in range(0,30)]]\n",
    "y_train = train_df['y']\n",
    "X_test = test_df[[str(i) for i in range(0,30)]]\n",
    "y_test = test_df['y']\n",
    "\n",
    "# Set up MLFlow experiment\n",
    "mlflow.set_experiment(f\"Breast Cancer Classification Experiment#: {executions}\")\n",
    "\n",
    "# Define models and their parameter variations within the dictionary\n",
    "model_params = {\n",
    "    \"Logistic Regression\": (LogisticRegression, [\n",
    "        {\"max_iter\": 100, \"C\": 1.0},\n",
    "        {\"max_iter\": 200, \"C\": 0.5}\n",
    "    ]),\n",
    "    \"Random Forest\": (RandomForestClassifier, [\n",
    "        {\"n_estimators\": 50, \"max_depth\": 5},\n",
    "        {\"n_estimators\": 100, \"max_depth\": None}\n",
    "    ]),\n",
    "    \"Support Vector Classifier\": (SVC, [\n",
    "        {\"C\": 1.0, \"kernel\": \"linear\"},\n",
    "        {\"C\": 0.5, \"kernel\": \"rbf\"}\n",
    "    ])\n",
    "}\n",
    "\n",
    "# Train models with parameter settings\n",
    "for model_name, (ModelClass, params_list) in model_params.items():\n",
    "    for idx, params in enumerate(params_list):\n",
    "        with mlflow.start_run(run_name=f\"Model: {model_name} Params#: {idx}\"):\n",
    "            # Initialize and train model\n",
    "            model = ModelClass(**params)\n",
    "            model.fit(X_train, y_train)\n",
    "            predictions = model.predict(X_test)\n",
    "\n",
    "            # Calculate metrics\n",
    "            accuracy = accuracy_score(y_test, predictions)\n",
    "            precision = precision_score(y_test, predictions)\n",
    "            recall = recall_score(y_test, predictions)\n",
    "            f1 = f1_score(y_test, predictions)\n",
    "\n",
    "            # Log model parameters and metrics\n",
    "            mlflow.log_param(\"model_name\", model_name)\n",
    "            for param_key, param_value in params.items():\n",
    "                mlflow.log_param(param_key, param_value)\n",
    "            mlflow.log_metric(\"accuracy\", accuracy)\n",
    "            mlflow.log_metric(\"precision\", precision)\n",
    "            mlflow.log_metric(\"recall\", recall)\n",
    "            mlflow.log_metric(\"f1_score\", f1)\n",
    "            mlflow.sklearn.log_model(model, \"model\")\n",
    "\n",
    "            print(f\"{model_name} with parameters {params} logged - Accuracy: {accuracy}, Precision: {precision}, Recall: {recall}, F1: {f1}\")\n"
   ],
   "metadata": {
    "collapsed": false
   }
  },
  {
   "cell_type": "markdown",
   "source": [
    "### Select best model and save (register) it"
   ],
   "metadata": {
    "collapsed": false
   }
  },
  {
   "cell_type": "code",
   "execution_count": 82,
   "outputs": [],
   "source": [
    "import mlflow\n",
    "from mlflow.exceptions import RestException\n",
    "\n",
    "# Define model name\n",
    "model_name = \"BreastCancerClassifierBestModel\"\n",
    "\n",
    "# Get the experiment and the best run from the experiment\n",
    "# experiment_name = \"Breast Cancer Classification with Automated Model Selection\"\n",
    "experiment = mlflow.get_experiment_by_name(name=f\"Breast Cancer Classification Experiment#: {executions}\")\n",
    "best_run = mlflow.search_runs(\n",
    "    experiment_ids=[experiment.experiment_id],\n",
    "    order_by=[\"metrics.f1_score DESC\"], max_results=1\n",
    ")\n",
    "\n"
   ],
   "metadata": {
    "collapsed": false
   }
  },
  {
   "cell_type": "code",
   "execution_count": 83,
   "outputs": [
    {
     "data": {
      "text/plain": "                             run_id       experiment_id    status  \\\n0  653adfd7b72642c19f685f9c8a83a941  677389738210410175  FINISHED   \n\n                                        artifact_uri  \\\n0  file:///Users/stefanandonov/Documents/GitWorks...   \n\n                        start_time                         end_time  \\\n0 2024-10-14 09:57:14.374000+00:00 2024-10-14 09:57:15.522000+00:00   \n\n   metrics.precision  metrics.f1_score  metrics.accuracy  metrics.recall  \\\n0           0.958904          0.972222          0.964912        0.985915   \n\n  params.model_name params.max_depth params.n_estimators  \\\n0     Random Forest             None                 100   \n\n               tags.mlflow.runName tags.mlflow.source.type tags.mlflow.user  \\\n0  Model: Random Forest Params#: 1                   LOCAL    stefanandonov   \n\n                       tags.mlflow.log-model.history  \\\n0  [{\"run_id\": \"653adfd7b72642c19f685f9c8a83a941\"...   \n\n                             tags.mlflow.source.name  \n0  /Users/stefanandonov/Documents/GitWorkspace/eu...  ",
      "text/html": "<div>\n<style scoped>\n    .dataframe tbody tr th:only-of-type {\n        vertical-align: middle;\n    }\n\n    .dataframe tbody tr th {\n        vertical-align: top;\n    }\n\n    .dataframe thead th {\n        text-align: right;\n    }\n</style>\n<table border=\"1\" class=\"dataframe\">\n  <thead>\n    <tr style=\"text-align: right;\">\n      <th></th>\n      <th>run_id</th>\n      <th>experiment_id</th>\n      <th>status</th>\n      <th>artifact_uri</th>\n      <th>start_time</th>\n      <th>end_time</th>\n      <th>metrics.precision</th>\n      <th>metrics.f1_score</th>\n      <th>metrics.accuracy</th>\n      <th>metrics.recall</th>\n      <th>params.model_name</th>\n      <th>params.max_depth</th>\n      <th>params.n_estimators</th>\n      <th>tags.mlflow.runName</th>\n      <th>tags.mlflow.source.type</th>\n      <th>tags.mlflow.user</th>\n      <th>tags.mlflow.log-model.history</th>\n      <th>tags.mlflow.source.name</th>\n    </tr>\n  </thead>\n  <tbody>\n    <tr>\n      <th>0</th>\n      <td>653adfd7b72642c19f685f9c8a83a941</td>\n      <td>677389738210410175</td>\n      <td>FINISHED</td>\n      <td>file:///Users/stefanandonov/Documents/GitWorks...</td>\n      <td>2024-10-14 09:57:14.374000+00:00</td>\n      <td>2024-10-14 09:57:15.522000+00:00</td>\n      <td>0.958904</td>\n      <td>0.972222</td>\n      <td>0.964912</td>\n      <td>0.985915</td>\n      <td>Random Forest</td>\n      <td>None</td>\n      <td>100</td>\n      <td>Model: Random Forest Params#: 1</td>\n      <td>LOCAL</td>\n      <td>stefanandonov</td>\n      <td>[{\"run_id\": \"653adfd7b72642c19f685f9c8a83a941\"...</td>\n      <td>/Users/stefanandonov/Documents/GitWorkspace/eu...</td>\n    </tr>\n  </tbody>\n</table>\n</div>"
     },
     "execution_count": 83,
     "metadata": {},
     "output_type": "execute_result"
    }
   ],
   "source": [
    "best_run"
   ],
   "metadata": {
    "collapsed": false
   }
  },
  {
   "cell_type": "code",
   "execution_count": 84,
   "outputs": [
    {
     "name": "stdout",
     "output_type": "stream",
     "text": [
      "New model registered as a new version with F1 score 0.9722222222222222\n"
     ]
    },
    {
     "name": "stderr",
     "output_type": "stream",
     "text": [
      "/var/folders/8h/4wz2st456g55vwt06_1lc2jw0000gn/T/ipykernel_25940/3436600482.py:11: FutureWarning: ``mlflow.tracking.client.MlflowClient.get_latest_versions`` is deprecated since 2.9.0. Model registry stages will be removed in a future major release. To learn more about the deprecation of model registry stages, see our migration guide here: https://mlflow.org/docs/latest/model-registry.html#migrating-from-stages\n",
      "  versions = client.get_latest_versions(model_name, stages=[\"None\", \"Staging\", \"Production\", \"Archived\"])\n",
      "Registered model 'BreastCancerClassifierBestModel' already exists. Creating a new version of this model...\n",
      "Created version '2' of model 'BreastCancerClassifierBestModel'.\n"
     ]
    }
   ],
   "source": [
    "from mlflow import MlflowException\n",
    "\n",
    "if not best_run.empty:\n",
    "    best_run_id = best_run.iloc[0].run_id\n",
    "    best_f1_score = best_run.iloc[0][\"metrics.f1_score\"]\n",
    "\n",
    "    # Check if the model already exists in the registry\n",
    "    try:\n",
    "\n",
    "        client = mlflow.tracking.MlflowClient()\n",
    "        versions = client.get_latest_versions(model_name, stages=[\"None\", \"Staging\", \"Production\", \"Archived\"])\n",
    "        current_best_version = max(versions, key=lambda x: x.version)\n",
    "\n",
    "        # Get the current best F1 score from the registry\n",
    "        current_best_f1_score = mlflow.get_run(current_best_version.run_id).data.metrics[\"f1_score\"]\n",
    "\n",
    "        # Compare the new model's F1 score with the existing best version\n",
    "        if best_f1_score > current_best_f1_score:\n",
    "            # Register the new model as a new version\n",
    "            mlflow.register_model(f\"runs:/{best_run_id}/model\", model_name)\n",
    "            print(f\"New model registered as a new version with F1 score {best_f1_score}\")\n",
    "        else:\n",
    "            print(\"Current model has an equal or better F1 score. No new version registered.\")\n",
    "\n",
    "    except MlflowException:\n",
    "        # If the model does not exist in the registry, register it for the first time\n",
    "        mlflow.register_model(\n",
    "            model_uri=f\"runs:/{best_run_id}/model\",\n",
    "            name=model_name\n",
    "        )\n",
    "        print(f\"Model registered for the first time with F1 score {best_f1_score}\")\n"
   ],
   "metadata": {
    "collapsed": false
   }
  },
  {
   "cell_type": "code",
   "execution_count": 85,
   "outputs": [],
   "source": [
    "executions+=1"
   ],
   "metadata": {
    "collapsed": false
   }
  },
  {
   "cell_type": "code",
   "execution_count": 80,
   "outputs": [
    {
     "data": {
      "text/plain": "2"
     },
     "execution_count": 80,
     "metadata": {},
     "output_type": "execute_result"
    }
   ],
   "source": [
    "executions"
   ],
   "metadata": {
    "collapsed": false
   }
  },
  {
   "cell_type": "code",
   "execution_count": null,
   "outputs": [],
   "source": [],
   "metadata": {
    "collapsed": false
   }
  }
 ],
 "metadata": {
  "kernelspec": {
   "display_name": "Python 3",
   "language": "python",
   "name": "python3"
  },
  "language_info": {
   "codemirror_mode": {
    "name": "ipython",
    "version": 2
   },
   "file_extension": ".py",
   "mimetype": "text/x-python",
   "name": "python",
   "nbconvert_exporter": "python",
   "pygments_lexer": "ipython2",
   "version": "2.7.6"
  }
 },
 "nbformat": 4,
 "nbformat_minor": 0
}
