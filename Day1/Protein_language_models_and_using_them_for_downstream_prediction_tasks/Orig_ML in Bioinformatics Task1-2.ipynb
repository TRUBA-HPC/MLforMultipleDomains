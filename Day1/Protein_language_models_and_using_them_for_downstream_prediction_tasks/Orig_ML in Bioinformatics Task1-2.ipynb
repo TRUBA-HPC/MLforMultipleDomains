{
 "cells": [
  {
   "cell_type": "markdown",
   "id": "fb9d6e75",
   "metadata": {},
   "source": [
    "# Using Protein Language Models on A Downstream Task"
   ]
  },
  {
   "cell_type": "markdown",
   "id": "93b84ca7",
   "metadata": {},
   "source": [
    "This notebook allows you to represent protein sequences via protein language models and to use the representations on protein phosphorylation prediction task. In this notebook, you can represent the protein sequences as One-hot Encodings, [ProtVec](https://arxiv.org/abs/1503.05140), [ProtBERT](https://arxiv.org/abs/2007.06225), and [ESM2](https://www.biorxiv.org/content/10.1101/2022.07.20.500902v1.full.pdf) embedding vectors. By using these vector representations, you can train a 2-layer neural network to predict if a given protein sequence is phosphorylated or not. "
   ]
  },
  {
   "cell_type": "markdown",
   "id": "5f9bbf2b",
   "metadata": {},
   "source": [
    "### Import Libraries"
   ]
  },
  {
   "cell_type": "code",
   "execution_count": 1,
   "id": "0117327a",
   "metadata": {},
   "outputs": [],
   "source": [
    "# Loading protein language models (plm)\n",
    "from transformers import AutoModel, AutoTokenizer\n",
    "\n",
    "# Embedding manipulation\n",
    "import torch\n",
    "import torch.nn as nn\n",
    "import torch.optim as optim\n",
    "\n",
    "# Data preperation\n",
    "from sklearn.model_selection import train_test_split\n",
    "import pandas as pd\n",
    "import numpy as np\n",
    "import re\n",
    "\n",
    "# Evaluation\n",
    "from sklearn.metrics import f1_score, roc_auc_score\n",
    "\n",
    "# Visualization\n",
    "from matplotlib import pyplot as plt\n",
    "\n",
    "# Measure timing\n",
    "import time"
   ]
  },
  {
   "cell_type": "markdown",
   "id": "8588ad96",
   "metadata": {},
   "source": [
    "## LOAD DATA and PreProcess\n",
    "\n",
    "* Data is provided as \"phosphorylation_data.csv\"\n",
    "* The phosphorylated peptides were obtained from [PhosphositePlus](https://www.phosphosite.org/staticDownloads). However, there is no such set as an experimentally unphosphorylated peptide. For this reason, in accordance with the [literature](https://pubmed.ncbi.nlm.nih.gov/20702892/), we generated the unphosphorylated peptide data by following the following steps: i) The phosphorylated amino acid of the 15-long phosphorylated peptide sequence is found, which corresponds to the 8th amino acid. ii) The protein sequence containing the phosphosite has an amino acid that is the same as the phosphorylated amino acid (for example, Serine) but is not reported to be phosphorylated in PhosphositePlus. iii) The detected amino acid is combined with a peptide sequence of 7 to the right and 7 to the left to create 15-long unphosphorylated peptide sequences.\n",
    "* In the data there are 4 columns: \n",
    "  * **SUB_ACC_ID**: Uniprot accession ID \n",
    "  * **SUB_MOD_RSD**: Location of phosphorylated residue in the peptid sequence\n",
    "  * **SITE_+/-7_AA**: Phosphorylated sequence\n",
    "  * **NON_PH_SITE**: Non-phosphorylated sequence\"phosphorylation_data.csv"
   ]
  },
  {
   "cell_type": "code",
   "execution_count": 2,
   "id": "c8619ec6",
   "metadata": {},
   "outputs": [
    {
     "data": {
      "text/html": [
       "<div>\n",
       "<style scoped>\n",
       "    .dataframe tbody tr th:only-of-type {\n",
       "        vertical-align: middle;\n",
       "    }\n",
       "\n",
       "    .dataframe tbody tr th {\n",
       "        vertical-align: top;\n",
       "    }\n",
       "\n",
       "    .dataframe thead th {\n",
       "        text-align: right;\n",
       "    }\n",
       "</style>\n",
       "<table border=\"1\" class=\"dataframe\">\n",
       "  <thead>\n",
       "    <tr style=\"text-align: right;\">\n",
       "      <th></th>\n",
       "      <th>SUB_ACC_ID</th>\n",
       "      <th>SUB_MOD_RSD</th>\n",
       "      <th>SITE_+/-7_AA</th>\n",
       "      <th>NON_PH_SITE</th>\n",
       "    </tr>\n",
       "  </thead>\n",
       "  <tbody>\n",
       "    <tr>\n",
       "      <th>0</th>\n",
       "      <td>Q8R3W2</td>\n",
       "      <td>S119</td>\n",
       "      <td>NPFYEPNSPIRSSAF</td>\n",
       "      <td>LPAGKAESKDEHRHL</td>\n",
       "    </tr>\n",
       "    <tr>\n",
       "      <th>1</th>\n",
       "      <td>Q9CTA4</td>\n",
       "      <td>S10</td>\n",
       "      <td>RPPPGSRSTVAQSPP</td>\n",
       "      <td>RRRPPPGSRSTVAQS</td>\n",
       "    </tr>\n",
       "    <tr>\n",
       "      <th>2</th>\n",
       "      <td>Q9CTA4</td>\n",
       "      <td>T11</td>\n",
       "      <td>PPPGSRSTVAQSPPQ</td>\n",
       "      <td>RRDPGSATPAASRPT</td>\n",
       "    </tr>\n",
       "    <tr>\n",
       "      <th>3</th>\n",
       "      <td>P31946</td>\n",
       "      <td>T2</td>\n",
       "      <td>______MTMDKSELV</td>\n",
       "      <td>ISSIEQKTERNEKKQ</td>\n",
       "    </tr>\n",
       "    <tr>\n",
       "      <th>4</th>\n",
       "      <td>Q9CQV8</td>\n",
       "      <td>T2</td>\n",
       "      <td>______MTMDKSELV</td>\n",
       "      <td>ISSIEQKTERNEKKQ</td>\n",
       "    </tr>\n",
       "  </tbody>\n",
       "</table>\n",
       "</div>"
      ],
      "text/plain": [
       "  SUB_ACC_ID SUB_MOD_RSD     SITE_+/-7_AA      NON_PH_SITE\n",
       "0     Q8R3W2        S119  NPFYEPNSPIRSSAF  LPAGKAESKDEHRHL\n",
       "1     Q9CTA4         S10  RPPPGSRSTVAQSPP  RRRPPPGSRSTVAQS\n",
       "2     Q9CTA4         T11  PPPGSRSTVAQSPPQ  RRDPGSATPAASRPT\n",
       "3     P31946          T2  ______MTMDKSELV  ISSIEQKTERNEKKQ\n",
       "4     Q9CQV8          T2  ______MTMDKSELV  ISSIEQKTERNEKKQ"
      ]
     },
     "execution_count": 2,
     "metadata": {},
     "output_type": "execute_result"
    }
   ],
   "source": [
    "## Load Data \n",
    "data = pd.read_csv(\"phosphorylation_data.csv\", index_col=0)\n",
    "data.head()"
   ]
  },
  {
   "cell_type": "code",
   "execution_count": 3,
   "id": "e2b87ab9",
   "metadata": {},
   "outputs": [],
   "source": [
    "## Seperate positive(phosphorylated) and negative(non-phosphorylated) data samples\n",
    "pos_data = data[\"SITE_+/-7_AA\"].tolist()\n",
    "neg_data = data[\"NON_PH_SITE\"].tolist()\n",
    "\n",
    "## Create labels. 1: phosphorylated, 0:non-phosphorylated\n",
    "pos_labels = [1]*len(pos_data)\n",
    "neg_labels = [0]*len(neg_data)"
   ]
  },
  {
   "cell_type": "markdown",
   "id": "4c08f258",
   "metadata": {},
   "source": [
    "## TASK1 - Obtaining Protein Representations\n",
    "* Onehot: Peptid sequence is expressed as a binary vector of amino acids. It creates 300 dimensional vector.\n",
    "* Protvec: A skip-gram neural network model trained to provide a continuous representation of protein sequences. ProtVec provides a 100-dimensional embedding for each 3-gram, the average of the embeddings is used to represent the sequence.\n",
    "* ProtBERT: A transformer based model presented in [ProtTrans](https://arxiv.org/abs/2007.06225) paper. Embedding vectors has 1024 dimension per residue. Model is avaliable in HuggingFace: [ProtBERT HuggingFace](https://huggingface.co/Rostlab/prot_bert)\n",
    "* ESM2: A transformer based model presented in [ESM2](https://www.biorxiv.org/content/10.1101/2022.07.20.500902v1.full.pdf) paper. There are different versions of ESM2, each has distinct number of parameters. In this notebook, due to the time constraint, we will use ESM2 with 8M parameters. Embedding vectors has 320 dimension per residue. Model is avaliable in HuggingFace: [ESM2_8M HuggingFace](https://huggingface.co/facebook/esm2_t6_8M_UR50D)\n",
    "  \n",
    "\n"
   ]
  },
  {
   "cell_type": "code",
   "execution_count": 4,
   "id": "9394ca5c",
   "metadata": {},
   "outputs": [
    {
     "data": {
      "text/plain": [
       "('NPFYEPNSPIRSSAF', '__MTMDKSELVQKAK')"
      ]
     },
     "execution_count": 4,
     "metadata": {},
     "output_type": "execute_result"
    }
   ],
   "source": [
    "## Take sample sequences\n",
    "sample_ph1, sample_ph2 = pos_data[0], pos_data[5]\n",
    "sample_ph1, sample_ph2"
   ]
  },
  {
   "cell_type": "markdown",
   "id": "3d2620e6",
   "metadata": {},
   "source": [
    "### One-hot Encoding\n",
    "\n",
    "* Each residue is represented as a one-hot vector according to the index in predefined **AMINO_ACIDS**.\n",
    "* After obtaining each residue's one-hot representation, you can concatenate them to get sequence's representations\n",
    "* Some sequences contain \"gap(_)\". Here, gaps will be represented as 0-vectors. "
   ]
  },
  {
   "cell_type": "code",
   "execution_count": 5,
   "id": "c8edf6d0",
   "metadata": {},
   "outputs": [
    {
     "name": "stdout",
     "output_type": "stream",
     "text": [
      "Sequence: NPFYEPNSPIRSSAF\n",
      "One-hot encoding: [0, 0, 0, 0, 0, 0, 0, 0, 0, 0, 0, 1, 0, 0, 0, 0, 0, 0, 0, 0, 0, 0, 0, 0, 0, 0, 0, 0, 0, 0, 0, 0, 1, 0, 0, 0, 0, 0, 0, 0, 0, 0, 0, 0, 1, 0, 0, 0, 0, 0, 0, 0, 0, 0, 0, 0, 0, 0, 0, 0, 0, 0, 0, 0, 0, 0, 0, 0, 0, 0, 0, 0, 0, 0, 0, 0, 0, 0, 0, 1, 0, 0, 0, 1, 0, 0, 0, 0, 0, 0, 0, 0, 0, 0, 0, 0, 0, 0, 0, 0, 0, 0, 0, 0, 0, 0, 0, 0, 0, 0, 0, 0, 1, 0, 0, 0, 0, 0, 0, 0, 0, 0, 0, 0, 0, 0, 0, 0, 0, 0, 0, 1, 0, 0, 0, 0, 0, 0, 0, 0, 0, 0, 0, 0, 0, 0, 0, 0, 0, 0, 0, 0, 0, 0, 0, 1, 0, 0, 0, 0, 0, 0, 0, 0, 0, 0, 0, 0, 0, 0, 0, 0, 1, 0, 0, 0, 0, 0, 0, 0, 0, 0, 0, 0, 0, 0, 0, 1, 0, 0, 0, 0, 0, 0, 0, 0, 0, 0, 0, 0, 0, 0, 0, 0, 0, 0, 0, 0, 0, 0, 0, 0, 0, 0, 1, 0, 0, 0, 0, 0, 0, 0, 0, 0, 0, 0, 0, 0, 0, 0, 0, 0, 0, 0, 0, 1, 0, 0, 0, 0, 0, 0, 0, 0, 0, 0, 0, 0, 0, 0, 0, 0, 0, 0, 0, 1, 0, 0, 0, 0, 1, 0, 0, 0, 0, 0, 0, 0, 0, 0, 0, 0, 0, 0, 0, 0, 0, 0, 0, 0, 0, 0, 0, 0, 1, 0, 0, 0, 0, 0, 0, 0, 0, 0, 0, 0, 0, 0, 0, 0]\n",
      "Length of the encoding: 300\n",
      "\n",
      "Sequence: __MTMDKSELVQKAK\n",
      "One-hot encoding: [0, 0, 0, 0, 0, 0, 0, 0, 0, 0, 0, 0, 0, 0, 0, 0, 0, 0, 0, 0, 0, 0, 0, 0, 0, 0, 0, 0, 0, 0, 0, 0, 0, 0, 0, 0, 0, 0, 0, 0, 0, 0, 0, 0, 0, 0, 0, 0, 0, 0, 1, 0, 0, 0, 0, 0, 0, 0, 0, 0, 0, 0, 0, 0, 0, 0, 0, 0, 0, 0, 0, 0, 0, 0, 0, 0, 1, 0, 0, 0, 0, 0, 0, 0, 0, 0, 0, 0, 0, 0, 1, 0, 0, 0, 0, 0, 0, 0, 0, 0, 0, 0, 1, 0, 0, 0, 0, 0, 0, 0, 0, 0, 0, 0, 0, 0, 0, 0, 0, 0, 0, 0, 0, 0, 0, 0, 0, 0, 1, 0, 0, 0, 0, 0, 0, 0, 0, 0, 0, 0, 0, 0, 0, 0, 0, 0, 0, 0, 0, 0, 0, 0, 0, 0, 0, 1, 0, 0, 0, 0, 0, 0, 0, 1, 0, 0, 0, 0, 0, 0, 0, 0, 0, 0, 0, 0, 0, 0, 0, 0, 0, 0, 0, 0, 0, 0, 0, 0, 0, 1, 0, 0, 0, 0, 0, 0, 0, 0, 0, 0, 0, 0, 0, 0, 0, 0, 0, 0, 0, 0, 0, 0, 0, 0, 0, 0, 0, 1, 0, 0, 0, 0, 0, 0, 0, 0, 0, 0, 0, 0, 0, 0, 0, 1, 0, 0, 0, 0, 0, 0, 0, 0, 0, 0, 0, 0, 0, 0, 1, 0, 0, 0, 0, 0, 0, 0, 0, 0, 0, 0, 1, 0, 0, 0, 0, 0, 0, 0, 0, 0, 0, 0, 0, 0, 0, 0, 0, 0, 0, 0, 0, 0, 0, 0, 0, 0, 0, 0, 1, 0, 0, 0, 0, 0, 0, 0, 0, 0, 0, 0]\n",
      "Length of the encoding: 300\n"
     ]
    }
   ],
   "source": [
    "# Amino acides\n",
    "AMINO_ACIDS = 'ACDEFGHIKLMNPQRSTVWY'\n",
    "\n",
    "def one_hot_encode(sequence):\n",
    "    one_hot = np.zeros((len(sequence), len(AMINO_ACIDS)), dtype=int)\n",
    "    \n",
    "    for i, amino_acid in enumerate(sequence):\n",
    "        if amino_acid == '_':\n",
    "            continue\n",
    "        elif amino_acid in AMINO_ACIDS:\n",
    "            index = AMINO_ACIDS.index(amino_acid)\n",
    "            one_hot[i, index] = 1\n",
    "        else:\n",
    "            print(f\"Unknown amino acid: {amino_acid}\")\n",
    "    \n",
    "    return np.concatenate(one_hot, axis=0).flatten().tolist()\n",
    "\n",
    "# One-hot representations of sample sequences\n",
    "encoded_sequence = one_hot_encode(sample_ph1.upper())\n",
    "print(\"Sequence:\", sample_ph1)\n",
    "print(\"One-hot encoding:\", encoded_sequence)\n",
    "print(\"Length of the encoding:\", len(encoded_sequence))\n",
    "print()\n",
    "encoded_sequence = one_hot_encode(sample_ph2.upper())\n",
    "print(\"Sequence:\", sample_ph2)\n",
    "print(\"One-hot encoding:\", encoded_sequence)\n",
    "print(\"Length of the encoding:\", len(encoded_sequence))"
   ]
  },
  {
   "cell_type": "markdown",
   "id": "ba41bbcb",
   "metadata": {},
   "source": [
    "### ProtVec\n",
    "* Each consecutive 3-grams are represented as 100-dimensional vector.\n",
    "* For each combination of 3-grams, embedding vectors are pre-calculated and shared in \"protvec_embeddings.txt\" \n",
    "* 3-grams containing gaps are represented as 0-vectors.\n",
    "* After obtaining vector representations of 3-grams for a sequence, columnwise average will be considered as a sequence representation"
   ]
  },
  {
   "cell_type": "code",
   "execution_count": 6,
   "id": "ea8cbf8f",
   "metadata": {},
   "outputs": [
    {
     "name": "stdout",
     "output_type": "stream",
     "text": [
      "Sequence: NPFYEPNSPIRSSAF\n",
      "ProtVec embeddings: [ 0.21235143 -0.01973035 -0.05449028 -0.12563583  0.17079502 -0.01884763\n",
      "  0.13894881  0.04978768 -0.05604786  0.25767982  0.16507998  0.13469863\n",
      "  0.02111076 -0.10402458 -0.05669448 -0.17001667  0.01045077 -0.11767064\n",
      " -0.17882307 -0.10634137 -0.12239027 -0.06111901 -0.15399931  0.0120975\n",
      "  0.04042295 -0.04554815 -0.16500891  0.25852427  0.0403843  -0.03791138\n",
      " -0.00937839 -0.0483168   0.11419216  0.05096706  0.02932014  0.04900958\n",
      "  0.09400208  0.06612695  0.03305702  0.08217269  0.17438608  0.04023962\n",
      "  0.14838515  0.09928085 -0.09099173  0.344311   -0.2583761  -0.03705818\n",
      " -0.00362685 -0.05876528  0.05062245  0.04880714 -0.08624929 -0.08915662\n",
      "  0.06031401  0.09563657 -0.01929293 -0.06278651  0.18954323  0.15078372\n",
      "  0.04245012 -0.05650617  0.13985243  0.12114676 -0.02782861  0.28550977\n",
      " -0.12536898  0.03028444 -0.07754317  0.11591518 -0.0360393   0.03697309\n",
      "  0.02168416 -0.03994858  0.16169455  0.08424024 -0.01237279  0.09412234\n",
      " -0.01008288 -0.09523862  0.05664713 -0.03723461 -0.01148486  0.01481359\n",
      "  0.10190649 -0.0636477  -0.00603339  0.02775521  0.04228098 -0.02239642\n",
      "  0.05807615  0.22524954  0.10363932 -0.07746389  0.13097048 -0.1295141\n",
      "  0.11290518 -0.08651525 -0.09516587  0.22501855]\n",
      "Length of the encoding: 100\n",
      "\n",
      "Sequence: __MTMDKSELVQKAK\n",
      "ProtVec embeddings: [ 1.79130692e-01 -2.70793615e-02 -8.97355615e-02 -1.37739123e-01\n",
      "  2.30588769e-01 -1.53176231e-02  1.63308923e-01  1.91921469e-02\n",
      " -8.29987769e-02  1.65788563e-01  1.04913077e-01  1.24939254e-01\n",
      " -4.88659923e-02 -7.34173118e-02 -8.17197762e-02 -1.42098685e-01\n",
      "  1.57333846e-04 -9.78495377e-02 -1.70154946e-01 -3.91710738e-02\n",
      " -5.78381255e-02 -2.62042054e-02 -1.57184231e-01  4.53802531e-02\n",
      "  1.02916954e-02 -1.05690462e-02 -1.75482769e-01  1.38772538e-01\n",
      "  3.84724923e-03 -3.38424615e-02 -3.15344531e-02 -7.85810477e-02\n",
      "  8.73348692e-02  3.71023615e-02  5.48992462e-02  5.35729369e-02\n",
      "  3.89857062e-02  7.37834800e-02  2.40831692e-02  1.00462594e-01\n",
      "  1.60439923e-01  1.77527108e-02  1.46843577e-01  3.65424308e-02\n",
      " -3.55691023e-02  2.61579538e-01 -2.36903846e-01  4.04339262e-02\n",
      " -1.00241415e-01 -9.86300308e-02  5.05759615e-02  6.71631421e-02\n",
      " -7.08545608e-02 -7.77695415e-02  2.52652800e-02  4.40558146e-03\n",
      "  1.97966077e-02 -1.52271215e-02  7.58440354e-02  1.55142038e-01\n",
      "  6.72878692e-02 -1.34419154e-01  9.13782846e-02  5.51647423e-02\n",
      "  5.80145385e-03  2.05896015e-01 -7.92517231e-02  7.14116000e-02\n",
      " -3.18942538e-02  5.40053392e-02 -3.35705046e-02 -1.46492892e-02\n",
      "  5.21095308e-02  2.82951308e-02  5.67216908e-02  4.79322269e-02\n",
      "  8.15937831e-02  8.59495308e-02 -9.09584308e-02  7.16416692e-03\n",
      "  3.45125138e-02 -2.21885269e-02  2.02354032e-02 -6.80216215e-02\n",
      "  9.86455608e-02 -4.67122185e-02 -4.44584876e-02 -2.45807846e-02\n",
      "  3.82617923e-02  5.64145308e-02  5.49996184e-02  1.93386462e-01\n",
      "  8.87201915e-02 -4.53830538e-02  8.76928231e-02 -4.33860769e-02\n",
      "  1.52233769e-01 -1.00452685e-01 -8.61244023e-02  1.65960592e-01]\n",
      "Length of the encoding: 100\n"
     ]
    }
   ],
   "source": [
    "# read pre-calculated trigram vectors\n",
    "def read_trigram_vectors():\n",
    "    TrigramToVec = {}\n",
    "    with open('protvec_embeddings.txt', 'r') as f:\n",
    "        for line in f:\n",
    "            line = line.rstrip()\n",
    "            splits = line.split('\\t')\n",
    "            Trigram = splits[0]\n",
    "            splitted = splits[1].split(\" , \")\n",
    "            splitted = list(map(float, splitted))\n",
    "            TrigramToVec[Trigram] = splitted\n",
    "    return TrigramToVec\n",
    "\n",
    "TrigramToVec = read_trigram_vectors()\n",
    "\n",
    "# find 3-grams in a sequence\n",
    "def get_trigrams(sequence):\n",
    "    out = []\n",
    "    for i in range(len(sequence)-2):\n",
    "        out.append(sequence[i:(i+3)])\n",
    "    return out\n",
    "\n",
    "# pad with 0 if 3-gram contains gap\n",
    "def pad_vectors(Sequence, vec):\n",
    "    outvec = []\n",
    "    j = 0\n",
    "    for i in range(len(Sequence) - 2):\n",
    "        if '_' in Sequence[i:i+3]:\n",
    "            outvec.append(np.zeros(100).tolist())\n",
    "        else:\n",
    "            outvec.append(vec[j])\n",
    "            j += 1\n",
    "    return outvec\n",
    "\n",
    "\n",
    "# prepare protvec vectors\n",
    "def prepare_ProtVec(sequence,TrigramToVec):\n",
    "\n",
    "    vec_mat = []\n",
    "    trigrams = get_trigrams(sequence)\n",
    "    for grams in trigrams:\n",
    "        if \"_\" not in grams:\n",
    "            vec_mat.append(TrigramToVec[''.join(grams)])\n",
    "                \n",
    "    vec_mat = pad_vectors(sequence, vec_mat)\n",
    "    \n",
    "    return np.mean(vec_mat,axis=0)\n",
    "\n",
    "encoded_sequence = prepare_ProtVec(sample_ph1.upper(),TrigramToVec)\n",
    "print(\"Sequence:\", sample_ph1)\n",
    "print(\"ProtVec embeddings:\", encoded_sequence)\n",
    "print(\"Length of the encoding:\", len(encoded_sequence))\n",
    "print()\n",
    "encoded_sequence = prepare_ProtVec(sample_ph2.upper(),TrigramToVec)\n",
    "print(\"Sequence:\", sample_ph2)\n",
    "print(\"ProtVec embeddings:\", encoded_sequence)\n",
    "print(\"Length of the encoding:\", len(encoded_sequence))"
   ]
  },
  {
   "cell_type": "markdown",
   "id": "02387a91",
   "metadata": {},
   "source": [
    "### ProtBERT\n",
    "\n",
    "* Each residue has a token id. Firstly, sequences should be represented as token id vector.\n",
    "* Each tokenizer has its own rule about input format. For ProtBERT, input sequences must be uppercased, there should be space between residues, some types of aminoacids should be changed to unknown X and gaps should be represented as \"-\".\n",
    "* After preprocessing the input sequence, you can feed it to model to get embedding vectors.\n",
    "* Embedding vectors are output of last hidden layer of ProtBERT transformer model. "
   ]
  },
  {
   "cell_type": "code",
   "execution_count": 7,
   "id": "39d0cba1",
   "metadata": {},
   "outputs": [],
   "source": [
    "# Load protbert model and tokenizer (it may take time)\n",
    "modelname = \"Rostlab/prot_bert\"\n",
    "protbertmodel = AutoModel.from_pretrained(modelname).to(\"cuda\")\n",
    "protberttokenizer = AutoTokenizer.from_pretrained(modelname)"
   ]
  },
  {
   "cell_type": "code",
   "execution_count": 8,
   "id": "5f080655",
   "metadata": {},
   "outputs": [
    {
     "data": {
      "text/plain": [
       "('N P F Y E P N S P I R S S A F', '- - M T M D K S E L V Q K A K')"
      ]
     },
     "execution_count": 8,
     "metadata": {},
     "output_type": "execute_result"
    }
   ],
   "source": [
    "# Preprocess sample sequences ()\n",
    "prep_ph1 = re.sub(r\"[UZOB]\", \"X\", \" \".join(list(sample_ph1.upper()))).replace(\"_\",\"-\")\n",
    "prep_ph2 = re.sub(r\"[UZOB]\", \"X\", \" \".join(list(sample_ph2.upper()))).replace(\"_\",\"-\")\n",
    "prep_ph1, prep_ph2"
   ]
  },
  {
   "cell_type": "code",
   "execution_count": 9,
   "id": "427e7f62",
   "metadata": {},
   "outputs": [
    {
     "name": "stdout",
     "output_type": "stream",
     "text": [
      "Token IDS for Phosphosite NPFYEPNSPIRSSAF : {'input_ids': tensor([[ 2, 17, 16, 19, 20,  9, 16, 17, 10, 16, 11, 13, 10, 10,  6, 19,  3]]), 'token_type_ids': tensor([[0, 0, 0, 0, 0, 0, 0, 0, 0, 0, 0, 0, 0, 0, 0, 0, 0]]), 'attention_mask': tensor([[1, 1, 1, 1, 1, 1, 1, 1, 1, 1, 1, 1, 1, 1, 1, 1, 1]])}\n",
      "Token IDS for Phosphosite __MTMDKSELVQKAK : {'input_ids': tensor([[ 2,  1,  1, 21, 15, 21, 14, 12, 10,  9,  5,  8, 18, 12,  6, 12,  3]]), 'token_type_ids': tensor([[0, 0, 0, 0, 0, 0, 0, 0, 0, 0, 0, 0, 0, 0, 0, 0, 0]]), 'attention_mask': tensor([[1, 1, 1, 1, 1, 1, 1, 1, 1, 1, 1, 1, 1, 1, 1, 1, 1]])}\n"
     ]
    }
   ],
   "source": [
    "# 15-length sequence + 1 cls token + 1 eos token\n",
    "tokens_ph1  = protberttokenizer.encode_plus(prep_ph1, padding=\"max_length\", max_length=17,return_tensors='pt')\n",
    "tokens_ph2  = protberttokenizer.encode_plus(prep_ph2, padding=\"max_length\", max_length=17,return_tensors='pt') \n",
    "\n",
    "print(\"Token IDS for Phosphosite\", sample_ph1, \":\",tokens_ph1)\n",
    "print(\"Token IDS for Phosphosite\", sample_ph2, \":\",tokens_ph2)"
   ]
  },
  {
   "cell_type": "code",
   "execution_count": 10,
   "id": "1e4cea14",
   "metadata": {},
   "outputs": [
    {
     "data": {
      "text/plain": [
       "BaseModelOutputWithPoolingAndCrossAttentions(last_hidden_state=tensor([[[ 0.0342,  0.0747,  0.0715,  ..., -0.0432,  0.0491, -0.0758],\n",
       "         [-0.0947, -0.0090,  0.0204,  ..., -0.0108,  0.0446,  0.0055],\n",
       "         [ 0.1355, -0.0181, -0.0676,  ..., -0.0663,  0.0570,  0.0336],\n",
       "         ...,\n",
       "         [ 0.0110,  0.0115, -0.0533,  ..., -0.1524,  0.0045,  0.0493],\n",
       "         [-0.0017, -0.0339, -0.0972,  ..., -0.0255,  0.0685, -0.0003],\n",
       "         [-0.0122,  0.0094,  0.0138,  ..., -0.0092, -0.0315, -0.0114]]],\n",
       "       device='cuda:0', grad_fn=<NativeLayerNormBackward0>), pooler_output=tensor([[-0.2638,  0.2783, -0.2512,  ...,  0.2655,  0.2484, -0.2710]],\n",
       "       device='cuda:0', grad_fn=<TanhBackward0>), hidden_states=None, past_key_values=None, attentions=None, cross_attentions=None)"
      ]
     },
     "execution_count": 10,
     "metadata": {},
     "output_type": "execute_result"
    }
   ],
   "source": [
    "## Feed to model\n",
    "outputs = protbertmodel(**tokens_ph1.to(\"cuda\"))\n",
    "outputs"
   ]
  },
  {
   "cell_type": "markdown",
   "id": "b2376593",
   "metadata": {},
   "source": [
    "Output of last hidden layer is the representation of given sequence. Since it outputs vectors for each residue, the output is high dimensional. For example, in this case, sequences have 15 residues. Each residue is represented as 1024 dimensional vector in ProtBERT. CLS token embedding and EOS token embedding are also provided in the output. In the final, 17x1024 dimensional matrix is obtained. However, practically, you may not need to use that representation. Column-wise averaged embedding and CLS token embedding(like a summary of input sequence) also work as a protein representation.  "
   ]
  },
  {
   "cell_type": "code",
   "execution_count": 11,
   "id": "cf33600f",
   "metadata": {},
   "outputs": [
    {
     "name": "stdout",
     "output_type": "stream",
     "text": [
      "tensor([[ 0.0342,  0.0747,  0.0715,  ..., -0.0432,  0.0491, -0.0758],\n",
      "        [-0.0947, -0.0090,  0.0204,  ..., -0.0108,  0.0446,  0.0055],\n",
      "        [ 0.1355, -0.0181, -0.0676,  ..., -0.0663,  0.0570,  0.0336],\n",
      "        ...,\n",
      "        [ 0.0110,  0.0115, -0.0533,  ..., -0.1524,  0.0045,  0.0493],\n",
      "        [-0.0017, -0.0339, -0.0972,  ..., -0.0255,  0.0685, -0.0003],\n",
      "        [-0.0122,  0.0094,  0.0138,  ..., -0.0092, -0.0315, -0.0114]],\n",
      "       device='cuda:0', grad_fn=<SelectBackward0>)\n",
      "Size of embedding matrix:  torch.Size([17, 1024])\n",
      "\n",
      "tensor([ 0.0342,  0.0747,  0.0715,  ..., -0.0432,  0.0491, -0.0758],\n",
      "       device='cuda:0', grad_fn=<SelectBackward0>)\n",
      "Size of embedding matrix:  torch.Size([1024])\n",
      "\n",
      "tensor([-0.0063,  0.0026, -0.0014,  ..., -0.0106,  0.0148, -0.0172],\n",
      "       device='cuda:0', grad_fn=<MeanBackward1>)\n",
      "Size of embedding matrix:  torch.Size([1024])\n",
      "\n"
     ]
    }
   ],
   "source": [
    "# Take last hidden layer representation \n",
    "emb = outputs.last_hidden_state[0] \n",
    "print(emb)\n",
    "print(\"Size of embedding matrix: \", emb.size())\n",
    "print()\n",
    "# Embedding corresponding to CLS token (we will use this)\n",
    "embcls = outputs.last_hidden_state[0][0] \n",
    "print(embcls)\n",
    "print(\"Size of embedding matrix: \", embcls.size())\n",
    "print()\n",
    "# column wise average\n",
    "embavg = torch.mean(outputs.last_hidden_state[0], dim=0) \n",
    "print(embavg)\n",
    "print(\"Size of embedding matrix: \", embavg.size())\n",
    "print()"
   ]
  },
  {
   "cell_type": "markdown",
   "id": "5ac4e3bb",
   "metadata": {},
   "source": [
    "### ESM2\n",
    "\n",
    "* Samely, each residue has a token id. Sequences should be represented as token id vector first.\n",
    "* For ESM2, input sequences must be uppercased, and gaps should be changed to \"-\".\n",
    "* After preprocessing the input sequence, you can feed it to model to get embedding vectors.\n",
    "* Embedding vectors are output of last hidden layer of ESM2 transformer. "
   ]
  },
  {
   "cell_type": "code",
   "execution_count": 12,
   "id": "826b0a3f",
   "metadata": {},
   "outputs": [
    {
     "name": "stderr",
     "output_type": "stream",
     "text": [
      "Some weights of EsmModel were not initialized from the model checkpoint at facebook/esm2_t6_8M_UR50D and are newly initialized: ['esm.pooler.dense.bias', 'esm.pooler.dense.weight']\n",
      "You should probably TRAIN this model on a down-stream task to be able to use it for predictions and inference.\n"
     ]
    }
   ],
   "source": [
    "#  Load model\n",
    "modelname = \"facebook/esm2_t6_8M_UR50D\"\n",
    "esmmodel = AutoModel.from_pretrained(modelname).to(\"cuda\")\n",
    "esmtokenizer = AutoTokenizer.from_pretrained(modelname)"
   ]
  },
  {
   "cell_type": "code",
   "execution_count": 13,
   "id": "90aaaa02",
   "metadata": {},
   "outputs": [
    {
     "data": {
      "text/plain": [
       "('NPFYEPNSPIRSSAF', '--MTMDKSELVQKAK')"
      ]
     },
     "execution_count": 13,
     "metadata": {},
     "output_type": "execute_result"
    }
   ],
   "source": [
    "# Preprocess Sequences\n",
    "prep_ph1, prep_ph2 = sample_ph1.replace(\"_\", \"-\").upper(), sample_ph2.replace(\"_\", \"-\").upper()\n",
    "prep_ph1, prep_ph2"
   ]
  },
  {
   "cell_type": "code",
   "execution_count": 14,
   "id": "e714f178",
   "metadata": {},
   "outputs": [
    {
     "name": "stdout",
     "output_type": "stream",
     "text": [
      "Token IDS for Phosphosite NPFYEPNSPIRSSAF : {'input_ids': tensor([[ 0, 17, 14, 18, 19,  9, 14, 17,  8, 14, 12, 10,  8,  8,  5, 18,  2]]), 'attention_mask': tensor([[1, 1, 1, 1, 1, 1, 1, 1, 1, 1, 1, 1, 1, 1, 1, 1, 1]])}\n",
      "Token IDS for Phosphosite __MTMDKSELVQKAK : {'input_ids': tensor([[ 0, 30, 30, 20, 11, 20, 13, 15,  8,  9,  4,  7, 16, 15,  5, 15,  2]]), 'attention_mask': tensor([[1, 1, 1, 1, 1, 1, 1, 1, 1, 1, 1, 1, 1, 1, 1, 1, 1]])}\n"
     ]
    }
   ],
   "source": [
    "# Tokenize\n",
    "tokens_ph1  = esmtokenizer.encode_plus(prep_ph1, padding=\"max_length\", max_length=17,return_tensors='pt')\n",
    "tokens_ph2  = esmtokenizer.encode_plus(prep_ph2, padding=\"max_length\", max_length=17,return_tensors='pt') ## 15 sequence + 1 cls token + 1 eos token\n",
    "\n",
    "print(\"Token IDS for Phosphosite\", sample_ph1, \":\",tokens_ph1)\n",
    "print(\"Token IDS for Phosphosite\", sample_ph2, \":\",tokens_ph2)"
   ]
  },
  {
   "cell_type": "code",
   "execution_count": 15,
   "id": "803bd449",
   "metadata": {},
   "outputs": [
    {
     "data": {
      "text/plain": [
       "BaseModelOutputWithPoolingAndCrossAttentions(last_hidden_state=tensor([[[ 0.1195,  0.4402,  0.2628,  ...,  1.2083,  0.1615, -0.5490],\n",
       "         [ 0.2445, -0.1673,  0.1532,  ...,  0.3112, -0.0618, -0.1366],\n",
       "         [-0.1122, -0.3009,  0.1167,  ..., -0.0267,  0.3857, -0.0309],\n",
       "         ...,\n",
       "         [ 0.1603, -0.2364, -0.0107,  ...,  0.1779,  0.2439, -0.1175],\n",
       "         [ 0.1034, -0.2735,  0.4212,  ...,  0.1852,  0.1048,  0.1263],\n",
       "         [ 0.0567, -0.1750,  0.2620,  ...,  0.4650, -0.2158, -0.1050]]],\n",
       "       device='cuda:0', grad_fn=<NativeLayerNormBackward0>), pooler_output=tensor([[ 1.4636e-01, -5.3192e-02, -1.1427e-01,  2.3465e-01, -1.2270e-01,\n",
       "         -3.3203e-01, -3.0653e-02,  5.1582e-02, -4.1436e-02,  6.6246e-02,\n",
       "         -1.9132e-02,  2.8317e-02, -1.2381e-01, -6.7892e-02,  3.6876e-01,\n",
       "          2.8626e-02,  9.5791e-02,  4.5405e-02, -1.3529e-02, -1.3844e-01,\n",
       "         -1.3915e-01,  7.8882e-02,  2.2426e-02, -3.1985e-01, -2.2023e-03,\n",
       "         -4.7887e-02, -1.3932e-01, -3.5666e-01,  1.9585e-01, -1.4480e-01,\n",
       "         -1.5514e-01,  7.0783e-02,  1.2138e-01,  2.6028e-01,  2.6422e-02,\n",
       "         -1.6486e-02, -7.5481e-02, -6.9729e-02, -3.1233e-02,  2.8605e-01,\n",
       "         -1.8183e-01, -1.7031e-01, -1.4324e-01, -2.2749e-01, -1.9073e-01,\n",
       "         -9.4268e-02,  1.9527e-01, -2.9973e-02, -2.7922e-01,  2.5537e-01,\n",
       "          1.9771e-01, -3.5784e-01, -1.2307e-01, -1.5503e-01,  1.3424e-01,\n",
       "         -4.0031e-02, -3.7835e-01, -1.2302e-01,  1.5002e-01, -1.8869e-01,\n",
       "          4.5801e-03,  3.5655e-02,  1.2623e-02,  1.3266e-01, -7.1401e-02,\n",
       "         -2.4523e-02, -1.1059e-01,  5.4963e-02, -2.1247e-01, -1.4605e-01,\n",
       "         -1.2378e-01,  7.7092e-02, -2.3718e-01, -1.2081e-01, -2.7822e-01,\n",
       "         -4.1351e-02, -3.6400e-02, -5.0913e-02, -1.2090e-01,  1.5461e-01,\n",
       "          1.8139e-01, -4.6862e-03,  1.1884e-02, -1.2690e-01,  1.6407e-01,\n",
       "         -4.0715e-03,  1.5890e-02, -2.0573e-02, -6.6730e-02,  2.2109e-01,\n",
       "         -2.3585e-01,  7.6401e-02, -1.0545e-01, -3.3107e-01,  5.2131e-02,\n",
       "          2.9495e-02, -2.1793e-01,  1.0208e-01,  3.7774e-02, -2.5566e-01,\n",
       "          7.4158e-02,  9.2340e-03, -8.1008e-02,  9.4049e-02, -1.2832e-01,\n",
       "         -4.7980e-02, -1.3463e-01, -1.3925e-01, -1.4387e-01, -1.5552e-01,\n",
       "         -9.0986e-02,  2.3095e-02, -2.4116e-03, -8.4352e-02, -7.2639e-02,\n",
       "         -1.6989e-01,  2.3279e-02,  8.0242e-02, -6.3177e-02,  3.1864e-02,\n",
       "         -1.9764e-01,  2.0577e-01, -1.2968e-01, -2.2961e-01,  5.1686e-03,\n",
       "         -4.6053e-02,  3.5153e-01, -4.4790e-02,  1.1463e-01, -3.5280e-01,\n",
       "          2.8985e-02, -2.6566e-01, -1.8023e-02, -6.5113e-02,  9.1133e-02,\n",
       "          2.1577e-01,  9.6457e-02,  1.2107e-01, -1.6654e-01, -1.0415e-01,\n",
       "          6.9029e-02, -7.2680e-02, -2.3961e-01,  1.0495e-01,  3.9133e-01,\n",
       "         -3.7612e-02, -8.9285e-03,  1.2693e-01,  4.7001e-02, -7.9638e-02,\n",
       "         -3.3661e-02,  1.3601e-01,  2.6604e-01,  7.6925e-02,  2.0340e-01,\n",
       "          1.0999e-01, -7.9954e-02,  1.0382e-01, -4.3257e-02,  1.5078e-01,\n",
       "          9.0714e-02, -2.9174e-01,  1.3684e-01,  1.9651e-01, -7.1937e-02,\n",
       "         -1.1819e-01,  2.9902e-01,  1.0921e-01,  1.4290e-02,  2.3160e-02,\n",
       "         -6.2022e-02, -2.0160e-01, -1.6491e-01, -2.6756e-01,  4.4713e-02,\n",
       "         -1.7755e-01,  1.5035e-01, -2.1679e-01,  1.9898e-01,  4.3670e-02,\n",
       "          7.7907e-02, -2.5458e-02,  2.4146e-02,  1.3490e-01,  8.4784e-02,\n",
       "          3.2692e-02,  1.0798e-01,  3.9731e-02, -7.4527e-02,  2.7887e-01,\n",
       "         -2.1798e-01, -5.0176e-02, -1.5691e-01, -1.0310e-01, -2.6933e-01,\n",
       "         -7.3754e-02, -5.0364e-02,  3.0666e-02,  5.4722e-02,  1.8239e-01,\n",
       "         -2.6037e-01,  3.7520e-02,  1.1289e-01,  1.9909e-02,  7.5120e-02,\n",
       "          7.8667e-02,  9.8423e-02, -1.7346e-01, -2.3561e-01, -5.6142e-02,\n",
       "         -1.3565e-01,  4.5238e-01, -3.4565e-02,  4.0646e-02, -2.3109e-01,\n",
       "         -5.6271e-02, -2.6503e-01, -2.5201e-02, -1.5273e-01,  1.1018e-01,\n",
       "          1.4050e-01, -1.2086e-01, -1.8167e-01, -1.8812e-01,  5.5935e-02,\n",
       "          9.7066e-02, -7.0305e-02,  6.0863e-02,  1.9568e-02,  1.8711e-01,\n",
       "         -2.0110e-01, -3.0303e-04,  1.4740e-02, -3.5932e-02, -1.5221e-01,\n",
       "         -1.8987e-01, -1.1719e-01,  6.8905e-03, -9.4605e-02,  3.0507e-01,\n",
       "          3.6137e-01,  6.6216e-02, -1.2048e-01, -9.6712e-02,  3.7772e-02,\n",
       "          1.1041e-01,  9.3404e-02, -2.6308e-01,  1.9977e-01, -9.1419e-02,\n",
       "         -2.7432e-01, -2.0114e-01, -2.0462e-01, -3.7224e-03, -3.5488e-02,\n",
       "          1.4199e-01,  8.5334e-02, -1.4408e-01,  2.5059e-01, -2.6650e-01,\n",
       "         -8.1769e-02, -1.2823e-01, -5.5751e-02,  5.0090e-02,  1.0672e-01,\n",
       "          8.9610e-02,  1.3255e-01, -1.3893e-01, -8.8337e-02,  5.1756e-02,\n",
       "         -5.0084e-02,  2.1381e-01,  3.0159e-01, -4.1707e-02,  8.8352e-02,\n",
       "          1.2544e-01, -2.3098e-02, -3.9942e-01, -6.3846e-02,  2.1000e-02,\n",
       "         -1.7435e-02, -1.8568e-01,  9.9897e-02,  5.3725e-02,  2.0888e-01,\n",
       "          3.9700e-02,  6.0406e-02,  1.9224e-01,  1.0778e-01, -1.2484e-02,\n",
       "         -1.0235e-01, -4.0384e-02,  3.9077e-03,  1.3212e-01, -2.8289e-01,\n",
       "         -2.3823e-01,  1.0290e-01,  6.3884e-02, -1.0011e-01,  9.2960e-02,\n",
       "         -4.0528e-02,  8.5347e-02,  7.7502e-02, -4.5462e-02,  3.6321e-01,\n",
       "         -8.6970e-02,  1.7219e-01,  4.2024e-02, -1.4148e-01,  1.1453e-01,\n",
       "         -7.0482e-02, -9.1638e-02,  2.4502e-01,  1.0033e-01, -3.7352e-02,\n",
       "         -7.0999e-02,  1.2471e-01, -7.6853e-02,  2.8479e-01, -1.2547e-01]],\n",
       "       device='cuda:0', grad_fn=<TanhBackward0>), hidden_states=None, past_key_values=None, attentions=None, cross_attentions=None)"
      ]
     },
     "execution_count": 15,
     "metadata": {},
     "output_type": "execute_result"
    }
   ],
   "source": [
    "# Feed to model\n",
    "outputs = esmmodel(**tokens_ph1.to(\"cuda\"))\n",
    "outputs"
   ]
  },
  {
   "cell_type": "code",
   "execution_count": 16,
   "id": "6b55cda4",
   "metadata": {},
   "outputs": [
    {
     "data": {
      "text/plain": [
       "tensor([ 7.5492e-03, -3.0893e-01,  1.9443e-01,  1.4956e-01,  9.5220e-02,\n",
       "        -9.1773e-02, -7.3530e-02, -3.8249e-02, -1.2726e-01, -2.1752e-01,\n",
       "        -3.2553e-02,  2.0095e-01,  2.7083e-02,  3.1955e-02, -3.1803e-01,\n",
       "         5.6623e-03,  1.9641e-01, -1.1862e-01,  3.0182e-01, -2.4163e-01,\n",
       "        -1.1083e-01,  5.8300e-02,  9.6789e-02, -2.8283e-02,  6.1860e-02,\n",
       "         2.5714e-01, -8.6814e-02,  4.8600e-02,  1.8081e-01,  2.1453e-02,\n",
       "         3.3190e-02,  1.7144e-03,  4.0401e-05, -1.9960e-01,  5.3352e-02,\n",
       "        -4.6519e-01,  2.9284e-01, -1.3765e-01,  4.0773e-01,  8.1282e-02,\n",
       "        -1.8969e-01,  1.8519e-01,  1.5221e-01,  2.7247e-02, -5.9926e-02,\n",
       "         4.0038e-02, -1.3278e+00,  1.9715e-01, -6.2275e-02, -1.1153e-01,\n",
       "         1.5642e-01,  5.5829e-02,  3.5774e-01, -7.2592e-02, -2.2324e-01,\n",
       "        -1.3017e-01,  5.9041e-02,  7.3238e-02,  5.2106e-02, -1.8095e-01,\n",
       "        -4.5788e-02,  3.3926e-02, -4.9832e+00, -8.1964e-02, -4.6060e-02,\n",
       "         2.6611e-02, -7.8935e-02,  1.6994e-01, -1.6211e-01,  2.6277e-01,\n",
       "        -2.3908e-01, -2.8003e-02, -2.3536e-01,  8.1602e-02, -5.9992e-02,\n",
       "         1.1942e-01, -5.8269e-02, -1.3534e-01,  7.8969e-02,  2.5006e-01,\n",
       "         1.9914e-01,  1.7029e-01,  1.2877e-03,  3.7922e-01, -1.9262e-01,\n",
       "        -2.0160e-01,  1.1252e-02,  2.5848e-02,  1.5628e-01, -2.3131e-02,\n",
       "         5.7813e-02,  8.1083e-02, -2.4995e-02,  1.3997e-01, -1.9082e-01,\n",
       "         1.1125e-01, -1.9931e-01,  2.0590e-01,  3.3377e-03, -3.3417e-01,\n",
       "        -1.1501e-01,  1.9046e-02,  5.9395e-02, -9.8299e-02,  6.2959e-02,\n",
       "         2.0767e-01, -6.1988e-04, -1.4719e-03,  1.2364e-01, -1.8000e-01,\n",
       "        -5.3001e-02,  1.9894e-01,  5.4820e-02,  4.6356e-02,  6.1660e-02,\n",
       "         3.0982e-01, -1.1348e-01, -2.9037e-02, -1.8707e-01, -1.2348e-02,\n",
       "         7.2245e-02, -1.6623e-02, -1.8572e-01, -1.7399e-02,  2.5330e-02,\n",
       "        -1.5938e-01,  1.1126e-02, -1.4134e-01, -1.7480e-01, -9.8988e-02,\n",
       "        -6.9979e-02, -1.1610e-01,  4.2378e-01,  5.9766e-02,  1.0942e-01,\n",
       "         4.9141e-02,  4.5756e-03, -4.4210e-02, -1.9924e-01, -5.3952e-02,\n",
       "         3.0603e-01, -1.0809e-01, -1.3360e-01, -4.6219e-03, -5.0105e-02,\n",
       "         1.1791e-01,  3.7343e-03, -1.1411e-02, -3.1038e-01,  2.8588e-02,\n",
       "        -3.4052e-01, -9.4022e-02,  7.4349e-02, -3.5507e-01,  1.3911e-01,\n",
       "        -1.7201e-01, -5.2024e-02,  1.7952e-01, -2.4429e-02,  2.1694e-01,\n",
       "         3.4441e-02, -1.1022e-01,  1.1373e-01, -1.5246e-01,  5.1684e-02,\n",
       "        -5.2149e-02, -2.1413e-01, -1.8873e-01,  8.3149e-03,  3.7348e-02,\n",
       "         8.3072e-02,  1.0775e-01, -7.3086e-02, -6.4948e-03,  6.7951e-02,\n",
       "         1.6819e-01,  1.3468e-01, -4.5185e-02,  1.9018e-02, -3.1356e-01,\n",
       "         3.6844e-02, -3.9312e-01,  3.9086e-02, -1.1336e-01,  2.0916e-02,\n",
       "         1.3850e-01, -4.1761e-01,  2.9749e-01, -1.3940e-01, -5.2594e-02,\n",
       "        -2.7819e-01,  2.7383e-01,  3.8945e-01,  1.9344e-01,  1.8510e-01,\n",
       "         3.6446e-02,  1.1139e-02,  7.6605e-03,  9.2252e-02,  2.7719e-01,\n",
       "         7.6454e-03,  1.5676e-01,  3.0882e-01,  1.9595e-01, -5.8415e-02,\n",
       "        -1.7659e-01, -7.5360e-02, -3.2927e-01,  5.8651e-02,  3.1413e-01,\n",
       "        -3.2539e-02, -4.3610e-02, -1.4826e-01,  2.3838e-01, -1.0055e-01,\n",
       "         1.0223e-01,  6.3825e-02, -7.7796e-02, -1.9833e-01, -1.6884e-01,\n",
       "        -4.7450e-01, -6.7039e-02,  2.8296e-01, -5.3545e-02, -2.1429e-02,\n",
       "         1.3103e-02, -3.1782e-02,  1.4561e-01, -1.2624e-01,  1.4018e-01,\n",
       "        -1.1034e-01,  5.4399e-02,  1.9869e-01,  1.4322e-01,  2.1475e-01,\n",
       "         1.9280e-01,  4.4584e-01, -9.9489e-02,  1.8585e-01,  7.2148e-02,\n",
       "        -2.9939e-01, -6.8861e-02, -1.0934e-01,  1.3746e-01, -2.3845e-01,\n",
       "         8.5247e-02,  4.1802e-01,  4.0750e-01,  1.1265e-01,  2.2465e-01,\n",
       "        -6.1318e-02,  4.3029e-02, -1.2628e-01, -1.1589e-01, -1.0780e-01,\n",
       "        -1.1235e-01, -1.2698e-01, -1.9376e-01,  3.0737e-01, -3.8372e-01,\n",
       "        -9.1973e-03, -6.8869e-03,  4.0978e-02,  1.5802e-01,  3.0436e-02,\n",
       "        -1.7592e-03, -4.8509e-02, -1.1673e-02,  8.9914e-02,  2.2309e-01,\n",
       "         9.2903e-02,  2.7805e-01,  2.9997e-01,  1.9010e-01,  4.7758e-02,\n",
       "        -2.1566e-01,  1.9033e-02,  8.9962e-02,  1.5778e-01,  2.0469e-01,\n",
       "         2.6825e-02, -2.3551e-01,  1.1408e-01,  3.5146e-02,  1.7065e-01,\n",
       "         1.8880e-01, -2.6902e-01, -9.1230e-03, -5.0376e-02, -2.2624e-01,\n",
       "        -1.0337e-01, -1.8236e-01,  4.3492e-01,  1.1604e-01,  1.1410e-01,\n",
       "        -1.5956e-01, -3.8310e-02, -3.4410e-02, -4.6620e-01,  2.1237e-01,\n",
       "         4.7619e-02, -8.8334e-02, -2.1553e-01,  3.7902e-01, -7.7331e-02,\n",
       "        -4.3598e-02, -2.8980e-01, -3.5141e-02, -1.9414e-01,  1.5259e-01,\n",
       "         1.9816e-01, -1.2414e-01,  3.2571e-01,  1.1014e-01,  2.0519e-02,\n",
       "         2.2274e-01,  5.6092e-02,  1.8168e-01,  2.2787e-01, -1.7245e-02],\n",
       "       device='cuda:0', grad_fn=<MeanBackward1>)"
      ]
     },
     "execution_count": 16,
     "metadata": {},
     "output_type": "execute_result"
    }
   ],
   "source": [
    "# Take last hidden layer representation \n",
    "outputs.last_hidden_state[0] \n",
    "# embedding corresponding to CLS token (we will use this)\n",
    "outputs.last_hidden_state[0][0] \n",
    "# column wise average\n",
    "torch.mean(outputs.last_hidden_state[0], dim=0) "
   ]
  },
  {
   "cell_type": "markdown",
   "id": "353b938d",
   "metadata": {},
   "source": [
    "## TASK2 - Use Embeddings on A Downstream Task\n",
    "\n",
    "In this section, you will use protein representations on *phosphorylation prediction downstream task*. You will first prepare the data as train, validation, and test sets. Then, by using each representations(OneHot Encodings, ProtVec, ProtBERT, ESM2), you will train 2-layer neural networks that will learn a predictor for classification of sequences. In the end of the notebook, you will evaluate the predictors."
   ]
  },
  {
   "cell_type": "code",
   "execution_count": 17,
   "id": "bbb45796",
   "metadata": {},
   "outputs": [
    {
     "data": {
      "text/plain": [
       "(10000, 10000, 5000, 5000)"
      ]
     },
     "execution_count": 17,
     "metadata": {},
     "output_type": "execute_result"
    }
   ],
   "source": [
    "# Combine and preprocess the data\n",
    "final_data = pos_data + neg_data\n",
    "final_labels = pos_labels + neg_labels\n",
    "len(final_data), len(final_labels), len(pos_data), len(neg_data)"
   ]
  },
  {
   "cell_type": "code",
   "execution_count": 18,
   "id": "f9936b4c",
   "metadata": {},
   "outputs": [
    {
     "data": {
      "text/plain": [
       "(7000, 1500, 1500)"
      ]
     },
     "execution_count": 18,
     "metadata": {},
     "output_type": "execute_result"
    }
   ],
   "source": [
    "# Train-Validation-Test Splits\n",
    "X_train, X_val, y_train, y_val = train_test_split(final_data, final_labels, test_size=0.3, random_state=42)\n",
    "X_val, X_test, y_val, y_test = train_test_split(X_val, y_val, test_size=0.5, random_state=42)\n",
    "\n",
    "# Convert labels to tensors\n",
    "train_labels = torch.tensor(y_train)\n",
    "val_labels = torch.tensor(y_val)\n",
    "test_labels = torch.tensor(y_test)\n",
    "len(X_train), len(X_val), len(X_test)"
   ]
  },
  {
   "cell_type": "markdown",
   "id": "2fe9f322",
   "metadata": {},
   "source": [
    "There will be 2 distinct predictor classes because processing the data and feeding to the model steps are different in baseline approaches(OneHot Encoding, ProtVec) and transformer based approaches(ProtBERT, ESM2)."
   ]
  },
  {
   "cell_type": "code",
   "execution_count": 19,
   "id": "115b250f",
   "metadata": {},
   "outputs": [],
   "source": [
    "\"\"\"\n",
    "input_size: embedding vector size per residue\n",
    "\"\"\"\n",
    "class PhosphorylationPredictor(nn.Module):\n",
    "    # 2-layer network structure\n",
    "    def __init__(self, input_size):\n",
    "        super(PhosphorylationPredictor, self).__init__()\n",
    "        self.fc1 = nn.Linear(input_size, 50)\n",
    "        self.relu = nn.ReLU()\n",
    "        self.fc2 = nn.Linear(50, 2)  # 2 class\n",
    "        self.bn1 = nn.BatchNorm1d(50)\n",
    "        self.bn2 = nn.BatchNorm1d(2) \n",
    "    \n",
    "    def forward(self, x):\n",
    "        x = self.fc1(x)  \n",
    "        x = self.bn1(x)\n",
    "        x = self.relu(x)\n",
    "        x = self.fc2(x)\n",
    "        x = self.bn2(x)\n",
    "        return x"
   ]
  },
  {
   "cell_type": "code",
   "execution_count": 20,
   "id": "1d726587",
   "metadata": {},
   "outputs": [],
   "source": [
    "\"\"\"\n",
    "model_name: type of representation\n",
    "input_size: embedding vector size per residue\n",
    "train_encodings: pre-calculated encodings for train sample (onehot repr and protvec repr)\n",
    "train_labels: labels corresponding to train samples\n",
    "val_encodings: pre-calculated encodings for validation samples (onehot repr and protvec repr)\n",
    "val_labels: labels corresponding to validation sampless\n",
    "batch_size: 256\n",
    "num_epochs: 10 \n",
    "lr: learning rate: 0.0001\n",
    "\"\"\"\n",
    "def train_validation_loop(model_name,input_size, train_encodings, train_labels, val_encodings, val_labels, batch_size=256, num_epochs=10, lr=0.0001):\n",
    "\n",
    "    # Create predictor instance\n",
    "    predictor = PhosphorylationPredictor(input_size)\n",
    "    # Define loss\n",
    "    criterion = nn.CrossEntropyLoss()\n",
    "    # Define optimizer\n",
    "    optimizer = optim.Adam(predictor.parameters(), lr)  \n",
    "\n",
    "    # Calculate number of batches\n",
    "    num_batches = len(X_train) // batch_size \n",
    "\n",
    "    train_losses = []\n",
    "    val_losses = []\n",
    "\n",
    "    # Training lopp\n",
    "    for epoch in range(num_epochs):\n",
    "        train_loss=0\n",
    "        val_loss=0\n",
    "        for i in range(num_batches):\n",
    "            \n",
    "            # calculate batch indices\n",
    "            start_idx = i * batch_size\n",
    "            end_idx = start_idx + batch_size\n",
    "            \n",
    "            # training batch encodings\n",
    "            tr_encodings = torch.tensor(train_encodings[start_idx:end_idx])\n",
    "            tr_encodings = torch.tensor(tr_encodings, dtype=torch.float32)\n",
    "            \n",
    "            # predictor learns from training samples in each epoch\n",
    "            outputs = predictor(tr_encodings)\n",
    "\n",
    "            # training batch labels\n",
    "            tr_labels = train_labels[start_idx:end_idx]  \n",
    "\n",
    "            # Calculate loss\n",
    "            loss = criterion(outputs, tr_labels)\n",
    "\n",
    "            optimizer.zero_grad()\n",
    "            loss.backward()\n",
    "            optimizer.step()\n",
    "            train_loss += loss.item()\n",
    "\n",
    "        train_losses.append(train_loss / num_batches) \n",
    "    \n",
    "        # For validation\n",
    "        predictor.eval() # evalauation mode of predictor  \n",
    "        with torch.no_grad():  \n",
    "            val_inputs = torch.tensor(val_encodings, dtype=torch.float32)\n",
    "\n",
    "            # make predictions on validation data\n",
    "            val_outputs = predictor(val_inputs)\n",
    "            val_loss = criterion(val_outputs, val_labels).item()\n",
    "            val_losses.append(val_loss)\n",
    "\n",
    "        print(f'Epoch [{epoch + 1}/{num_epochs}], Train Loss: {train_losses[-1]:.4f}, Validation Loss: {val_losses[-1]:.4f}')\n",
    "\n",
    "    # Plot learning curves\n",
    "    plot_learning_curve(model_name,num_epochs, train_losses, val_losses)\n",
    "    \n",
    "    return predictor"
   ]
  },
  {
   "cell_type": "code",
   "execution_count": 21,
   "id": "c0a29256",
   "metadata": {},
   "outputs": [],
   "source": [
    "\"\"\"\n",
    "plmmodel: Protein language model(ProtBERT and ESM2) to get the protein embeddings during training\n",
    "input_size: embedding vector size per residue\n",
    "\"\"\"\n",
    "class PhosphorylationPredictorPLM(nn.Module):\n",
    "    def __init__(self, plmmodel, input_size):\n",
    "        super(PhosphorylationPredictorPLM, self).__init__()\n",
    "        self.plmmodel = plmmodel\n",
    "        self.fc1 = nn.Linear(input_size, 200)\n",
    "        self.relu = nn.ReLU()\n",
    "        self.fc2 = nn.Linear(200, 2)  # 2 class\n",
    "        self.bn1 = nn.BatchNorm1d(200)\n",
    "        self.bn2 = nn.BatchNorm1d(2) \n",
    "    \n",
    "    def forward(self, x):\n",
    "        with torch.no_grad(): \n",
    "            plm_outputs = self.plmmodel(**x)\n",
    "        plm_embedding = plm_outputs.last_hidden_state # get the protein embeddings\n",
    "        \n",
    "        x = self.fc1(plm_embedding[:, 0, :])  # feed cls token embedding to network\n",
    "        x = self.bn1(x)\n",
    "        x = self.relu(x)\n",
    "        x = self.fc2(x)\n",
    "        x = self.bn2(x)\n",
    "        x = self.relu(x)\n",
    "        return x"
   ]
  },
  {
   "cell_type": "code",
   "execution_count": 35,
   "id": "b01c2013",
   "metadata": {},
   "outputs": [],
   "source": [
    "\"\"\"\n",
    "model_name: type of plm\n",
    "plm_model: plm instance (it was loaded)\n",
    "tokenizer: tokenizer instance (it was loaded)\n",
    "input_size: embedding vector size per residue\n",
    "X_train: train samples\n",
    "train_labels: labels corresponding to train samples\n",
    "X_val: validation samples\n",
    "val_labels: labels corresponding to validation sampless\n",
    "batch_size: 256\n",
    "num_epochs: 10 \n",
    "lr: learning rate: 0.0001\n",
    "\"\"\"\n",
    "def train_validation_loop_plm(model_name, plm_model, tokenizer,input_size, X_train, train_labels, X_val, val_labels, batch_size=256, num_epochs=10, lr=0.0001):\n",
    "        \n",
    "    # Create predictor instance\n",
    "    predictor = PhosphorylationPredictorPLM(plm_model, input_size).to(\"cuda\")\n",
    "    # Define loss\n",
    "    criterion = nn.CrossEntropyLoss()\n",
    "    # Define optimizer\n",
    "    optimizer = optim.Adam(predictor.parameters(), lr)  \n",
    " \n",
    "    # Calculate number of batches\n",
    "    num_batches = len(X_train) // batch_size \n",
    "\n",
    "    train_losses = []\n",
    "    val_losses = []\n",
    "    \n",
    "    # training loop\n",
    "    for epoch in range(num_epochs):\n",
    "        train_loss = 0\n",
    "        val_loss = 0\n",
    "\n",
    "        for i in range(num_batches):\n",
    "            \n",
    "            # calculate batch indices\n",
    "            start_idx = i * batch_size\n",
    "            end_idx = start_idx + batch_size\n",
    "            tr_sequences = X_train[start_idx:end_idx]\n",
    "            \n",
    "            # tokenize train batch sequences\n",
    "            tr_tokens = tokenizer(tr_sequences, return_tensors=\"pt\", padding=\"max_length\", max_length=17)\n",
    "            \n",
    "            # provide input token ids to predictor\n",
    "            tr_outputs = predictor(tr_tokens.to(\"cuda\"))\n",
    "\n",
    "            labels = train_labels[start_idx:end_idx].to(\"cuda\")\n",
    "\n",
    "            loss = criterion(tr_outputs, labels)\n",
    "            \n",
    "            optimizer.zero_grad()\n",
    "            loss.backward()\n",
    "            optimizer.step()\n",
    "            train_loss += loss.item()\n",
    "\n",
    "        train_losses.append(train_loss / num_batches)  # Ortalama train kaybı\n",
    "\n",
    "        # Validation\n",
    "        predictor.eval()  # validation mode\n",
    "\n",
    "        with torch.no_grad(): \n",
    "            # Tokenize validation sequences\n",
    "            val_inputs = tokenizer(X_val, return_tensors=\"pt\", padding=\"max_length\", max_length=17)\n",
    "            \n",
    "            # Provide validaiton token ids to predictor\n",
    "            val_outputs = predictor(val_inputs.to(\"cuda\"))\n",
    "\n",
    "            loss = criterion(val_outputs, val_labels.to(\"cuda\"))\n",
    "            val_loss += loss.item()\n",
    "            val_losses.append(val_loss)\n",
    "\n",
    "        print(f'Epoch [{epoch + 1}/{num_epochs}], Train Loss: {train_losses[-1]:.4f}, Validation Loss: {val_losses[-1]:.4f}')\n",
    "        \n",
    "    plot_learning_curve(model_name, num_epochs, train_losses, val_losses)\n",
    "        \n",
    "    return predictor\n"
   ]
  },
  {
   "cell_type": "code",
   "execution_count": 36,
   "id": "e6de91c3",
   "metadata": {},
   "outputs": [],
   "source": [
    "# Plot learning curves\n",
    "def plot_learning_curve(model_name, num_epochs, train_losses, val_losses):\n",
    "    plt.figure(figsize=(10, 5))\n",
    "    plt.plot(range(1, num_epochs + 1), train_losses, label='Train Loss')\n",
    "    plt.plot(range(1, num_epochs + 1), val_losses, label='Validation Loss')\n",
    "    plt.xlabel('Epochs')\n",
    "    plt.ylabel('Loss')\n",
    "    plt.title(model_name +' Training and Validation Loss')\n",
    "    plt.legend()\n",
    "    plt.show()"
   ]
  },
  {
   "cell_type": "markdown",
   "id": "e751f4e6",
   "metadata": {},
   "source": [
    "### Onehot Encoding "
   ]
  },
  {
   "cell_type": "code",
   "execution_count": 24,
   "id": "e4fe3184",
   "metadata": {},
   "outputs": [],
   "source": [
    "# Prepare train and validation onehot representations\n",
    "train_encodings = [one_hot_encode(seq) for seq in X_train]\n",
    "val_encodings = [one_hot_encode(seq) for seq in X_val ]"
   ]
  },
  {
   "cell_type": "code",
   "execution_count": 25,
   "id": "5c640377",
   "metadata": {},
   "outputs": [
    {
     "name": "stderr",
     "output_type": "stream",
     "text": [
      "/tmp/ipykernel_219219/745720336.py:39: UserWarning: To copy construct from a tensor, it is recommended to use sourceTensor.clone().detach() or sourceTensor.clone().detach().requires_grad_(True), rather than torch.tensor(sourceTensor).\n",
      "  tr_encodings = torch.tensor(tr_encodings, dtype=torch.float32)\n"
     ]
    },
    {
     "name": "stdout",
     "output_type": "stream",
     "text": [
      "Epoch [1/10], Train Loss: 0.8324, Validation Loss: 0.7520\n",
      "Epoch [2/10], Train Loss: 0.7053, Validation Loss: 0.6779\n",
      "Epoch [3/10], Train Loss: 0.6525, Validation Loss: 0.6423\n",
      "Epoch [4/10], Train Loss: 0.6262, Validation Loss: 0.6210\n",
      "Epoch [5/10], Train Loss: 0.6040, Validation Loss: 0.6015\n",
      "Epoch [6/10], Train Loss: 0.5828, Validation Loss: 0.5827\n",
      "Epoch [7/10], Train Loss: 0.5626, Validation Loss: 0.5647\n",
      "Epoch [8/10], Train Loss: 0.5431, Validation Loss: 0.5475\n",
      "Epoch [9/10], Train Loss: 0.5245, Validation Loss: 0.5313\n",
      "Epoch [10/10], Train Loss: 0.5069, Validation Loss: 0.5161\n"
     ]
    },
    {
     "data": {
      "image/png": "[encoded data removed]",
      "text/plain": [
       "<Figure size 1000x500 with 1 Axes>"
      ]
     },
     "metadata": {},
     "output_type": "display_data"
    },
    {
     "name": "stdout",
     "output_type": "stream",
     "text": [
      "Model Training Time: 5.330231189727783 seconds\n"
     ]
    }
   ],
   "source": [
    "# TRAIN \n",
    "start_time = time.time()\n",
    "\n",
    "onehotpredictor = train_validation_loop(\"OneHot Encodings\",300, train_encodings, train_labels, val_encodings, val_labels)\n",
    "\n",
    "end_time = time.time()\n",
    "full_model_training_time = end_time - start_time\n",
    "print(f\"Model Training Time: {full_model_training_time} seconds\")"
   ]
  },
  {
   "cell_type": "markdown",
   "id": "381dac35",
   "metadata": {},
   "source": [
    "### ProtVec"
   ]
  },
  {
   "cell_type": "code",
   "execution_count": 26,
   "id": "6f9058b3",
   "metadata": {},
   "outputs": [],
   "source": [
    "# Prepare train and validation protvec representations\n",
    "train_encodings = [prepare_ProtVec(seq.upper(),TrigramToVec) for seq in X_train ]\n",
    "val_encodings = [prepare_ProtVec(seq.upper(),TrigramToVec) for seq in X_val ]"
   ]
  },
  {
   "cell_type": "code",
   "execution_count": 27,
   "id": "fae58969",
   "metadata": {},
   "outputs": [
    {
     "name": "stderr",
     "output_type": "stream",
     "text": [
      "/tmp/ipykernel_219219/745720336.py:38: UserWarning: Creating a tensor from a list of numpy.ndarrays is extremely slow. Please consider converting the list to a single numpy.ndarray with numpy.array() before converting to a tensor. (Triggered internally at ../torch/csrc/utils/tensor_new.cpp:278.)\n",
      "  tr_encodings = torch.tensor(train_encodings[start_idx:end_idx])\n",
      "/tmp/ipykernel_219219/745720336.py:39: UserWarning: To copy construct from a tensor, it is recommended to use sourceTensor.clone().detach() or sourceTensor.clone().detach().requires_grad_(True), rather than torch.tensor(sourceTensor).\n",
      "  tr_encodings = torch.tensor(tr_encodings, dtype=torch.float32)\n"
     ]
    },
    {
     "name": "stdout",
     "output_type": "stream",
     "text": [
      "Epoch [1/10], Train Loss: 0.8137, Validation Loss: 0.8038\n",
      "Epoch [2/10], Train Loss: 0.7829, Validation Loss: 0.7155\n",
      "Epoch [3/10], Train Loss: 0.6975, Validation Loss: 0.6765\n",
      "Epoch [4/10], Train Loss: 0.6777, Validation Loss: 0.6756\n",
      "Epoch [5/10], Train Loss: 0.6751, Validation Loss: 0.6715\n",
      "Epoch [6/10], Train Loss: 0.6718, Validation Loss: 0.6683\n",
      "Epoch [7/10], Train Loss: 0.6686, Validation Loss: 0.6651\n",
      "Epoch [8/10], Train Loss: 0.6653, Validation Loss: 0.6618\n",
      "Epoch [9/10], Train Loss: 0.6621, Validation Loss: 0.6587\n",
      "Epoch [10/10], Train Loss: 0.6589, Validation Loss: 0.6555\n"
     ]
    },
    {
     "data": {
      "image/png": "[encoded data removed]",
      "text/plain": [
       "<Figure size 1000x500 with 1 Axes>"
      ]
     },
     "metadata": {},
     "output_type": "display_data"
    },
    {
     "name": "stdout",
     "output_type": "stream",
     "text": [
      "Model Training Time: 1.3548367023468018 seconds\n"
     ]
    }
   ],
   "source": [
    "# TRAIN\n",
    "start_time = time.time()\n",
    "\n",
    "protvecpredictor = train_validation_loop(\"ProtVec\", 100, train_encodings, train_labels, val_encodings, val_labels)\n",
    "\n",
    "end_time = time.time()\n",
    "full_model_training_time = end_time - start_time\n",
    "print(f\"Model Training Time: {full_model_training_time} seconds\")"
   ]
  },
  {
   "cell_type": "markdown",
   "id": "d5eaa700",
   "metadata": {},
   "source": [
    "### ProtBERT"
   ]
  },
  {
   "cell_type": "code",
   "execution_count": 37,
   "id": "730e81b7",
   "metadata": {},
   "outputs": [],
   "source": [
    "# Prepare validation and train sequences by obeying the input processing rule of ProtBERT\n",
    "protbert_X_train = list(map(lambda x: re.sub(r\"[UZOB]\", \"X\", \" \".join(list(x.upper()))).replace(\"_\",\"-\"), X_train))\n",
    "protbert_X_val = list(map(lambda x: re.sub(r\"[UZOB]\", \"X\", \" \".join(list(x.upper()))).replace(\"_\",\"-\"), X_val))"
   ]
  },
  {
   "cell_type": "code",
   "execution_count": 38,
   "id": "b00ca04a",
   "metadata": {},
   "outputs": [
    {
     "name": "stdout",
     "output_type": "stream",
     "text": [
      "Epoch [1/10], Train Loss: 0.6407, Validation Loss: 0.6990\n",
      "Epoch [2/10], Train Loss: 0.6642, Validation Loss: 0.6451\n",
      "Epoch [3/10], Train Loss: 0.6380, Validation Loss: 0.6270\n",
      "Epoch [4/10], Train Loss: 0.6220, Validation Loss: 0.6127\n",
      "Epoch [5/10], Train Loss: 0.6091, Validation Loss: 0.6012\n",
      "Epoch [6/10], Train Loss: 0.5982, Validation Loss: 0.5917\n",
      "Epoch [7/10], Train Loss: 0.5886, Validation Loss: 0.5834\n",
      "Epoch [8/10], Train Loss: 0.5799, Validation Loss: 0.5759\n",
      "Epoch [9/10], Train Loss: 0.5717, Validation Loss: 0.5690\n",
      "Epoch [10/10], Train Loss: 0.5640, Validation Loss: 0.5626\n"
     ]
    },
    {
     "data": {
      "image/png": "[encoded data removed]",
      "text/plain": [
       "<Figure size 1000x500 with 1 Axes>"
      ]
     },
     "metadata": {},
     "output_type": "display_data"
    },
    {
     "name": "stdout",
     "output_type": "stream",
     "text": [
      "Model Training Time: 92.16055941581726 seconds\n"
     ]
    }
   ],
   "source": [
    "# TRAIN\n",
    "start_time = time.time()\n",
    "\n",
    "protbertpredictor = train_validation_loop_plm(\"ProtBERT\", protbertmodel, protberttokenizer,1024, protbert_X_train, train_labels, protbert_X_val, val_labels)\n",
    "\n",
    "end_time = time.time()\n",
    "full_model_training_time = end_time - start_time\n",
    "print(f\"Model Training Time: {full_model_training_time} seconds\")"
   ]
  },
  {
   "cell_type": "markdown",
   "id": "cd5b79e3",
   "metadata": {},
   "source": [
    "### ESM2"
   ]
  },
  {
   "cell_type": "code",
   "execution_count": 39,
   "id": "6aac108a",
   "metadata": {},
   "outputs": [],
   "source": [
    "# Prepare validation and train sequences by obeying the input processing rule of ESM2\n",
    "esm_X_train = list(map(lambda x: x.replace(\"_\",\"-\").upper(), X_train))\n",
    "esm_X_val = list(map(lambda x: x.replace(\"_\",\"-\").upper(), X_val))"
   ]
  },
  {
   "cell_type": "code",
   "execution_count": 40,
   "id": "9e0be10c",
   "metadata": {},
   "outputs": [
    {
     "name": "stdout",
     "output_type": "stream",
     "text": [
      "Epoch [1/10], Train Loss: 0.6698, Validation Loss: 0.6990\n",
      "Epoch [2/10], Train Loss: 0.6550, Validation Loss: 0.6282\n",
      "Epoch [3/10], Train Loss: 0.6246, Validation Loss: 0.6105\n",
      "Epoch [4/10], Train Loss: 0.6113, Validation Loss: 0.6004\n",
      "Epoch [5/10], Train Loss: 0.6017, Validation Loss: 0.5929\n",
      "Epoch [6/10], Train Loss: 0.5935, Validation Loss: 0.5861\n",
      "Epoch [7/10], Train Loss: 0.5862, Validation Loss: 0.5797\n",
      "Epoch [8/10], Train Loss: 0.5796, Validation Loss: 0.5741\n",
      "Epoch [9/10], Train Loss: 0.5735, Validation Loss: 0.5685\n",
      "Epoch [10/10], Train Loss: 0.5678, Validation Loss: 0.5633\n"
     ]
    },
    {
     "data": {
      "image/png": "[encoded data removed]",
      "text/plain": [
       "<Figure size 1000x500 with 1 Axes>"
      ]
     },
     "metadata": {},
     "output_type": "display_data"
    },
    {
     "name": "stdout",
     "output_type": "stream",
     "text": [
      "Model Training Time: 7.758981704711914 seconds\n"
     ]
    }
   ],
   "source": [
    "start_time = time.time()\n",
    "\n",
    "esmpredictor = train_validation_loop_plm(\"ESM2_8M\",esmmodel, esmtokenizer,320, esm_X_train, train_labels, esm_X_val, val_labels)\n",
    "\n",
    "end_time = time.time()\n",
    "full_model_training_time = end_time - start_time\n",
    "print(f\"Model Training Time: {full_model_training_time} seconds\")"
   ]
  },
  {
   "cell_type": "markdown",
   "id": "39f168bd",
   "metadata": {},
   "source": [
    "## Evaluation\n",
    "\n",
    "In this section, you can evaluate each trained predictor on the test split. Before evaluation, you should first prepare test input sequences according to correct format, that is, in which format predictor accepts the input. Since there are 2 distinct predictor classes (processing the data and feeding to the model steps are different in baseline approaches(OneHot Encoding) and transformer based approaches(ProtBERT, ESM2)), there are small differences in evaluating test sequences as well."
   ]
  },
  {
   "cell_type": "code",
   "execution_count": 41,
   "id": "7a4999e9",
   "metadata": {},
   "outputs": [],
   "source": [
    "# onehot representation\n",
    "onehot_test_encodings = [one_hot_encode(seq) for seq in X_test]\n",
    "# protvec representation\n",
    "protvec_test_encodings = [prepare_ProtVec(seq.upper(),TrigramToVec) for seq in X_test]\n",
    "# protbert compatible preprocessing of sequences\n",
    "protbert_X_test = list(map(lambda x: re.sub(r\"[UZOB]\", \"X\", \" \".join(list(x.upper()))).replace(\"_\",\"-\"), X_test))\n",
    "# esm2 compatible preprocessing of sequences\n",
    "esm_X_test = list(map(lambda x: x.replace(\"_\",\"-\").upper(), X_test))"
   ]
  },
  {
   "cell_type": "code",
   "execution_count": 42,
   "id": "973ebb4b",
   "metadata": {},
   "outputs": [],
   "source": [
    "\"\"\"\n",
    "modelname: model name\n",
    "predictor: trained predictor\n",
    "test_encodings: pre-calculated encodings \n",
    "test_labels: labels of test samples\n",
    "batch_size: 256\n",
    "\"\"\"\n",
    "\n",
    "def evaluate(modelname, predictor, test_encodings, test_labels, batch_size=256):\n",
    "    predictor.eval()  # evaluation mode\n",
    "    correct = 0\n",
    "    total = 0\n",
    "    all_labels = []\n",
    "    all_predictions = []\n",
    "    all_probabilities = []\n",
    "\n",
    "    print(modelname, \"evaluation results on test set:\")\n",
    "    \n",
    "    with torch.no_grad(): \n",
    "        # number of batches\n",
    "        num_batches = len(X_test) // batch_size\n",
    "        \n",
    "        for i in range(num_batches):\n",
    "            \n",
    "            # batch indices\n",
    "            start_idx = i * batch_size\n",
    "            end_idx = start_idx + batch_size\n",
    "            \n",
    "            # vector representations of  batch\n",
    "            test_representations = test_encodings[start_idx:end_idx]\n",
    "\n",
    "            test_representations = torch.tensor(test_representations, dtype=torch.float32)  \n",
    "            labels = torch.tensor(test_labels[start_idx:end_idx], dtype=torch.long)\n",
    "            \n",
    "            # provide representation vectors to predictor\n",
    "            outputs = predictor(test_representations) \n",
    "            \n",
    "            # Apply softmax to convert model output to probability\n",
    "            probabilities = torch.softmax(outputs, dim=1)\n",
    "            \n",
    "            # find predicted class \n",
    "            _, predicted = torch.max(outputs, 1)\n",
    "            \n",
    "            # compare predictions with true labels\n",
    "            correct += (predicted == labels).sum().item()\n",
    "            total += labels.size(0)\n",
    "\n",
    "            # save labels, predictions and prediction probabilities \n",
    "            all_labels.extend(labels.cpu().numpy())\n",
    "            all_predictions.extend(predicted.cpu().numpy())\n",
    "            all_probabilities.extend(probabilities[:, 1].cpu().numpy())  \n",
    "\n",
    "    # Accuracy\n",
    "    accuracy = 100 * correct / total\n",
    "\n",
    "    # F1 score and AUC\n",
    "    f1 = f1_score(all_labels, all_predictions)  \n",
    "    auc = roc_auc_score(all_labels, all_probabilities) \n",
    "\n",
    "    print(f'Test Accuracy: {accuracy:.2f}%')\n",
    "    print(f'F1 Score: {f1:.2f}')\n",
    "    print(f'AUC: {auc:.2f}')\n",
    "    \n",
    "\n"
   ]
  },
  {
   "cell_type": "code",
   "execution_count": 43,
   "id": "8d652077",
   "metadata": {},
   "outputs": [],
   "source": [
    "\"\"\"\n",
    "modelname: model name\n",
    "predictor: trained predictor\n",
    "tokenizer: tokenizer for corresponding predictor model \n",
    "X_test: test sequences\n",
    "test_labels: labels of test samples\n",
    "batch_size: 256\n",
    "\"\"\"\n",
    "def evaluate_plm(modelname, predictor, tokenizer, X_test, test_labels, batch_size=256):\n",
    "    predictor.eval() # evaluation mode\n",
    "    correct = 0\n",
    "    total = 0\n",
    "    all_labels = []\n",
    "    all_predictions = []\n",
    "    all_probabilities = []\n",
    "\n",
    "    print(modelname, \"evaluation results on test set:\")\n",
    "    with torch.no_grad():\n",
    "        \n",
    "        # number of batches\n",
    "        num_batches = len(X_test) // batch_size\n",
    "        \n",
    "        for i in range(num_batches):\n",
    "            \n",
    "            # batch indices\n",
    "            start_idx = i * batch_size\n",
    "            end_idx = start_idx + batch_size\n",
    "            \n",
    "            # batch sequences\n",
    "            test_sequences = X_test[start_idx:end_idx]\n",
    "            \n",
    "            # tokenize batch sequences \n",
    "            test_tokens = tokenizer(test_sequences, return_tensors=\"pt\", padding=\"max_length\", max_length=17)\n",
    "            \n",
    "            # provide token ids to predictor\n",
    "            outputs = predictor(test_tokens.to(\"cuda\"))\n",
    "            \n",
    "            # Apply softmax to convert model output to probability\n",
    "            probabilities = torch.softmax(outputs, dim=1)\n",
    "            \n",
    "            # find predicted class \n",
    "            _, predicted = torch.max(outputs, 1)\n",
    "            labels = test_labels[start_idx:end_idx].to(\"cuda\")\n",
    "            \n",
    "            # compare predictions with true labels\n",
    "            correct += (predicted == labels).sum().item()\n",
    "            total += labels.size(0)\n",
    "\n",
    "            # save labels, predictions and prediction probabilities \n",
    "            all_labels.extend(labels.cpu().numpy())\n",
    "            all_predictions.extend(predicted.cpu().numpy())\n",
    "            all_probabilities.extend(probabilities[:, 1].cpu().numpy())  \n",
    "\n",
    "    # Accuracy\n",
    "    accuracy = 100 * correct / total\n",
    "\n",
    "    # F1-Score and AUC \n",
    "    f1 = f1_score(all_labels, all_predictions) \n",
    "    auc = roc_auc_score(all_labels, all_probabilities)  \n",
    "\n",
    "    print(f'Test Accuracy: {accuracy:.2f}%')\n",
    "    print(f'F1 Score: {f1:.2f}')\n",
    "    print(f'AUC: {auc:.2f}')\n",
    "    \n"
   ]
  },
  {
   "cell_type": "code",
   "execution_count": 44,
   "id": "da0c937e",
   "metadata": {},
   "outputs": [
    {
     "name": "stdout",
     "output_type": "stream",
     "text": [
      "OneHotEncoding evaluation results on test set:\n",
      "Test Accuracy: 75.47%\n",
      "F1 Score: 0.76\n",
      "AUC: 0.83\n"
     ]
    },
    {
     "name": "stderr",
     "output_type": "stream",
     "text": [
      "/tmp/ipykernel_219219/1907537377.py:33: UserWarning: To copy construct from a tensor, it is recommended to use sourceTensor.clone().detach() or sourceTensor.clone().detach().requires_grad_(True), rather than torch.tensor(sourceTensor).\n",
      "  labels = torch.tensor(test_labels[start_idx:end_idx], dtype=torch.long)\n"
     ]
    }
   ],
   "source": [
    "evaluate(\"OneHotEncoding\",onehotpredictor, onehot_test_encodings, test_labels)"
   ]
  },
  {
   "cell_type": "code",
   "execution_count": 45,
   "id": "db729441",
   "metadata": {},
   "outputs": [
    {
     "name": "stdout",
     "output_type": "stream",
     "text": [
      "ProtVec evaluation results on test set:\n",
      "Test Accuracy: 64.06%\n",
      "F1 Score: 0.63\n",
      "AUC: 0.69\n"
     ]
    },
    {
     "name": "stderr",
     "output_type": "stream",
     "text": [
      "/tmp/ipykernel_219219/1907537377.py:33: UserWarning: To copy construct from a tensor, it is recommended to use sourceTensor.clone().detach() or sourceTensor.clone().detach().requires_grad_(True), rather than torch.tensor(sourceTensor).\n",
      "  labels = torch.tensor(test_labels[start_idx:end_idx], dtype=torch.long)\n"
     ]
    }
   ],
   "source": [
    "evaluate(\"ProtVec\",protvecpredictor, protvec_test_encodings, test_labels)"
   ]
  },
  {
   "cell_type": "code",
   "execution_count": 46,
   "id": "3466c8ba",
   "metadata": {},
   "outputs": [
    {
     "name": "stdout",
     "output_type": "stream",
     "text": [
      "ProtBERT evaluation results on test set:\n",
      "Test Accuracy: 69.30%\n",
      "F1 Score: 0.72\n",
      "AUC: 0.77\n"
     ]
    }
   ],
   "source": [
    "evaluate_plm(\"ProtBERT\",protbertpredictor,protberttokenizer, protbert_X_test, test_labels)"
   ]
  },
  {
   "cell_type": "code",
   "execution_count": 47,
   "id": "144d5c33",
   "metadata": {},
   "outputs": [
    {
     "name": "stdout",
     "output_type": "stream",
     "text": [
      "ESM2_8M evaluation results on test set:\n",
      "Test Accuracy: 70.08%\n",
      "F1 Score: 0.75\n",
      "AUC: 0.80\n"
     ]
    }
   ],
   "source": [
    "evaluate_plm(\"ESM2_8M\",esmpredictor,esmtokenizer, esm_X_test, test_labels)"
   ]
  },
  {
   "cell_type": "markdown",
   "id": "82306529",
   "metadata": {},
   "source": [
    "### What if we use ESM2 with 650M parameters?"
   ]
  },
  {
   "cell_type": "code",
   "execution_count": 48,
   "id": "31ab058f",
   "metadata": {},
   "outputs": [
    {
     "name": "stderr",
     "output_type": "stream",
     "text": [
      "Some weights of EsmModel were not initialized from the model checkpoint at facebook/esm2_t33_650M_UR50D and are newly initialized: ['esm.pooler.dense.bias', 'esm.pooler.dense.weight']\n",
      "You should probably TRAIN this model on a down-stream task to be able to use it for predictions and inference.\n"
     ]
    }
   ],
   "source": [
    "#  Load model\n",
    "modelname = \"facebook/esm2_t33_650M_UR50D\"\n",
    "esmbigmodel = AutoModel.from_pretrained(modelname).to(\"cuda\")\n",
    "esmbigtokenizer = AutoTokenizer.from_pretrained(modelname)"
   ]
  },
  {
   "cell_type": "code",
   "execution_count": 49,
   "id": "51fd40d3",
   "metadata": {},
   "outputs": [],
   "source": [
    "# Prepare validation and train sequences by obeying the input processing rule of ESM2\n",
    "esm_X_train = list(map(lambda x: x.replace(\"_\",\"-\").upper(), X_train))\n",
    "esm_X_val = list(map(lambda x: x.replace(\"_\",\"-\").upper(), X_val))"
   ]
  },
  {
   "cell_type": "code",
   "execution_count": 52,
   "id": "b4abd3cd",
   "metadata": {},
   "outputs": [
    {
     "name": "stdout",
     "output_type": "stream",
     "text": [
      "Epoch [1/50], Train Loss: 0.6142, Validation Loss: 0.6784\n",
      "Epoch [2/50], Train Loss: 0.6693, Validation Loss: 0.6608\n",
      "Epoch [3/50], Train Loss: 0.6548, Validation Loss: 0.6478\n",
      "Epoch [4/50], Train Loss: 0.6448, Validation Loss: 0.6390\n",
      "Epoch [5/50], Train Loss: 0.6369, Validation Loss: 0.6308\n",
      "Epoch [6/50], Train Loss: 0.6303, Validation Loss: 0.6237\n",
      "Epoch [7/50], Train Loss: 0.6251, Validation Loss: 0.6185\n",
      "Epoch [8/50], Train Loss: 0.6198, Validation Loss: 0.6131\n",
      "Epoch [9/50], Train Loss: 0.6149, Validation Loss: 0.6084\n",
      "Epoch [10/50], Train Loss: 0.6105, Validation Loss: 0.6031\n",
      "Epoch [11/50], Train Loss: 0.6062, Validation Loss: 0.5988\n",
      "Epoch [12/50], Train Loss: 0.6021, Validation Loss: 0.5942\n",
      "Epoch [13/50], Train Loss: 0.5980, Validation Loss: 0.5897\n",
      "Epoch [14/50], Train Loss: 0.5943, Validation Loss: 0.5859\n",
      "Epoch [15/50], Train Loss: 0.5904, Validation Loss: 0.5815\n",
      "Epoch [16/50], Train Loss: 0.5871, Validation Loss: 0.5777\n",
      "Epoch [17/50], Train Loss: 0.5831, Validation Loss: 0.5743\n",
      "Epoch [18/50], Train Loss: 0.5789, Validation Loss: 0.5700\n",
      "Epoch [19/50], Train Loss: 0.5755, Validation Loss: 0.5666\n",
      "Epoch [20/50], Train Loss: 0.5718, Validation Loss: 0.5626\n",
      "Epoch [21/50], Train Loss: 0.5683, Validation Loss: 0.5595\n",
      "Epoch [22/50], Train Loss: 0.5647, Validation Loss: 0.5558\n",
      "Epoch [23/50], Train Loss: 0.5615, Validation Loss: 0.5522\n",
      "Epoch [24/50], Train Loss: 0.5575, Validation Loss: 0.5491\n",
      "Epoch [25/50], Train Loss: 0.5542, Validation Loss: 0.5456\n",
      "Epoch [26/50], Train Loss: 0.5505, Validation Loss: 0.5421\n",
      "Epoch [27/50], Train Loss: 0.5477, Validation Loss: 0.5400\n",
      "Epoch [28/50], Train Loss: 0.5438, Validation Loss: 0.5364\n",
      "Epoch [29/50], Train Loss: 0.5408, Validation Loss: 0.5335\n",
      "Epoch [30/50], Train Loss: 0.5374, Validation Loss: 0.5304\n",
      "Epoch [31/50], Train Loss: 0.5341, Validation Loss: 0.5272\n",
      "Epoch [32/50], Train Loss: 0.5307, Validation Loss: 0.5241\n",
      "Epoch [33/50], Train Loss: 0.5277, Validation Loss: 0.5215\n",
      "Epoch [34/50], Train Loss: 0.5246, Validation Loss: 0.5186\n",
      "Epoch [35/50], Train Loss: 0.5211, Validation Loss: 0.5156\n",
      "Epoch [36/50], Train Loss: 0.5181, Validation Loss: 0.5126\n",
      "Epoch [37/50], Train Loss: 0.5153, Validation Loss: 0.5103\n",
      "Epoch [38/50], Train Loss: 0.5122, Validation Loss: 0.5071\n",
      "Epoch [39/50], Train Loss: 0.5089, Validation Loss: 0.5045\n",
      "Epoch [40/50], Train Loss: 0.5065, Validation Loss: 0.5027\n",
      "Epoch [41/50], Train Loss: 0.5035, Validation Loss: 0.4997\n",
      "Epoch [42/50], Train Loss: 0.5006, Validation Loss: 0.4976\n",
      "Epoch [43/50], Train Loss: 0.4977, Validation Loss: 0.4952\n",
      "Epoch [44/50], Train Loss: 0.4948, Validation Loss: 0.4927\n",
      "Epoch [45/50], Train Loss: 0.4920, Validation Loss: 0.4900\n",
      "Epoch [46/50], Train Loss: 0.4894, Validation Loss: 0.4879\n",
      "Epoch [47/50], Train Loss: 0.4866, Validation Loss: 0.4840\n",
      "Epoch [48/50], Train Loss: 0.4850, Validation Loss: 0.4832\n",
      "Epoch [49/50], Train Loss: 0.4817, Validation Loss: 0.4802\n",
      "Epoch [50/50], Train Loss: 0.4792, Validation Loss: 0.4781\n"
     ]
    },
    {
     "data": {
      "image/png": "[encoded data removed]",
      "text/plain": [
       "<Figure size 1000x500 with 1 Axes>"
      ]
     },
     "metadata": {},
     "output_type": "display_data"
    },
    {
     "name": "stdout",
     "output_type": "stream",
     "text": [
      "Model Training Time: 874.8688189983368 seconds\n"
     ]
    }
   ],
   "source": [
    "start_time = time.time()\n",
    "\n",
    "esmbigpredictor = train_validation_loop_plm(\"ESM2_650M\",esmbigmodel, esmbigtokenizer,1280, esm_X_train, train_labels, esm_X_val, val_labels, num_epochs=50)\n",
    "\n",
    "end_time = time.time()\n",
    "full_model_training_time = end_time - start_time\n",
    "print(f\"Model Training Time: {full_model_training_time} seconds\")"
   ]
  },
  {
   "cell_type": "code",
   "execution_count": 53,
   "id": "403f6b23",
   "metadata": {},
   "outputs": [
    {
     "name": "stdout",
     "output_type": "stream",
     "text": [
      "ESM2_650M evaluation results on test set:\n",
      "Test Accuracy: 77.27%\n",
      "F1 Score: 0.80\n",
      "AUC: 0.87\n"
     ]
    }
   ],
   "source": [
    "evaluate_plm(\"ESM2_650M\",esmbigpredictor,esmbigtokenizer, esm_X_test, test_labels)"
   ]
  },
  {
   "cell_type": "code",
   "execution_count": null,
   "id": "2029ec33",
   "metadata": {},
   "outputs": [],
   "source": []
  }
 ],
 "metadata": {
  "kernelspec": {
   "display_name": "Python 3 (ipykernel)",
   "language": "python",
   "name": "python3"
  },
  "language_info": {
   "codemirror_mode": {
    "name": "ipython",
    "version": 3
   },
   "file_extension": ".py",
   "mimetype": "text/x-python",
   "name": "python",
   "nbconvert_exporter": "python",
   "pygments_lexer": "ipython3",
   "version": "3.10.12"
  }
 },
 "nbformat": 4,
 "nbformat_minor": 5
}
